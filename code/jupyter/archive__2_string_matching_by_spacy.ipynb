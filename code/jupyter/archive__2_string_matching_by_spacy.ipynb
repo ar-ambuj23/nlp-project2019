{
 "cells": [
  {
   "cell_type": "code",
   "execution_count": null,
   "metadata": {},
   "outputs": [],
   "source": []
  },
  {
   "cell_type": "code",
   "execution_count": 61,
   "metadata": {},
   "outputs": [
    {
     "name": "stdout",
     "output_type": "stream",
     "text": [
      "Washington\n",
      ", Feb. 22 (Bloomberg\n",
      "<COREF\n",
      "its Northrop Grumman Corp. F-14s\n",
      "the skies\n",
      "it\n",
      "three recent F-14 crashes\n"
     ]
    }
   ],
   "source": [
    "import spacy\n",
    "nlp = spacy.load(\"en_core_web_sm\")\n",
    "doc = nlp(u'Washington, Feb. 22 (Bloomberg) -- The <COREF ID=\"X4\">Navy</COREF> ordered its Northrop Grumman Corp. F-14s out of the skies for <COREF ID=\"X5\">three days</COREF> while it investigates three recent F-14 crashes.')\n",
    "for np in doc.noun_chunks:\n",
    "    if(np.text == 'PRON'):\n",
    "        print(np)"
   ]
  },
  {
   "cell_type": "code",
   "execution_count": 52,
   "metadata": {},
   "outputs": [
    {
     "name": "stdout",
     "output_type": "stream",
     "text": [
      "[1, 4, 5, 8, 11]\n",
      "basket\n",
      "door\n",
      "the basket near the door\n",
      "basket\n",
      "the door\n"
     ]
    }
   ],
   "source": [
    "index = 0\n",
    "nounIndices = []\n",
    "for token in doc:\n",
    "    # print(token.text, token.pos_, token.dep_, token.head.text)\n",
    "    if token.pos_ == 'NOUN':\n",
    "        nounIndices.append(index)\n",
    "    index = index + 1\n",
    "\n",
    "\n",
    "print(nounIndices)\n",
    "for idxValue in nounIndices:\n",
    "    doc = nlp(\"The cat and the dog sleep in the basket near the door.\")\n",
    "    span = doc[doc[idxValue].left_edge.i : doc[idxValue].right_edge.i+1]\n",
    "    span.merge()\n",
    "\n",
    "    for token in doc:\n",
    "        if token.dep_ == 'dobj' or token.dep_ == 'pobj':\n",
    "            print(token.text)"
   ]
  },
  {
   "cell_type": "code",
   "execution_count": 47,
   "metadata": {},
   "outputs": [],
   "source": [
    "from spacy.symbols import *\n",
    "\n",
    "np_labels = set([nsubj, nsubjpass, dobj, iobj, pobj]) # Probably others too\n",
    "def iter_nps(doc):\n",
    "    for word in doc:\n",
    "        if word.dep in np_labels:\n",
    "            yield word.subtree"
   ]
  },
  {
   "cell_type": "code",
   "execution_count": 48,
   "metadata": {},
   "outputs": [
    {
     "name": "stdout",
     "output_type": "stream",
     "text": [
      "[the, basket, near, the, door]\n",
      "[the, door]\n"
     ]
    }
   ],
   "source": [
    "for a in list(iter_nps(doc)):\n",
    "    print(list(a))"
   ]
  },
  {
   "cell_type": "code",
   "execution_count": 26,
   "metadata": {},
   "outputs": [
    {
     "data": {
      "text/plain": [
       "[The cat, the dog sleep, the basket, the door, I, another sentence]"
      ]
     },
     "execution_count": 26,
     "metadata": {},
     "output_type": "execute_result"
    }
   ],
   "source": [
    "list(doc.noun_chunks)"
   ]
  },
  {
   "cell_type": "code",
   "execution_count": 31,
   "metadata": {},
   "outputs": [
    {
     "data": {
      "text/plain": [
       "'The cat and the dog sleep in the basket near the door. Hey, I am another sentence.'"
      ]
     },
     "execution_count": 31,
     "metadata": {},
     "output_type": "execute_result"
    }
   ],
   "source": [
    "doc.text"
   ]
  },
  {
   "cell_type": "code",
   "execution_count": 28,
   "metadata": {},
   "outputs": [
    {
     "data": {
      "text/plain": [
       "[The cat and the dog sleep in the basket near the door.,\n",
       " Hey, I am another sentence.]"
      ]
     },
     "execution_count": 28,
     "metadata": {},
     "output_type": "execute_result"
    }
   ],
   "source": [
    "list(doc.sents)"
   ]
  },
  {
   "cell_type": "code",
   "execution_count": 12,
   "metadata": {},
   "outputs": [
    {
     "name": "stdout",
     "output_type": "stream",
     "text": [
      "The the DET DT det Xxx True True\n",
      "det\n",
      "cat cat NOUN NN ROOT xxx True False\n",
      "ROOT\n",
      "and and CCONJ CC cc xxx True True\n",
      "cc\n",
      "the the DET DT det xxx True True\n",
      "det\n",
      "dog dog NOUN NN compound xxx True False\n",
      "compound\n",
      "sleep sleep NOUN NN conj xxxx True False\n",
      "conj\n",
      "in in ADP IN prep xx True True\n",
      "prep\n",
      "the the DET DT det xxx True True\n",
      "det\n",
      "basket basket NOUN NN pobj xxxx True False\n",
      "pobj\n",
      "near near SCONJ IN prep xxxx True False\n",
      "prep\n",
      "the the DET DT det xxx True True\n",
      "det\n",
      "door door NOUN NN pobj xxxx True False\n",
      "pobj\n",
      ". . PUNCT . punct . False False\n",
      "punct\n"
     ]
    }
   ],
   "source": [
    "for token in doc:\n",
    "    print(token.text, token.lemma_, token.pos_, token.tag_, token.dep_,\n",
    "            token.shape_, token.is_alpha, token.is_stop)\n",
    "    print(token.dep_)"
   ]
  },
  {
   "cell_type": "code",
   "execution_count": null,
   "metadata": {},
   "outputs": [],
   "source": []
  }
 ],
 "metadata": {
  "kernelspec": {
   "display_name": "Python 3",
   "language": "python",
   "name": "python3"
  },
  "language_info": {
   "codemirror_mode": {
    "name": "ipython",
    "version": 3
   },
   "file_extension": ".py",
   "mimetype": "text/x-python",
   "name": "python",
   "nbconvert_exporter": "python",
   "pygments_lexer": "ipython3",
   "version": "3.7.4"
  }
 },
 "nbformat": 4,
 "nbformat_minor": 2
}
