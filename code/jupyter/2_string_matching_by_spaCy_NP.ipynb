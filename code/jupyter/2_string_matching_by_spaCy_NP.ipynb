{
 "cells": [
  {
   "cell_type": "code",
   "execution_count": 95,
   "metadata": {},
   "outputs": [],
   "source": [
    "# https://stackoverflow.com/questions/33289820/noun-phrases-with-spacy"
   ]
  },
  {
   "cell_type": "code",
   "execution_count": 4,
   "metadata": {},
   "outputs": [],
   "source": [
    "from reader import *"
   ]
  },
  {
   "cell_type": "code",
   "execution_count": 3,
   "metadata": {},
   "outputs": [],
   "source": [
    "from fuzzywuzzy import fuzz"
   ]
  },
  {
   "cell_type": "code",
   "execution_count": 4,
   "metadata": {},
   "outputs": [],
   "source": [
    "import spacy\n",
    "nlp = spacy.load(\"en_core_web_sm\")"
   ]
  },
  {
   "cell_type": "code",
   "execution_count": 5,
   "metadata": {},
   "outputs": [],
   "source": [
    "input_path = '/Users/ambuj/Documents/MS Stuff/nlp_cs_6340/final_project/nlp-project2019/dev/a9.input'\n",
    "key_path = '/Users/ambuj/Documents/MS Stuff/nlp_cs_6340/final_project/nlp-project2019/dev/a9.key'"
   ]
  },
  {
   "cell_type": "code",
   "execution_count": 6,
   "metadata": {},
   "outputs": [],
   "source": [
    "reader = ReadInput(input_path)\n",
    "list_of_sentences = reader.getListOfSentences()\n",
    "# print(list_of_sentences)\n",
    "full_text = reader.getText()\n",
    "# print(full_text)"
   ]
  },
  {
   "cell_type": "code",
   "execution_count": 7,
   "metadata": {},
   "outputs": [],
   "source": [
    "sentence_dict = getSentenceDict(list_of_sentences)\n",
    "cluster_head_dict = getClusterHeads(sentence_dict)"
   ]
  },
  {
   "cell_type": "code",
   "execution_count": 8,
   "metadata": {},
   "outputs": [],
   "source": [
    "def getRemText(sent_id, sentence_dict):\n",
    "    rem_text = {}\n",
    "    for sid in sentence_dict.keys():\n",
    "        if(sid >= sent_id): \n",
    "            rem_text[sid] = sentence_dict[sid]\n",
    "    sorted_rem_text = dict(sorted(rem_text.items(), key = lambda x:x[0]))\n",
    "    return sorted_rem_text"
   ]
  },
  {
   "cell_type": "code",
   "execution_count": 9,
   "metadata": {},
   "outputs": [],
   "source": [
    "def getSimilarityScore(cluster_head_name,noun_phrase):\n",
    "    ## When NP will be used, then partial_ratio will be used\n",
    "    return fuzz.partial_ratio(cluster_head_name.lower(),noun_phrase.lower_)"
   ]
  },
  {
   "cell_type": "code",
   "execution_count": 1,
   "metadata": {},
   "outputs": [],
   "source": [
    "def getCorefDict_match_NP(sentence_dict, cluster_head_dict, threshold):\n",
    "    \n",
    "    ## Initialise a coref_dict \n",
    "    coref_dict = {}\n",
    "    \n",
    "    for cluster_id, cluster_value in cluster_head_dict.items():\n",
    "\n",
    "        current_cluster_sent_id = cluster_value[0]        \n",
    "        current_cluster_head = cluster_value[1]\n",
    "        \n",
    "        remaining_text = getRemText(current_cluster_sent_id, sentence_dict)\n",
    "        \n",
    "        for sid, sentence in remaining_text.items():\n",
    "\n",
    "            clean = re.compile('<COREF .*?>.*?</COREF>') ## removing all coref tags from the current sentence\n",
    "            clean_sentence = re.sub(clean, '', sentence)\n",
    "\n",
    "            doc = nlp(clean_sentence)\n",
    "            \n",
    "            for np in doc.noun_chunks:\n",
    "                \n",
    "                ## If the NP is a pronoun, ignore it. \n",
    "                ## We are handling pronouns by Hobb's algorithm\n",
    "                if(len(np) == 1 and np[0].pos_ == 'PRON'):\n",
    "                    continue\n",
    "                \n",
    "                similarity_score = getSimilarityScore(current_cluster_head,np)\n",
    "                \n",
    "                if(similarity_score > threshold):\n",
    "                    if(cluster_id not in coref_dict.keys()):\n",
    "\n",
    "                        coref_dict[cluster_id] = [list([current_cluster_head, sid, np.text, similarity_score])]\n",
    "                    else:\n",
    "                        coref_dict[cluster_id].append(list([current_cluster_head, sid, np.text, similarity_score]))\n",
    "    return coref_dict"
   ]
  },
  {
   "cell_type": "code",
   "execution_count": 11,
   "metadata": {
    "scrolled": true
   },
   "outputs": [],
   "source": [
    "coref_dict = getCorefDict_match_NP(sentence_dict, cluster_head_dict,80)"
   ]
  },
  {
   "cell_type": "code",
   "execution_count": 12,
   "metadata": {
    "scrolled": true
   },
   "outputs": [
    {
     "data": {
      "text/plain": [
       "{'X0': [['F14-CRASHES', 5, BC-F14-CRASHES-BLOOM, 100],\n",
       "  ['F14-CRASHES', 10, three recent F-14 crashes, 82]],\n",
       " 'X1': [['02-22', 34, NYT-02-22-96 1221EST, 100]],\n",
       " 'X2': [['NORTHROP GRUMMAN F-14S', 13, an F-14D, 88],\n",
       "  ['NORTHROP GRUMMAN F-14S', 14, an F-14A, 88],\n",
       "  ['NORTHROP GRUMMAN F-14S', 17, all F-14s, 82],\n",
       "  ['NORTHROP GRUMMAN F-14S', 29, Northrop Grumman, 100],\n",
       "  ['NORTHROP GRUMMAN F-14S', 33, Northrop Grumman shares, 82]],\n",
       " 'X4': [['Navy', 12, the Navy, 100],\n",
       "  ['Navy', 16, the Navy, 100],\n",
       "  ['Navy', 17, the Navy, 100],\n",
       "  ['Navy', 20, the Navy's first-line fighter aircraft, 100],\n",
       "  ['Navy', 22, The Navy, 100],\n",
       "  ['Navy', 26, The Navy, 100],\n",
       "  ['Navy', 27, Navy jet fighter aircraft, 100],\n",
       "  ['Navy', 30, the Navy, 100],\n",
       "  ['Navy', 31, the Navy, 100]],\n",
       " 'X5': [['three days', 32, three days, 100]],\n",
       " 'X6': [['Persian Gulf', 18, the Persian Gulf, 100]],\n",
       " 'X7': [['a 72-hour safety standdown', 18, the standdown, 88]],\n",
       " 'X8': [['Lt. Greg Geisen', 18, Geisen, 100],\n",
       "  ['Lt. Greg Geisen', 27, Geisen, 100],\n",
       "  ['Lt. Greg Geisen', 28, Geisen, 100],\n",
       "  ['Lt. Greg Geisen', 32, Geisen, 100]],\n",
       " 'X9': [['the F-14', 20, The F14, 86]],\n",
       " 'X15': [['Northrop Grumman spokesman John Vosilla',\n",
       "   33,\n",
       "   Northrop Grumman shares,\n",
       "   87]]}"
      ]
     },
     "execution_count": 12,
     "metadata": {},
     "output_type": "execute_result"
    }
   ],
   "source": [
    "coref_dict"
   ]
  },
  {
   "cell_type": "code",
   "execution_count": 13,
   "metadata": {},
   "outputs": [],
   "source": [
    "reader_o = ReadInput(key_path)\n",
    "ans = reader_o.getListOfSentences()"
   ]
  },
  {
   "cell_type": "code",
   "execution_count": 14,
   "metadata": {
    "scrolled": true
   },
   "outputs": [
    {
     "data": {
      "text/plain": [
       "['<COREF ID=\"X0\">F14-CRASHES</COREF>\\n',\n",
       " '{5} {F14-CRASHES} {CRASHES}\\n',\n",
       " '{6} {ACCIDENTS} {ACCIDENTS}\\n',\n",
       " '{10} {three recent F-14 crashes} {crashes}\\n',\n",
       " '{16} {the recent mishaps involving F-14As and Ds} {mishaps}\\n',\n",
       " '{17} {these mishaps} {mishaps}\\n',\n",
       " '{32} {the three recent crashes} {crashes}\\n',\n",
       " '\\n',\n",
       " '<COREF ID=\"X1\">02-22</COREF>\\n',\n",
       " '{10} {Feb. 22} {Feb. 22}\\n',\n",
       " '{11} {today} {today}\\n',\n",
       " '{34} {02-22-96} {02-22-96}\\n',\n",
       " '\\n',\n",
       " '<COREF ID=\"X2\">NORTHROP GRUMMAN F-14S</COREF>\\n',\n",
       " '{10} {its Northrop Grumman Corp. F-14s} {F-14s}\\n',\n",
       " '{16} {all F-14 aircraft} {F-14 aircraft}\\n',\n",
       " '{17} {all F-14s} {F-14s}\\n',\n",
       " '{22} {about 330 F-14s} {F-14s}\\n',\n",
       " '{29} {The planes} {planes}\\n',\n",
       " '\\n',\n",
       " '<COREF ID=\"X3\">Bloomberg Business News</COREF>\\n',\n",
       " '{10} {Bloomberg} {Bloomberg}\\n',\n",
       " '\\n',\n",
       " '<COREF ID=\"X4\">Navy</COREF>\\n',\n",
       " '{10} {it} {it}\\n',\n",
       " '{12} {Navy} {Navy}\\n',\n",
       " '{16} {Navy} {Navy}\\n',\n",
       " '{17} {Navy} {Navy}\\n',\n",
       " '{22} {Navy} {Navy}\\n',\n",
       " '{26} {Navy} {Navy}\\n',\n",
       " '{27} {Navy} {Navy}\\n',\n",
       " '{30} {Navy} {Navy}\\n',\n",
       " '{31} {Navy} {Navy}\\n',\n",
       " '\\n',\n",
       " '<COREF ID=\"X5\">three days</COREF>\\n',\n",
       " '{32} {three days} {days}\\n',\n",
       " '\\n',\n",
       " '<COREF ID=\"X6\">Persian Gulf</COREF>\\n',\n",
       " '{18} {Persian Gulf} {Persian Gulf}\\n',\n",
       " '\\n',\n",
       " '<COREF ID=\"X7\">a 72-hour safety standdown</COREF>\\n',\n",
       " '{18} {the standdown} {standdown}\\n',\n",
       " '\\n',\n",
       " '<COREF ID=\"X8\">Lt. Greg Geisen</COREF>\\n',\n",
       " '{16} {a Navy spokesman} {spokesman}\\n',\n",
       " '{18} {Geisen} {Geisen}\\n',\n",
       " '{27} {Geisen} {Geisen}\\n',\n",
       " '{28} {Geisen} {Geisen}\\n',\n",
       " '{32} {Geisen} {Geisen}\\n',\n",
       " '\\n',\n",
       " '<COREF ID=\"X9\">the F-14</COREF>\\n',\n",
       " '{17} {F-14} {F-14}\\n',\n",
       " \"{20} {The F14 ``Tomcat''} {F14|``Tomcat''}\\n\",\n",
       " \"{20} {the Navy's first-line fighter aircraft} {aircraft}\\n\",\n",
       " '{21} {It} {It}\\n',\n",
       " '{28} {The aircraft} {aircraft}\\n',\n",
       " '\\n',\n",
       " '<COREF ID=\"X10\">14 F-14s on board the USS America</COREF>\\n',\n",
       " '{19} {Those planes} {planes}\\n',\n",
       " '\\n',\n",
       " '<COREF ID=\"X11\">Pratt @amp; Whitney</COREF>\\n',\n",
       " '{24} {a unit of United Technologies Corp} {unit}\\n',\n",
       " '\\n',\n",
       " '<COREF ID=\"X12\">F-14 32 crashes since 1991</COREF>\\n',\n",
       " '{27} {That figure} {figure}\\n',\n",
       " '\\n',\n",
       " '<COREF ID=\"X13\">the mid 1970s</COREF>\\n',\n",
       " '{28} {then} {then}\\n',\n",
       " '\\n',\n",
       " '<COREF ID=\"X14\">Grumman Corp.</COREF>\\n',\n",
       " '{29} {now Northrop Grumman} {Northrop Grumman}\\n',\n",
       " '{30} {The company} {company}\\n',\n",
       " '{33} {Northrop Grumman} {Northrop Grumman}\\n',\n",
       " '\\n',\n",
       " '<COREF ID=\"X15\">Northrop Grumman spokesman John Vosilla</COREF>\\n',\n",
       " '{31} {He} {He}\\n']"
      ]
     },
     "execution_count": 14,
     "metadata": {},
     "output_type": "execute_result"
    }
   ],
   "source": [
    "ans"
   ]
  },
  {
   "cell_type": "code",
   "execution_count": null,
   "metadata": {},
   "outputs": [],
   "source": []
  },
  {
   "cell_type": "code",
   "execution_count": null,
   "metadata": {},
   "outputs": [],
   "source": []
  }
 ],
 "metadata": {
  "kernelspec": {
   "display_name": "Python 3",
   "language": "python",
   "name": "python3"
  },
  "language_info": {
   "codemirror_mode": {
    "name": "ipython",
    "version": 3
   },
   "file_extension": ".py",
   "mimetype": "text/x-python",
   "name": "python",
   "nbconvert_exporter": "python",
   "pygments_lexer": "ipython3",
   "version": "3.7.4"
  }
 },
 "nbformat": 4,
 "nbformat_minor": 2
}
