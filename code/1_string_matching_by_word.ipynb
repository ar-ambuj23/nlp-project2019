{
 "cells": [
  {
   "cell_type": "code",
   "execution_count": 1,
   "metadata": {},
   "outputs": [],
   "source": [
    "from coref import *"
   ]
  },
  {
   "cell_type": "code",
   "execution_count": 3,
   "metadata": {},
   "outputs": [],
   "source": [
    "# https://www.datacamp.com/community/tutorials/fuzzy-string-python\n",
    "from fuzzywuzzy import fuzz"
   ]
  },
  {
   "cell_type": "code",
   "execution_count": 26,
   "metadata": {},
   "outputs": [],
   "source": [
    "input_path = '/Users/ambuj/Documents/MS Stuff/nlp_cs_6340/final_project/nlp-project2019/dev/a10.input'\n",
    "key_path = '/Users/ambuj/Documents/MS Stuff/nlp_cs_6340/final_project/nlp-project2019/dev/a10.key'"
   ]
  },
  {
   "cell_type": "code",
   "execution_count": 27,
   "metadata": {},
   "outputs": [],
   "source": [
    "reader = ReadInput(input_path)\n",
    "list_of_sentences = reader.getListOfSentences()\n",
    "# print(list_of_sentences)\n",
    "full_text = reader.getText()\n",
    "# print(full_text)"
   ]
  },
  {
   "cell_type": "code",
   "execution_count": 28,
   "metadata": {},
   "outputs": [],
   "source": [
    "sentence_dict = getSentenceDict(list_of_sentences)\n",
    "cluster_head_dict = getClusterHeads(sentence_dict)"
   ]
  },
  {
   "cell_type": "code",
   "execution_count": 29,
   "metadata": {},
   "outputs": [],
   "source": [
    "def getRemText(sent_id, sentence_dict):\n",
    "    rem_text = {}\n",
    "    for sid in sentence_dict.keys():\n",
    "        if(sid >= sent_id): \n",
    "            rem_text[sid] = sentence_dict[sid]\n",
    "    sorted_rem_text = dict(sorted(rem_text.items(), key = lambda x:x[0]))\n",
    "    return sorted_rem_text"
   ]
  },
  {
   "cell_type": "code",
   "execution_count": 30,
   "metadata": {},
   "outputs": [],
   "source": [
    "def getSimilarityScore(cluster_head_name,word):\n",
    "    ## Not using sort_ratio because considering single words. \n",
    "    ## When NP will be used, them partial_ratio will be used\n",
    "    return fuzz.ratio(cluster_head_name.lower(),word.lower())"
   ]
  },
  {
   "cell_type": "code",
   "execution_count": 54,
   "metadata": {},
   "outputs": [],
   "source": [
    "def getCorefDict(sentence_dict, cluster_head_dict, threshold):\n",
    "    \n",
    "    ## Initialise a coref_dict \n",
    "    coref_dict = {}\n",
    "    \n",
    "    for cluster_id, cluster_value in cluster_head_dict.items():\n",
    "\n",
    "        current_cluster_sent_id = cluster_value[0]        \n",
    "        current_cluster_head = cluster_value[1]\n",
    "        \n",
    "#         print(current_cluster_head, len(current_cluster_head.split()))\n",
    "        \n",
    "        if(len(current_cluster_head.split()) == 1):\n",
    "           \n",
    "            remaining_text = getRemText(current_cluster_sent_id, sentence_dict)\n",
    "\n",
    "            for sid, sentence in remaining_text.items():\n",
    "\n",
    "                clean = re.compile('<COREF .*?>.*?</COREF>') ## removing all coref tags from the current sentence\n",
    "                clean_sentence = re.sub(clean, '', sentence)            \n",
    "                \n",
    "                for word in clean_sentence.split():\n",
    "\n",
    "                    similarity_score = getSimilarityScore(current_cluster_head,word)\n",
    "                    if(similarity_score > threshold):\n",
    "    #                     print(cluster_id, current_cluster_head, word, sid, similarity_score)\n",
    "                        if(cluster_id not in coref_dict.keys()):\n",
    "                            coref_dict[cluster_id] = [list([sid, word])]\n",
    "                        else:\n",
    "                            coref_dict[cluster_id].append(list([sid, word]))\n",
    "    return coref_dict"
   ]
  },
  {
   "cell_type": "code",
   "execution_count": 55,
   "metadata": {
    "scrolled": true
   },
   "outputs": [],
   "source": [
    "coref_dict = getCorefDict(sentence_dict, cluster_head_dict,90)"
   ]
  },
  {
   "cell_type": "code",
   "execution_count": 59,
   "metadata": {
    "scrolled": true
   },
   "outputs": [
    {
     "data": {
      "text/plain": [
       "{'X2': [[10, 'Navy'],\n",
       "  [12, 'Navy'],\n",
       "  [13, 'Navy'],\n",
       "  [15, 'Navy'],\n",
       "  [19, 'Navy'],\n",
       "  [21, 'Navy'],\n",
       "  [27, 'Navy'],\n",
       "  [30, 'Navy'],\n",
       "  [31, 'Navy'],\n",
       "  [35, 'Navy'],\n",
       "  [36, 'Navy']],\n",
       " 'X5': [[19, 'Thursday'], [26, 'Thursday']],\n",
       " 'X12': [[23, 'carrier'], [29, 'carrier']]}"
      ]
     },
     "execution_count": 59,
     "metadata": {},
     "output_type": "execute_result"
    }
   ],
   "source": [
    "coref_dict"
   ]
  },
  {
   "cell_type": "code",
   "execution_count": null,
   "metadata": {},
   "outputs": [],
   "source": []
  },
  {
   "cell_type": "code",
   "execution_count": 60,
   "metadata": {},
   "outputs": [],
   "source": [
    "reader_o = ReadInput(key_path)\n",
    "ans = reader_o.getListOfSentences()"
   ]
  },
  {
   "cell_type": "code",
   "execution_count": 61,
   "metadata": {
    "scrolled": true
   },
   "outputs": [
    {
     "data": {
      "text/plain": [
       "['<COREF ID=\"X0\">GROUNDED-JETS</COREF>\\n',\n",
       " '{5} {GROUNDED-JETS} {JETS}\\n',\n",
       " '{21} {F-14s} {F-14s}\\n',\n",
       " '{25} {the F-14s} {F-14s}\\n',\n",
       " '\\n',\n",
       " '<COREF ID=\"X1\">02-22</COREF>\\n',\n",
       " '{38} {02-22-96} {02-22-96}\\n',\n",
       " '\\n',\n",
       " '<COREF ID=\"X2\">NAVY</COREF>\\n',\n",
       " '{10} {Navy} {Navy}\\n',\n",
       " '{12} {Navy} {Navy}\\n',\n",
       " '{13} {Navy} {Navy}\\n',\n",
       " '{15} {Navy} {Navy}\\n',\n",
       " '{19} {Navy} {Navy}\\n',\n",
       " '{21} {Navy} {Navy}\\n',\n",
       " '{27} {Navy} {Navy}\\n',\n",
       " '{30} {Navy} {Navy}\\n',\n",
       " '{35} {Navy} {Navy}\\n',\n",
       " '{36} {Navy} {Navy}\\n',\n",
       " '{36} {they} {they}\\n',\n",
       " '\\n',\n",
       " '<COREF ID=\"X3\">THIRD RECENT CRASH</COREF>\\n',\n",
       " \"{10} {the third ``Tomcat'' crash in a month} {crash}\\n\",\n",
       " '{10} {the second in a week} {second}\\n',\n",
       " '{19} {the crash} {crash}\\n',\n",
       " '{19} {the third Tomcat crash} {crash}\\n',\n",
       " '{26} {the latest crash} {crash}\\n',\n",
       " '\\n',\n",
       " '<COREF ID=\"X4\">entire fleet of F-14 airplanes</COREF>\\n',\n",
       " '{26} {the entire fleet of more than 300 aircraft} {fleet}\\n',\n",
       " '\\n',\n",
       " '<COREF ID=\"X5\">Thursday</COREF>\\n',\n",
       " '{19} {Thursday} {Thursday}\\n',\n",
       " '{26} {Thursday} {Thursday}\\n',\n",
       " '\\n',\n",
       " '<COREF ID=\"X6\">The 72-hour ``safety stand-down\\'\\'</COREF>\\n',\n",
       " '{25} {the stand-down} {stand-down}\\n',\n",
       " '{26} {the standdown} {standdown}\\n',\n",
       " '\\n',\n",
       " '<COREF ID=\"X7\">an F-14 fighter</COREF>\\n',\n",
       " '{12} {the aircraft} {aircraft}\\n',\n",
       " '{19} {the aircraft} {the aircraft}\\n',\n",
       " '{31} {The Tomcat} {Tomcat}\\n',\n",
       " '{31} {a $38 million, twin-engine aircraft} {aircraft}\\n',\n",
       " '{31} {the standard fighter plane} {plane}\\n',\n",
       " '{32} {The aircraft} {aircraft}\\n',\n",
       " '{34} {the F-14} {F-14}\\n',\n",
       " '{35} {F-14} {F-14}\\n',\n",
       " '\\n',\n",
       " '<COREF ID=\"X8\">the two Naval aviators on board</COREF>\\n',\n",
       " '{12} {they} {they}\\n',\n",
       " '{13} {both men} {men}\\n',\n",
       " '\\n',\n",
       " '<COREF ID=\"X9\">Defense Department spokesman Kenneth Bacon</COREF>\\n',\n",
       " '{24} {Bacon} {Bacon}\\n',\n",
       " '{26} {Bacon} {Bacon}\\n',\n",
       " '{27} {Bacon} {Bacon}\\n',\n",
       " '{35} {Bacon} {Bacon}\\n',\n",
       " '{36} {me} {me}\\n',\n",
       " '{36} {Bacon} {Bacon}\\n',\n",
       " '\\n',\n",
       " '<COREF ID=\"X10\">A safety stand-down</COREF>\\n',\n",
       " '{20} {a procedure the military uses to conduct an intensive review} {procedure}\\n',\n",
       " '{21} {this three-day period} {period}\\n',\n",
       " '\\n',\n",
       " '<COREF ID=\"X11\">the USS America</COREF>\\n',\n",
       " '{22} {the aircraft carrier} {carrier}\\n',\n",
       " '\\n',\n",
       " '<COREF ID=\"X12\">Carrier</COREF>\\n',\n",
       " '{23} {carrier} {carrier}\\n',\n",
       " '\\n',\n",
       " '<COREF ID=\"X13\">these three crashes this year</COREF>\\n',\n",
       " '{27} {these accidents} {accidents}\\n',\n",
       " '{36} {these accidents} {accidents}\\n',\n",
       " '\\n',\n",
       " '<COREF ID=\"X14\">Adm. Jeremy Boorda</COREF>\\n',\n",
       " '{26} {the chief of Naval Operations} {chief of Naval Operations}\\n',\n",
       " '{26} {he} {he}\\n',\n",
       " '\\n',\n",
       " '<COREF ID=\"X15\">Deputy Defense Secretary John White</COREF>\\n',\n",
       " '{26} {him} {him}\\n',\n",
       " '\\n',\n",
       " '<COREF ID=\"X16\">One</COREF>\\n',\n",
       " '{29} {Lt. Kara Hultgren} {Kara Hultgren}\\n',\n",
       " '\\n',\n",
       " '<COREF ID=\"X17\">The oldest version of the aircraft</COREF>\\n',\n",
       " '{33} {the F-14A} {F-14A}\\n',\n",
       " '\\n',\n",
       " '<COREF ID=\"X18\">the initial years of deployment</COREF>\\n',\n",
       " '{34} {then} {then}\\n',\n",
       " '\\n',\n",
       " '<COREF ID=\"X19\">This</COREF>\\n',\n",
       " '{37} {a mystery} {mystery}\\n']"
      ]
     },
     "execution_count": 61,
     "metadata": {},
     "output_type": "execute_result"
    }
   ],
   "source": [
    "ans"
   ]
  }
 ],
 "metadata": {
  "kernelspec": {
   "display_name": "Python 3",
   "language": "python",
   "name": "python3"
  },
  "language_info": {
   "codemirror_mode": {
    "name": "ipython",
    "version": 3
   },
   "file_extension": ".py",
   "mimetype": "text/x-python",
   "name": "python",
   "nbconvert_exporter": "python",
   "pygments_lexer": "ipython3",
   "version": "3.7.4"
  }
 },
 "nbformat": 4,
 "nbformat_minor": 2
}
