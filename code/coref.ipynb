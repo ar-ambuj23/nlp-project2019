{
 "cells": [
  {
   "cell_type": "code",
   "execution_count": 2,
   "metadata": {},
   "outputs": [],
   "source": [
    "# import nltk\n",
    "# nltk.download('punkt')\n",
    "# nltk.download('averaged_perceptron_tagger')"
   ]
  },
  {
   "cell_type": "code",
   "execution_count": 1,
   "metadata": {},
   "outputs": [],
   "source": [
    "from reader import *\n",
    "from string_matching_by_word import *\n",
    "from string_matching_by_spaCy_NP import *\n",
    "from word_embeddings_by_spaCy_NP import *\n",
    "from hobbs import entry\n",
    "from nltk import pos_tag"
   ]
  },
  {
   "cell_type": "code",
   "execution_count": 2,
   "metadata": {},
   "outputs": [],
   "source": [
    "import warnings\n",
    "warnings.filterwarnings(\"ignore\")"
   ]
  },
  {
   "cell_type": "code",
   "execution_count": 3,
   "metadata": {},
   "outputs": [],
   "source": [
    "file_number = 'a11'"
   ]
  },
  {
   "cell_type": "markdown",
   "metadata": {},
   "source": [
    "### Read Document"
   ]
  },
  {
   "cell_type": "code",
   "execution_count": 4,
   "metadata": {},
   "outputs": [],
   "source": [
    "input_path = '/Users/ambuj/Documents/MS Stuff/nlp_cs_6340/final_project/nlp-project2019/dev/{}.input'.format(file_number)\n",
    "key_path = '/Users/ambuj/Documents/MS Stuff/nlp_cs_6340/final_project/nlp-project2019/dev/{}.key'.format(file_number)"
   ]
  },
  {
   "cell_type": "code",
   "execution_count": 5,
   "metadata": {},
   "outputs": [],
   "source": [
    "read = ReadInput(input_path)\n",
    "list_of_sentences = read.getListOfSentences()\n",
    "full_text = read.getText()"
   ]
  },
  {
   "cell_type": "markdown",
   "metadata": {},
   "source": [
    "### Get Sentence Dict and Cluster Head Dict"
   ]
  },
  {
   "cell_type": "code",
   "execution_count": 6,
   "metadata": {},
   "outputs": [],
   "source": [
    "sentence_dict = getSentenceDict(list_of_sentences)\n",
    "cluster_head_dict = getClusterHeads(sentence_dict)"
   ]
  },
  {
   "cell_type": "code",
   "execution_count": 7,
   "metadata": {},
   "outputs": [
    {
     "data": {
      "text/plain": [
       "{'X0': [2, 'F14-CRASH'],\n",
       " 'X1': [4, '02-22'],\n",
       " 'X2': [6, 'SERIES OF CRASHES'],\n",
       " 'X3': [6, 'NAVY'],\n",
       " 'X4': [6, 'ITS F-14S'],\n",
       " 'X5': [13, 'one of them'],\n",
       " 'X6': [13, 'Thursday'],\n",
       " 'X7': [13, 'the Persian Gulf'],\n",
       " 'X8': [14, 'The two-man crew'],\n",
       " 'X9': [14, 'the carrier Nimitz'],\n",
       " 'X10': [16, 'The three-day shutdown'],\n",
       " 'X11': [16, 'the chief of naval operations'],\n",
       " 'X12': [20, 'the earlier models'],\n",
       " 'X13': [27, 'Navy officials'],\n",
       " 'X14': [29, 'the engines'],\n",
       " 'X15': [31, 'Two of the three planes that have crashed since late January'],\n",
       " 'X16': [32, 'later models'],\n",
       " 'X17': [37, 'an F-14D']}"
      ]
     },
     "execution_count": 7,
     "metadata": {},
     "output_type": "execute_result"
    }
   ],
   "source": [
    "cluster_head_dict"
   ]
  },
  {
   "cell_type": "markdown",
   "metadata": {},
   "source": [
    "### Get Coref for exact match by word"
   ]
  },
  {
   "cell_type": "code",
   "execution_count": 8,
   "metadata": {},
   "outputs": [],
   "source": [
    "coref_dict_match_word = getCorefDict_match_word(sentence_dict, cluster_head_dict,90)\n",
    "# coref_dict_match_word"
   ]
  },
  {
   "cell_type": "markdown",
   "metadata": {},
   "source": [
    "### Get Coref for threshold match by NP"
   ]
  },
  {
   "cell_type": "code",
   "execution_count": 9,
   "metadata": {},
   "outputs": [],
   "source": [
    "coref_dict_match_NP = getCorefDict_match_NP(sentence_dict, cluster_head_dict,80)\n",
    "# coref_dict_match_NP"
   ]
  },
  {
   "cell_type": "code",
   "execution_count": 10,
   "metadata": {
    "scrolled": true
   },
   "outputs": [
    {
     "data": {
      "text/plain": [
       "{'X2': [[SERIES OF CRASHES, 13, ', the third crash', 83],\n",
       "  [SERIES OF CRASHES, 14, 'the crash', 83],\n",
       "  [SERIES OF CRASHES, 16, 'the three crashes', 100],\n",
       "  [SERIES OF CRASHES, 27, 'the three recent crashes', 100],\n",
       "  [SERIES OF CRASHES, 33, 'crashes', 100],\n",
       "  [SERIES OF CRASHES, 34, 'the crashes', 100],\n",
       "  [SERIES OF CRASHES, 40, 'the crash', 83]],\n",
       " 'X4': [[ITS F-14S, 13, 'its F-14s', 100],\n",
       "  [ITS F-14S, 16, 'more than 330 F-14s', 100],\n",
       "  [ITS F-14S, 23, 'Ten F-14s', 100]],\n",
       " 'X7': [[the Persian Gulf, 14, 'the gulf', 100],\n",
       "  [the Persian Gulf, 38, 'the Persian Gulf', 100],\n",
       "  [the Persian Gulf, 38, 'the gulf', 100]],\n",
       " 'X8': [[The two-man crew, 15, 'The two crewmen', 100],\n",
       "  [The two-man crew, 35, 'The two-man crew', 100],\n",
       "  [The two-man crew, 37, 'the crew', 100]],\n",
       " 'X9': [[the carrier Nimitz, 28, 'carrier-based jet fighters', 100],\n",
       "  [the carrier Nimitz, 38, 'the Nimitz', 100]],\n",
       " 'X10': [[The three-day shutdown, 27, 'the shutdown', 100]],\n",
       " 'X11': [[the chief of naval operations,\n",
       "   25,\n",
       "   'some more operational restrictions',\n",
       "   90],\n",
       "  [the chief of naval operations, 38, 'an operation', 95]],\n",
       " 'X12': [[the earlier models, 28, 'Earlier models', 100],\n",
       "  [the earlier models, 29, 'the first model', 91]],\n",
       " 'X13': [[Navy officials, 39, 'Navy officials', 100]],\n",
       " 'X14': [[the engines, 30, 'the engines', 100],\n",
       "  [the engines, 32, 'The engines', 100]],\n",
       " 'X15': [[Two of the three planes that have crashed since late January,\n",
       "   33,\n",
       "   'all Navy fighter planes',\n",
       "   100],\n",
       "  [Two of the three planes that have crashed since late January,\n",
       "   38,\n",
       "   'The F-14 that',\n",
       "   100],\n",
       "  [Two of the three planes that have crashed since late January,\n",
       "   39,\n",
       "   'the plane',\n",
       "   91],\n",
       "  [Two of the three planes that have crashed since late January,\n",
       "   41,\n",
       "   'The plane',\n",
       "   91],\n",
       "  [Two of the three planes that have crashed since late January,\n",
       "   41,\n",
       "   'the plane',\n",
       "   91]]}"
      ]
     },
     "execution_count": 10,
     "metadata": {},
     "output_type": "execute_result"
    }
   ],
   "source": [
    "coref_dict_match_NP"
   ]
  },
  {
   "cell_type": "markdown",
   "metadata": {},
   "source": [
    "### Get Coref for Word Embedding Similarity by NP"
   ]
  },
  {
   "cell_type": "code",
   "execution_count": 11,
   "metadata": {
    "scrolled": true
   },
   "outputs": [],
   "source": [
    "# coref_dict_all_sorted = getCorefDict_all_sorted(sentence_dict, cluster_head_dict,0.7)\n",
    "# coref_dict_max_sentence = getCorefDict_max_of_each_sentence(sentence_dict, cluster_head_dict,0.5)"
   ]
  },
  {
   "cell_type": "code",
   "execution_count": 12,
   "metadata": {},
   "outputs": [],
   "source": [
    "# coref_dict_all_sorted_top3 = get_TopN_Matches(coref_dict_all_sorted,3)"
   ]
  },
  {
   "cell_type": "markdown",
   "metadata": {},
   "source": [
    "### Merging dictionaries"
   ]
  },
  {
   "cell_type": "code",
   "execution_count": 11,
   "metadata": {},
   "outputs": [],
   "source": [
    "def mergeDicts(dict1, dict2):\n",
    "    \n",
    "    d1 = dict1.copy()\n",
    "    d2 = dict2.copy()\n",
    "    \n",
    "    d1_keys = d1.keys()\n",
    "    d2_keys = d2.keys()\n",
    "    \n",
    "    for key in d1_keys:\n",
    "        d1[key] = list(map(lambda x: x[0:3], d1[key]))\n",
    "    \n",
    "    for key in d2_keys:\n",
    "        d2[key] = list(map(lambda x: x[0:3], d2[key]))\n",
    "    \n",
    "    for key in d2_keys:\n",
    "        if(key not in d1_keys):\n",
    "            d1[key] = d2[key]\n",
    "        else:\n",
    "            for val in d2[key]:\n",
    "                if(val not in d1[key]):\n",
    "                    d1[key].append(val)\n",
    "    \n",
    "    return dict(sorted(d1.items()))"
   ]
  },
  {
   "cell_type": "code",
   "execution_count": 12,
   "metadata": {},
   "outputs": [],
   "source": [
    "coref_final = mergeDicts(coref_dict_match_word, coref_dict_match_NP)"
   ]
  },
  {
   "cell_type": "markdown",
   "metadata": {},
   "source": [
    "### Passing the reference dict to Hobbs"
   ]
  },
  {
   "cell_type": "code",
   "execution_count": 13,
   "metadata": {},
   "outputs": [
    {
     "name": "stdout",
     "output_type": "stream",
     "text": [
      "Warning: parsing empty text\n",
      "Warning: parsing empty text\n"
     ]
    }
   ],
   "source": [
    "coref_final_with_pro = entry(list_of_sentences, cluster_head_dict, coref_final)"
   ]
  },
  {
   "cell_type": "code",
   "execution_count": 14,
   "metadata": {
    "scrolled": false
   },
   "outputs": [
    {
     "data": {
      "text/plain": [
       "{'X10': [[The three-day shutdown, 27, 'the shutdown']],\n",
       " 'X11': [[the chief of naval operations,\n",
       "   25,\n",
       "   'some more operational restrictions'],\n",
       "  [the chief of naval operations, 38, 'an operation']],\n",
       " 'X12': [[the earlier models, 28, 'Earlier models'],\n",
       "  [the earlier models, 29, 'the first model']],\n",
       " 'X13': [[Navy officials, 39, 'Navy officials']],\n",
       " 'X14': [[the engines, 30, 'the engines'], [the engines, 32, 'The engines']],\n",
       " 'X15': [[Two of the three planes that have crashed since late January,\n",
       "   33,\n",
       "   'all Navy fighter planes'],\n",
       "  [Two of the three planes that have crashed since late January,\n",
       "   38,\n",
       "   'The F-14 that'],\n",
       "  [Two of the three planes that have crashed since late January,\n",
       "   39,\n",
       "   'the plane'],\n",
       "  [Two of the three planes that have crashed since late January,\n",
       "   41,\n",
       "   'The plane'],\n",
       "  [Two of the three planes that have crashed since late January,\n",
       "   41,\n",
       "   'the plane']],\n",
       " 'X2': [[SERIES OF CRASHES, 13, ', the third crash'],\n",
       "  [SERIES OF CRASHES, 14, 'the crash'],\n",
       "  [SERIES OF CRASHES, 16, 'the three crashes'],\n",
       "  [SERIES OF CRASHES, 27, 'the three recent crashes'],\n",
       "  [SERIES OF CRASHES, 33, 'crashes'],\n",
       "  [SERIES OF CRASHES, 34, 'the crashes'],\n",
       "  [SERIES OF CRASHES, 40, 'the crash']],\n",
       " 'X3': [['NAVY', 13, 'Navy'],\n",
       "  ['NAVY', 22, 'Navy'],\n",
       "  ['NAVY', 30, 'Navy'],\n",
       "  ['NAVY', 33, 'Navy'],\n",
       "  ['NAVY', 39, 'Navy'],\n",
       "  ['NAVY', 41, 'Navy']],\n",
       " 'X4': [[ITS F-14S, 13, 'its F-14s'],\n",
       "  [ITS F-14S, 16, 'more than 330 F-14s'],\n",
       "  [ITS F-14S, 23, 'Ten F-14s']],\n",
       " 'X6': [['Thursday', 38, 'Thursday']],\n",
       " 'X7': [[the Persian Gulf, 14, 'the gulf'],\n",
       "  [the Persian Gulf, 38, 'the Persian Gulf'],\n",
       "  [the Persian Gulf, 38, 'the gulf']],\n",
       " 'X8': [[The two-man crew, 15, 'The two crewmen'],\n",
       "  [The two-man crew, 35, 'The two-man crew'],\n",
       "  [The two-man crew, 37, 'the crew']],\n",
       " 'X9': [[the carrier Nimitz, 28, 'carrier-based jet fighters'],\n",
       "  [the carrier Nimitz, 38, 'the Nimitz']]}"
      ]
     },
     "execution_count": 14,
     "metadata": {},
     "output_type": "execute_result"
    }
   ],
   "source": [
    "coref_final_with_pro"
   ]
  },
  {
   "cell_type": "markdown",
   "metadata": {},
   "source": [
    "### Adding those Cluster Heads which were not predicted"
   ]
  },
  {
   "cell_type": "code",
   "execution_count": 15,
   "metadata": {},
   "outputs": [],
   "source": [
    "def addNOPredsClusterHeads(cluster_head_dict, coref_final_with_pro):\n",
    "    for cluster_id, cluster_val in cluster_head_dict.items():\n",
    "        if(cluster_id not in coref_final_with_pro.keys()):\n",
    "            coref_final_with_pro[cluster_id] = [['',int(cluster_val[0]),'', None]]\n",
    "            \n",
    "    return coref_final_with_pro"
   ]
  },
  {
   "cell_type": "code",
   "execution_count": 16,
   "metadata": {},
   "outputs": [],
   "source": [
    "coref_final_with_pro = addNOPredsClusterHeads(cluster_head_dict, coref_final_with_pro)"
   ]
  },
  {
   "cell_type": "code",
   "execution_count": 17,
   "metadata": {
    "scrolled": true
   },
   "outputs": [
    {
     "data": {
      "text/plain": [
       "{'X10': [[The three-day shutdown, 27, 'the shutdown']],\n",
       " 'X11': [[the chief of naval operations,\n",
       "   25,\n",
       "   'some more operational restrictions'],\n",
       "  [the chief of naval operations, 38, 'an operation']],\n",
       " 'X12': [[the earlier models, 28, 'Earlier models'],\n",
       "  [the earlier models, 29, 'the first model']],\n",
       " 'X13': [[Navy officials, 39, 'Navy officials']],\n",
       " 'X14': [[the engines, 30, 'the engines'], [the engines, 32, 'The engines']],\n",
       " 'X15': [[Two of the three planes that have crashed since late January,\n",
       "   33,\n",
       "   'all Navy fighter planes'],\n",
       "  [Two of the three planes that have crashed since late January,\n",
       "   38,\n",
       "   'The F-14 that'],\n",
       "  [Two of the three planes that have crashed since late January,\n",
       "   39,\n",
       "   'the plane'],\n",
       "  [Two of the three planes that have crashed since late January,\n",
       "   41,\n",
       "   'The plane'],\n",
       "  [Two of the three planes that have crashed since late January,\n",
       "   41,\n",
       "   'the plane']],\n",
       " 'X2': [[SERIES OF CRASHES, 13, ', the third crash'],\n",
       "  [SERIES OF CRASHES, 14, 'the crash'],\n",
       "  [SERIES OF CRASHES, 16, 'the three crashes'],\n",
       "  [SERIES OF CRASHES, 27, 'the three recent crashes'],\n",
       "  [SERIES OF CRASHES, 33, 'crashes'],\n",
       "  [SERIES OF CRASHES, 34, 'the crashes'],\n",
       "  [SERIES OF CRASHES, 40, 'the crash']],\n",
       " 'X3': [['NAVY', 13, 'Navy'],\n",
       "  ['NAVY', 22, 'Navy'],\n",
       "  ['NAVY', 30, 'Navy'],\n",
       "  ['NAVY', 33, 'Navy'],\n",
       "  ['NAVY', 39, 'Navy'],\n",
       "  ['NAVY', 41, 'Navy']],\n",
       " 'X4': [[ITS F-14S, 13, 'its F-14s'],\n",
       "  [ITS F-14S, 16, 'more than 330 F-14s'],\n",
       "  [ITS F-14S, 23, 'Ten F-14s']],\n",
       " 'X6': [['Thursday', 38, 'Thursday']],\n",
       " 'X7': [[the Persian Gulf, 14, 'the gulf'],\n",
       "  [the Persian Gulf, 38, 'the Persian Gulf'],\n",
       "  [the Persian Gulf, 38, 'the gulf']],\n",
       " 'X8': [[The two-man crew, 15, 'The two crewmen'],\n",
       "  [The two-man crew, 35, 'The two-man crew'],\n",
       "  [The two-man crew, 37, 'the crew']],\n",
       " 'X9': [[the carrier Nimitz, 28, 'carrier-based jet fighters'],\n",
       "  [the carrier Nimitz, 38, 'the Nimitz']],\n",
       " 'X0': [['', 2, '', None]],\n",
       " 'X1': [['', 4, '', None]],\n",
       " 'X5': [['', 13, '', None]],\n",
       " 'X16': [['', 32, '', None]],\n",
       " 'X17': [['', 37, '', None]]}"
      ]
     },
     "execution_count": 17,
     "metadata": {},
     "output_type": "execute_result"
    }
   ],
   "source": [
    "coref_final_with_pro"
   ]
  },
  {
   "cell_type": "markdown",
   "metadata": {},
   "source": [
    "### Taking only the head nouns"
   ]
  },
  {
   "cell_type": "code",
   "execution_count": 18,
   "metadata": {},
   "outputs": [],
   "source": [
    "def takeHeadNouns(coref_final_with_pro):\n",
    "    \n",
    "    for cluster in coref_final_with_pro.keys():\n",
    "        for i in range(0, len(coref_final_with_pro[cluster])):\n",
    "            coref_final_with_pro[cluster][i][2] = coref_final_with_pro[cluster][i][2].split(' ')[-1]\n",
    "                        \n",
    "    return coref_final_with_pro"
   ]
  },
  {
   "cell_type": "code",
   "execution_count": 19,
   "metadata": {},
   "outputs": [],
   "source": [
    "coref_final_with_pro = takeHeadNouns(coref_final_with_pro)"
   ]
  },
  {
   "cell_type": "code",
   "execution_count": 20,
   "metadata": {},
   "outputs": [
    {
     "data": {
      "text/plain": [
       "{'X10': [[The three-day shutdown, 27, 'shutdown']],\n",
       " 'X11': [[the chief of naval operations, 25, 'restrictions'],\n",
       "  [the chief of naval operations, 38, 'operation']],\n",
       " 'X12': [[the earlier models, 28, 'models'],\n",
       "  [the earlier models, 29, 'model']],\n",
       " 'X13': [[Navy officials, 39, 'officials']],\n",
       " 'X14': [[the engines, 30, 'engines'], [the engines, 32, 'engines']],\n",
       " 'X15': [[Two of the three planes that have crashed since late January,\n",
       "   33,\n",
       "   'planes'],\n",
       "  [Two of the three planes that have crashed since late January, 38, 'that'],\n",
       "  [Two of the three planes that have crashed since late January, 39, 'plane'],\n",
       "  [Two of the three planes that have crashed since late January, 41, 'plane'],\n",
       "  [Two of the three planes that have crashed since late January, 41, 'plane']],\n",
       " 'X2': [[SERIES OF CRASHES, 13, 'crash'],\n",
       "  [SERIES OF CRASHES, 14, 'crash'],\n",
       "  [SERIES OF CRASHES, 16, 'crashes'],\n",
       "  [SERIES OF CRASHES, 27, 'crashes'],\n",
       "  [SERIES OF CRASHES, 33, 'crashes'],\n",
       "  [SERIES OF CRASHES, 34, 'crashes'],\n",
       "  [SERIES OF CRASHES, 40, 'crash']],\n",
       " 'X3': [['NAVY', 13, 'Navy'],\n",
       "  ['NAVY', 22, 'Navy'],\n",
       "  ['NAVY', 30, 'Navy'],\n",
       "  ['NAVY', 33, 'Navy'],\n",
       "  ['NAVY', 39, 'Navy'],\n",
       "  ['NAVY', 41, 'Navy']],\n",
       " 'X4': [[ITS F-14S, 13, 'F-14s'],\n",
       "  [ITS F-14S, 16, 'F-14s'],\n",
       "  [ITS F-14S, 23, 'F-14s']],\n",
       " 'X6': [['Thursday', 38, 'Thursday']],\n",
       " 'X7': [[the Persian Gulf, 14, 'gulf'],\n",
       "  [the Persian Gulf, 38, 'Gulf'],\n",
       "  [the Persian Gulf, 38, 'gulf']],\n",
       " 'X8': [[The two-man crew, 15, 'crewmen'],\n",
       "  [The two-man crew, 35, 'crew'],\n",
       "  [The two-man crew, 37, 'crew']],\n",
       " 'X9': [[the carrier Nimitz, 28, 'fighters'],\n",
       "  [the carrier Nimitz, 38, 'Nimitz']],\n",
       " 'X0': [['', 2, '', None]],\n",
       " 'X1': [['', 4, '', None]],\n",
       " 'X5': [['', 13, '', None]],\n",
       " 'X16': [['', 32, '', None]],\n",
       " 'X17': [['', 37, '', None]]}"
      ]
     },
     "execution_count": 20,
     "metadata": {},
     "output_type": "execute_result"
    }
   ],
   "source": [
    "coref_final_with_pro"
   ]
  },
  {
   "cell_type": "markdown",
   "metadata": {},
   "source": [
    "### Print Output"
   ]
  },
  {
   "cell_type": "code",
   "execution_count": 21,
   "metadata": {},
   "outputs": [],
   "source": [
    "def printOP(cluster_head_dict, coref_final_with_pro):\n",
    "    \n",
    "    for cluster_id, cluster_head_name in cluster_head_dict.items():\n",
    "\n",
    "        print('<COREF ID=\"{}\">{}</COREF>'.format(cluster_id, cluster_head_name[1]))\n",
    "\n",
    "        coreferences = coref_final_with_pro[cluster_id]\n",
    "        list_of_sent_ids = list(map(lambda x: x[1], coreferences))\n",
    "        sorted_index_sent_ids = [i[0] for i in sorted(enumerate(list_of_sent_ids), key=lambda x:x[1])]\n",
    "        coreferences = [coreferences[i] for i in sorted_index_sent_ids]\n",
    "\n",
    "        for coref in coreferences:\n",
    "            if(coref[0] == ''):\n",
    "                continue\n",
    "            print('{{{0}}}'.format(coref[1]) + ' ' + '{' + coref[2] + '}')\n",
    "        print('\\n', end = '')      "
   ]
  },
  {
   "cell_type": "code",
   "execution_count": 22,
   "metadata": {
    "scrolled": false
   },
   "outputs": [
    {
     "name": "stdout",
     "output_type": "stream",
     "text": [
      "<COREF ID=\"X0\">F14-CRASH</COREF>\n",
      "\n",
      "<COREF ID=\"X1\">02-22</COREF>\n",
      "\n",
      "<COREF ID=\"X2\">SERIES OF CRASHES</COREF>\n",
      "{13} {crash}\n",
      "{14} {crash}\n",
      "{16} {crashes}\n",
      "{27} {crashes}\n",
      "{33} {crashes}\n",
      "{34} {crashes}\n",
      "{40} {crash}\n",
      "\n",
      "<COREF ID=\"X3\">NAVY</COREF>\n",
      "{13} {Navy}\n",
      "{22} {Navy}\n",
      "{30} {Navy}\n",
      "{33} {Navy}\n",
      "{39} {Navy}\n",
      "{41} {Navy}\n",
      "\n",
      "<COREF ID=\"X4\">ITS F-14S</COREF>\n",
      "{13} {F-14s}\n",
      "{16} {F-14s}\n",
      "{23} {F-14s}\n",
      "\n",
      "<COREF ID=\"X5\">one of them</COREF>\n",
      "\n",
      "<COREF ID=\"X6\">Thursday</COREF>\n",
      "{38} {Thursday}\n",
      "\n",
      "<COREF ID=\"X7\">the Persian Gulf</COREF>\n",
      "{14} {gulf}\n",
      "{38} {Gulf}\n",
      "{38} {gulf}\n",
      "\n",
      "<COREF ID=\"X8\">The two-man crew</COREF>\n",
      "{15} {crewmen}\n",
      "{35} {crew}\n",
      "{37} {crew}\n",
      "\n",
      "<COREF ID=\"X9\">the carrier Nimitz</COREF>\n",
      "{28} {fighters}\n",
      "{38} {Nimitz}\n",
      "\n",
      "<COREF ID=\"X10\">The three-day shutdown</COREF>\n",
      "{27} {shutdown}\n",
      "\n",
      "<COREF ID=\"X11\">the chief of naval operations</COREF>\n",
      "{25} {restrictions}\n",
      "{38} {operation}\n",
      "\n",
      "<COREF ID=\"X12\">the earlier models</COREF>\n",
      "{28} {models}\n",
      "{29} {model}\n",
      "\n",
      "<COREF ID=\"X13\">Navy officials</COREF>\n",
      "{39} {officials}\n",
      "\n",
      "<COREF ID=\"X14\">the engines</COREF>\n",
      "{30} {engines}\n",
      "{32} {engines}\n",
      "\n",
      "<COREF ID=\"X15\">Two of the three planes that have crashed since late January</COREF>\n",
      "{33} {planes}\n",
      "{38} {that}\n",
      "{39} {plane}\n",
      "{41} {plane}\n",
      "{41} {plane}\n",
      "\n",
      "<COREF ID=\"X16\">later models</COREF>\n",
      "\n",
      "<COREF ID=\"X17\">an F-14D</COREF>\n",
      "\n"
     ]
    }
   ],
   "source": [
    "# %%capture cap --no-stderr\n",
    "printOP(cluster_head_dict, coref_final_with_pro)"
   ]
  },
  {
   "cell_type": "code",
   "execution_count": 387,
   "metadata": {},
   "outputs": [],
   "source": [
    "with open('{}.response'.format(file_number),'w') as f:\n",
    "    f.write(cap.stdout)"
   ]
  },
  {
   "cell_type": "markdown",
   "metadata": {},
   "source": [
    "### Answer Key"
   ]
  },
  {
   "cell_type": "code",
   "execution_count": 103,
   "metadata": {
    "scrolled": true
   },
   "outputs": [],
   "source": [
    "# reader_o = ReadInput(key_path)\n",
    "# ans = reader_o.getListOfSentences()\n",
    "# ans"
   ]
  }
 ],
 "metadata": {
  "kernelspec": {
   "display_name": "Python 3",
   "language": "python",
   "name": "python3"
  },
  "language_info": {
   "codemirror_mode": {
    "name": "ipython",
    "version": 3
   },
   "file_extension": ".py",
   "mimetype": "text/x-python",
   "name": "python",
   "nbconvert_exporter": "python",
   "pygments_lexer": "ipython3",
   "version": "3.7.4"
  }
 },
 "nbformat": 4,
 "nbformat_minor": 2
}
