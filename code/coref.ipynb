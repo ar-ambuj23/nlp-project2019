{
 "cells": [
  {
   "cell_type": "code",
   "execution_count": 1,
   "metadata": {},
   "outputs": [],
   "source": [
    "# import nltk\n",
    "# nltk.download('punkt')\n",
    "# nltk.download('averaged_perceptron_tagger')"
   ]
  },
  {
   "cell_type": "code",
   "execution_count": 1,
   "metadata": {},
   "outputs": [],
   "source": [
    "from reader import *\n",
    "from string_matching_by_word import *\n",
    "from string_matching_by_spaCy_NP import *\n",
    "# from word_embeddings_by_spaCy_NP import *\n",
    "from semantics_by_spaCy_NP import *\n",
    "from hobbs import entry\n",
    "from nltk import pos_tag"
   ]
  },
  {
   "cell_type": "code",
   "execution_count": 2,
   "metadata": {},
   "outputs": [],
   "source": [
    "import warnings\n",
    "warnings.filterwarnings(\"ignore\")"
   ]
  },
  {
   "cell_type": "code",
   "execution_count": 3,
   "metadata": {},
   "outputs": [],
   "source": [
<<<<<<< HEAD
    "file_number = 'b20'"
=======
    "file_number = 'b19'"
>>>>>>> addSemantics
   ]
  },
  {
   "cell_type": "markdown",
   "metadata": {},
   "source": [
    "### Read Document"
   ]
  },
  {
   "cell_type": "code",
   "execution_count": 4,
   "metadata": {},
   "outputs": [],
   "source": [
    "input_path = '/Users/ambuj/Documents/MS Stuff/nlp_cs_6340/final_project/nlp-project2019/dev/{}.input'.format(file_number)\n",
    "key_path = '/Users/ambuj/Documents/MS Stuff/nlp_cs_6340/final_project/nlp-project2019/dev/{}.key'.format(file_number)"
   ]
  },
  {
   "cell_type": "code",
   "execution_count": 5,
   "metadata": {},
   "outputs": [],
   "source": [
    "read = ReadInput(input_path)\n",
    "list_of_sentences = read.getListOfSentences()\n",
    "full_text = read.getText()"
   ]
  },
  {
   "cell_type": "markdown",
   "metadata": {},
   "source": [
    "### Get Sentence Dict and Cluster Head Dict"
   ]
  },
  {
   "cell_type": "code",
   "execution_count": 6,
   "metadata": {},
   "outputs": [],
   "source": [
    "sentence_dict = getSentenceDict(list_of_sentences)\n",
    "cluster_head_dict = getClusterHeads(sentence_dict)"
   ]
  },
  {
   "cell_type": "markdown",
   "metadata": {},
   "source": [
    "### Get Coref for exact match by word"
   ]
  },
  {
   "cell_type": "code",
   "execution_count": 7,
   "metadata": {},
   "outputs": [],
   "source": [
    "coref_dict_match_word = getCorefDict_match_word(sentence_dict, cluster_head_dict,90)\n",
    "# coref_dict_match_word"
   ]
  },
  {
   "cell_type": "markdown",
   "metadata": {},
   "source": [
    "### Get Coref for threshold match by NP"
   ]
  },
  {
   "cell_type": "code",
   "execution_count": 8,
   "metadata": {},
   "outputs": [],
   "source": [
    "coref_dict_match_NP = getCorefDict_match_NP(sentence_dict, cluster_head_dict,80)\n",
    "# coref_dict_match_NP"
   ]
  },
  {
   "cell_type": "markdown",
   "metadata": {},
   "source": [
    "### Get Coref for Word Embedding Similarity by NP"
   ]
  },
  {
   "cell_type": "code",
   "execution_count": 9,
   "metadata": {
    "scrolled": true
   },
   "outputs": [],
   "source": [
    "# coref_dict_all_sorted = getCorefDict_all_sorted(sentence_dict, cluster_head_dict,0.5)\n",
    "# coref_dict_max_sentence = getCorefDict_max_of_each_sentence(sentence_dict, cluster_head_dict,0.5)"
   ]
  },
  {
   "cell_type": "code",
   "execution_count": 10,
   "metadata": {},
   "outputs": [],
   "source": [
    "# coref_dict_all_sorted_top3 = get_TopN_Matches(coref_dict_all_sorted,3)"
   ]
  },
  {
   "cell_type": "markdown",
   "metadata": {},
   "source": [
    "### Merging dictionaries"
   ]
  },
  {
   "cell_type": "code",
   "execution_count": 11,
   "metadata": {},
   "outputs": [],
   "source": [
    "def mergeDicts(dict1, dict2):\n",
    "    \n",
    "    d1 = dict1.copy()\n",
    "    d2 = dict2.copy()\n",
    "    \n",
    "    d1_keys = d1.keys()\n",
    "    d2_keys = d2.keys()\n",
    "    \n",
    "    for key in d1_keys:\n",
    "        d1[key] = list(map(lambda x: x[0:3], d1[key]))\n",
    "    \n",
    "    for key in d2_keys:\n",
    "        d2[key] = list(map(lambda x: x[0:3], d2[key]))\n",
    "    \n",
    "    for key in d2_keys:\n",
    "        if(key not in d1_keys):\n",
    "            d1[key] = d2[key]\n",
    "        else:\n",
    "            for val in d2[key]:\n",
    "                if(val not in d1[key]):\n",
    "                    d1[key].append(val)\n",
    "    \n",
    "    return dict(sorted(d1.items()))"
   ]
  },
  {
   "cell_type": "code",
   "execution_count": 12,
   "metadata": {},
   "outputs": [],
   "source": [
    "coref_final = mergeDicts(coref_dict_match_word, coref_dict_match_NP)"
   ]
  },
  {
   "cell_type": "code",
   "execution_count": 13,
   "metadata": {
    "scrolled": true
   },
   "outputs": [
    {
     "data": {
      "text/plain": [
<<<<<<< HEAD
       "{'X0': [['OPEC', 12, 'OPEC'],\n",
       "  ['OPEC', 14, 'OPEC'],\n",
       "  ['OPEC', 17, 'OPEC'],\n",
       "  ['OPEC', 18, 'OPEC'],\n",
       "  ['OPEC', 19, 'OPEC'],\n",
       "  ['OPEC', 22, 'OPEC'],\n",
       "  ['OPEC', 23, 'OPEC'],\n",
       "  ['OPEC', 24, 'OPEC'],\n",
       "  ['OPEC', 25, 'OPEC']],\n",
       " 'X1': [[a Price War, 5, 'a possible price war'],\n",
       "  [a Price War, 19, 'its war']],\n",
       " 'X10': [[Saudi Arabia, 23, 'Saudi Arabia']],\n",
       " 'X11': [[its government, 14, 'the government']],\n",
       " 'X12': [[conciliatory gestures to OPEC, 10, 'The gestures']],\n",
       " 'X13': [['yesterday', 14, 'yesterday'], ['yesterday', 21, 'yesterday']],\n",
       " 'X14': [[Abu Dhabi, 20, 'Abu Dhabi']],\n",
       " 'X18': [[its assigned quota of 948,000 barrels a day,\n",
       "   14,\n",
       "   'a higher OPEC quota'],\n",
       "  [its assigned quota of 948,000 barrels a day, 17, 'their quota'],\n",
       "  [its assigned quota of 948,000 barrels a day,\n",
       "   20,\n",
       "   \"the Emirates' unilateral quota decision\"]],\n",
       " 'X2': [['Output', 6, 'output'],\n",
       "  ['Output', 18, 'output'],\n",
       "  ['Output', 23, 'output'],\n",
       "  ['Output', 24, 'output']],\n",
       " 'X20': [[the Emirates' official news agency, 13, 'The news agency report']],\n",
       " 'X21': [['oil', 20, 'oil'],\n",
       "  ['oil', 20, 'oil'],\n",
       "  ['oil', 25, 'oil'],\n",
       "  ['oil', 25, 'oil']],\n",
       " 'X22': [[such excess output by the Emirates, 18, 'OPEC output'],\n",
       "  [such excess output by the Emirates, 23, 'total OPEC output'],\n",
       "  [such excess output by the Emirates, 24, 'OPEC output']],\n",
       " 'X23': [[the world oil markets, 25, 'world oil markets'],\n",
       "  [the world oil markets, 25, 'Moore Market Consultants']],\n",
       " 'X27': [[just over 19 million barrels a day, 24, '20 million barrels'],\n",
       "  [just over 19 million barrels a day, 26, 'The 19 million barrels']],\n",
       " 'X29': [[Antonio M. Szabo, , 26, 'Mr. Szabo']],\n",
       " 'X3': [[Quota Violator, 7, \"OPEC's most notable quota violator\"]],\n",
       " 'X4': [['price', 20, 'prices']],\n",
       " 'X6': [[a day, 26, 'a day']],\n",
       " 'X7': [[20 million barrels a day early this month,\n",
       "   6,\n",
       "   'as much as one million barrels'],\n",
       "  [20 million barrels a day early this month,\n",
       "   15,\n",
       "   'between 1.2 million and 1.5 million barrels'],\n",
       "  [20 million barrels a day early this month, 24, '20 million barrels'],\n",
       "  [20 million barrels a day early this month, 26, 'The 19 million barrels']],\n",
       " 'X8': [[its own output, 18, 'OPEC output'],\n",
       "  [its own output, 23, 'total OPEC output'],\n",
       "  [its own output, 24, 'OPEC output']],\n",
       " 'X9': [[a targeted 1.5 million barrels a day,\n",
       "   15,\n",
       "   'between 1.2 million and 1.5 million barrels'],\n",
       "  [a targeted 1.5 million barrels a day, 24, '20 million barrels'],\n",
       "  [a targeted 1.5 million barrels a day, 26, 'The 19 million barrels']]}"
=======
       "{'X0': [[Early Aluminum Talks, 5, 'early contract talks'],\n",
       "  [Early Aluminum Talks, 11, 'the early talks']],\n",
       " 'X1': [[Steel Union, 5, 'The United Steelworkers union'],\n",
       "  [Steel Union, 8, \"the union's chief negotiator\"],\n",
       "  [Steel Union, 9, 'union members'],\n",
       "  [Steel Union, 12, 'the Aluminum, Brick and Glass Workers union'],\n",
       "  [Steel Union, 13, 'the two unions']],\n",
       " 'X10': [[Pittsburgh-based Alcoa,\n",
       "   13,\n",
       "   'about 21,000 Alcoa and Reynolds employees']],\n",
       " 'X11': [[Reynolds, Richmond, Va.,,\n",
       "   13,\n",
       "   'about 21,000 Alcoa and Reynolds employees']],\n",
       " 'X12': [['union', 12, 'union'], ['union', 13, 'unions']],\n",
       " 'X3': [[ST. LOUIS, 5, 'The United Steelworkers union'],\n",
       "  [ST. LOUIS, 9, 'the aluminum industry'],\n",
       "  [ST. LOUIS, 10, 'normal circumstances'],\n",
       "  [ST. LOUIS, 12, 'the Steelworkers']],\n",
       " 'X4': [['1986', 8, '1986']],\n",
       " 'X6': [[our members, 9, 'union members']],\n",
       " 'X7': [[sacrifices to help the companies over hard times,\n",
       "   9,\n",
       "   'the sacrifices']],\n",
       " 'X8': [[George Becker, , 9, 'Mr. Becker']]}"
>>>>>>> addSemantics
      ]
     },
     "execution_count": 13,
     "metadata": {},
     "output_type": "execute_result"
    }
   ],
   "source": [
    "coref_final"
   ]
  },
  {
   "cell_type": "markdown",
   "metadata": {},
   "source": [
    "### Passing the reference dict to Hobbs"
   ]
  },
  {
   "cell_type": "code",
   "execution_count": 14,
   "metadata": {},
   "outputs": [
    {
     "name": "stdout",
     "output_type": "stream",
     "text": [
      "Warning: parsing empty text\n",
      "Warning: parsing empty text\n"
     ]
    }
   ],
   "source": [
    "coref_final_with_pro = entry(list_of_sentences, cluster_head_dict, coref_final)"
   ]
  },
  {
   "cell_type": "code",
   "execution_count": 15,
   "metadata": {
    "scrolled": false
   },
   "outputs": [
    {
     "data": {
      "text/plain": [
<<<<<<< HEAD
       "{'X0': [['OPEC', 12, 'OPEC'],\n",
       "  ['OPEC', 14, 'OPEC'],\n",
       "  ['OPEC', 17, 'OPEC'],\n",
       "  ['OPEC', 18, 'OPEC'],\n",
       "  ['OPEC', 19, 'OPEC'],\n",
       "  ['OPEC', 22, 'OPEC'],\n",
       "  ['OPEC', 23, 'OPEC'],\n",
       "  ['OPEC', 24, 'OPEC'],\n",
       "  ['OPEC', 25, 'OPEC']],\n",
       " 'X1': [[a Price War, 5, 'a possible price war'],\n",
       "  [a Price War, 19, 'its war']],\n",
       " 'X10': [[Saudi Arabia, 23, 'Saudi Arabia']],\n",
       " 'X11': [[its government, 14, 'the government']],\n",
       " 'X12': [[conciliatory gestures to OPEC, 10, 'The gestures']],\n",
       " 'X13': [['yesterday', 14, 'yesterday'], ['yesterday', 21, 'yesterday']],\n",
       " 'X14': [[Abu Dhabi, 20, 'Abu Dhabi']],\n",
       " 'X18': [[its assigned quota of 948,000 barrels a day,\n",
       "   14,\n",
       "   'a higher OPEC quota'],\n",
       "  [its assigned quota of 948,000 barrels a day, 17, 'their quota'],\n",
       "  [its assigned quota of 948,000 barrels a day,\n",
       "   20,\n",
       "   \"the Emirates' unilateral quota decision\"]],\n",
       " 'X2': [['Output', 6, 'output'],\n",
       "  ['Output', 18, 'output'],\n",
       "  ['Output', 23, 'output'],\n",
       "  ['Output', 24, 'output']],\n",
       " 'X20': [[the Emirates' official news agency, 13, 'The news agency report']],\n",
       " 'X21': [['oil', 20, 'oil'],\n",
       "  ['oil', 20, 'oil'],\n",
       "  ['oil', 25, 'oil'],\n",
       "  ['oil', 25, 'oil']],\n",
       " 'X22': [[such excess output by the Emirates, 18, 'OPEC output'],\n",
       "  [such excess output by the Emirates, 23, 'total OPEC output'],\n",
       "  [such excess output by the Emirates, 24, 'OPEC output']],\n",
       " 'X23': [[the world oil markets, 25, 'world oil markets'],\n",
       "  [the world oil markets, 25, 'Moore Market Consultants']],\n",
       " 'X27': [[just over 19 million barrels a day, 24, '20 million barrels'],\n",
       "  [just over 19 million barrels a day, 26, 'The 19 million barrels']],\n",
       " 'X29': [[Antonio M. Szabo, , 26, 'Mr. Szabo']],\n",
       " 'X3': [[Quota Violator, 7, \"OPEC's most notable quota violator\"]],\n",
       " 'X4': [['price', 20, 'prices']],\n",
       " 'X6': [[a day, 26, 'a day']],\n",
       " 'X7': [[20 million barrels a day early this month,\n",
       "   6,\n",
       "   'as much as one million barrels'],\n",
       "  [20 million barrels a day early this month,\n",
       "   15,\n",
       "   'between 1.2 million and 1.5 million barrels'],\n",
       "  [20 million barrels a day early this month, 24, '20 million barrels'],\n",
       "  [20 million barrels a day early this month, 26, 'The 19 million barrels']],\n",
       " 'X8': [[its own output, 18, 'OPEC output'],\n",
       "  [its own output, 23, 'total OPEC output'],\n",
       "  [its own output, 24, 'OPEC output']],\n",
       " 'X9': [[a targeted 1.5 million barrels a day,\n",
       "   15,\n",
       "   'between 1.2 million and 1.5 million barrels'],\n",
       "  [a targeted 1.5 million barrels a day, 24, '20 million barrels'],\n",
       "  [a targeted 1.5 million barrels a day, 26, 'The 19 million barrels']],\n",
       " 'X17': [['Rilwanu Lukman, ', 12, 'his', 0]]}"
=======
       "{'X0': [[Early Aluminum Talks, 5, 'early contract talks'],\n",
       "  [Early Aluminum Talks, 11, 'the early talks']],\n",
       " 'X1': [[Steel Union, 5, 'The United Steelworkers union'],\n",
       "  [Steel Union, 8, \"the union's chief negotiator\"],\n",
       "  [Steel Union, 9, 'union members'],\n",
       "  [Steel Union, 12, 'the Aluminum, Brick and Glass Workers union'],\n",
       "  [Steel Union, 13, 'the two unions']],\n",
       " 'X10': [[Pittsburgh-based Alcoa,\n",
       "   13,\n",
       "   'about 21,000 Alcoa and Reynolds employees']],\n",
       " 'X11': [[Reynolds, Richmond, Va.,,\n",
       "   13,\n",
       "   'about 21,000 Alcoa and Reynolds employees']],\n",
       " 'X12': [['union', 12, 'union'], ['union', 13, 'unions']],\n",
       " 'X3': [[ST. LOUIS, 5, 'The United Steelworkers union'],\n",
       "  [ST. LOUIS, 9, 'the aluminum industry'],\n",
       "  [ST. LOUIS, 10, 'normal circumstances'],\n",
       "  [ST. LOUIS, 12, 'the Steelworkers']],\n",
       " 'X4': [['1986', 8, '1986']],\n",
       " 'X6': [[our members, 9, 'union members']],\n",
       " 'X7': [[sacrifices to help the companies over hard times,\n",
       "   9,\n",
       "   'the sacrifices']],\n",
       " 'X8': [[George Becker, , 9, 'Mr. Becker']]}"
>>>>>>> addSemantics
      ]
     },
     "execution_count": 15,
     "metadata": {},
     "output_type": "execute_result"
    }
   ],
   "source": [
    "coref_final_with_pro"
   ]
  },
  {
   "cell_type": "markdown",
   "metadata": {},
   "source": [
    "### Adding those Cluster Heads which were not predicted"
   ]
  },
  {
   "cell_type": "code",
   "execution_count": 16,
   "metadata": {},
   "outputs": [],
   "source": [
    "def addNOPredsClusterHeads(cluster_head_dict, coref_final_with_pro):\n",
    "    for cluster_id, cluster_val in cluster_head_dict.items():\n",
    "        if(cluster_id not in coref_final_with_pro.keys()):\n",
    "            coref_final_with_pro[cluster_id] = [[cluster_val[1],int(cluster_val[0]),'', None]]\n",
    "            \n",
    "    return coref_final_with_pro"
   ]
  },
  {
   "cell_type": "code",
   "execution_count": 17,
   "metadata": {},
   "outputs": [],
   "source": [
    "coref_final_with_pro = addNOPredsClusterHeads(cluster_head_dict, coref_final_with_pro)"
   ]
  },
  {
   "cell_type": "code",
   "execution_count": 18,
<<<<<<< HEAD
=======
   "metadata": {},
   "outputs": [
    {
     "data": {
      "text/plain": [
       "{'X0': [[Early Aluminum Talks, 5, 'early contract talks'],\n",
       "  [Early Aluminum Talks, 11, 'the early talks']],\n",
       " 'X1': [[Steel Union, 5, 'The United Steelworkers union'],\n",
       "  [Steel Union, 8, \"the union's chief negotiator\"],\n",
       "  [Steel Union, 9, 'union members'],\n",
       "  [Steel Union, 12, 'the Aluminum, Brick and Glass Workers union'],\n",
       "  [Steel Union, 13, 'the two unions']],\n",
       " 'X10': [[Pittsburgh-based Alcoa,\n",
       "   13,\n",
       "   'about 21,000 Alcoa and Reynolds employees']],\n",
       " 'X11': [[Reynolds, Richmond, Va.,,\n",
       "   13,\n",
       "   'about 21,000 Alcoa and Reynolds employees']],\n",
       " 'X12': [['union', 12, 'union'], ['union', 13, 'unions']],\n",
       " 'X3': [[ST. LOUIS, 5, 'The United Steelworkers union'],\n",
       "  [ST. LOUIS, 9, 'the aluminum industry'],\n",
       "  [ST. LOUIS, 10, 'normal circumstances'],\n",
       "  [ST. LOUIS, 12, 'the Steelworkers']],\n",
       " 'X4': [['1986', 8, '1986']],\n",
       " 'X6': [[our members, 9, 'union members']],\n",
       " 'X7': [[sacrifices to help the companies over hard times,\n",
       "   9,\n",
       "   'the sacrifices']],\n",
       " 'X8': [[George Becker, , 9, 'Mr. Becker']],\n",
       " 'X2': [['2 Firms', 1, '', None]],\n",
       " 'X5': [['The current pacts with Aluminum Co. of America and Reynolds Metals Co.',\n",
       "   7,\n",
       "   '',\n",
       "   None]],\n",
       " 'X9': [['a strong recovery', 9, '', None]]}"
      ]
     },
     "execution_count": 18,
     "metadata": {},
     "output_type": "execute_result"
    }
   ],
   "source": [
    "coref_final_with_pro"
   ]
  },
  {
   "cell_type": "markdown",
   "metadata": {},
   "source": [
    "### Making semantic prediction for unpredicted Cluster Heads"
   ]
  },
  {
   "cell_type": "code",
   "execution_count": 19,
   "metadata": {},
   "outputs": [],
   "source": [
    "import spacy\n",
    "nlp = spacy.load(\"en_core_web_lg\")"
   ]
  },
  {
   "cell_type": "code",
   "execution_count": 27,
   "metadata": {},
   "outputs": [],
   "source": [
    "def getRemText(sent_id, sentence_dict):\n",
    "    rem_text = {}\n",
    "    for sid in sentence_dict.keys():\n",
    "        if(sid >= sent_id): \n",
    "            rem_text[sid] = sentence_dict[sid]\n",
    "    sorted_rem_text = dict(sorted(rem_text.items(), key = lambda x:x[0]))\n",
    "    return sorted_rem_text\n",
    "\n",
    "def getCorefDict_meaning_NP(sentence_dict, coref_final_with_pro, threshold):\n",
    "    \n",
    "    for cluster in coref_final_with_pro.keys():\n",
    "\n",
    "        if(coref_final_with_pro[cluster][0][2]==''):\n",
    "    \n",
    "            current_cluster_sent_id = coref_final_with_pro[cluster][0][1]\n",
    "\n",
    "            print(coref_final_with_pro[cluster][0][0],'&'*8)\n",
    "            \n",
    "            current_cluster_head = nlp(coref_final_with_pro[cluster][0][0].lower())\n",
    "            current_cluster_head_np = list(current_cluster_head.noun_chunks)\n",
    "            print(current_cluster_head_np)\n",
    "            \n",
    "\n",
    "            if(len(current_cluster_head_np)==0):\n",
    "                continue\n",
    "            \n",
    "#             current_cluster_head_headNoun = current_cluster_head_np[0][-1]\n",
    "\n",
    "            remaining_text = getRemText(current_cluster_sent_id, sentence_dict)\n",
    "\n",
    "            for sid, sentence in remaining_text.items():\n",
    "\n",
    "                clean = re.compile('<COREF .*?>.*?</COREF>') ## removing all coref tags from the current sentence\n",
    "                clean_sentence = re.sub(clean, '', sentence)\n",
    "                print('cl',clean_sentence)\n",
    "\n",
    "                doc = nlp(clean_sentence.lower())\n",
    "                print('doc',doc)\n",
    "\n",
    "                for np in doc.noun_chunks:\n",
    "\n",
    "                    ## If the NP is a pronoun, ignore it. \n",
    "                    ## We are handling pronouns by Hobb's algorithm\n",
    "                    if(len(np) == 1 and np[0].pos_ == 'PRON'):\n",
    "                        continue\n",
    "\n",
    "                    similarity = current_cluster_head_np[0].similarity(np)\n",
    "\n",
    "                    if(similarity*100 > threshold):\n",
    "                        print(np, current_cluster_head_np, similarity) \n",
    "                        \n",
    "#                         coref_final_with_pro[cluster][0][1] = sid\n",
    "#                         coref_final_with_pro[cluster][0][2] = np.text\n",
    "#                         coref_final_with_pro[cluster][0][3] = similarity*100   \n",
    "    \n",
    "    return coref_final_with_pro"
   ]
  },
  {
   "cell_type": "code",
   "execution_count": 28,
>>>>>>> addSemantics
   "metadata": {
    "scrolled": true
   },
   "outputs": [
    {
     "name": "stdout",
     "output_type": "stream",
     "text": [
      "2 Firms &&&&&&&&\n",
      "[2 firms]\n",
      "cl  Set By , \n",
      "doc  set by , \n",
      "cl LABOR AA RLM\n",
      "doc labor aa rlm\n",
      "cl MIN\n",
      "doc min\n",
      "cl \n",
      "doc \n",
      "cl The United Steelworkers union agreed yesterday to open early contract talks Aug. 9 with the nation's two biggest aluminum makers.\n",
      "doc the united steelworkers union agreed yesterday to open early contract talks aug. 9 with the nation's two biggest aluminum makers.\n",
      "cl Local presidents, meeting here, voted to begin the early bargaining in an effort to roll back concessions granted in .\n",
      "doc local presidents, meeting here, voted to begin the early bargaining in an effort to roll back concessions granted in .\n",
      "cl  expire next May 31, and any new accord would supersede that one.\n",
      "doc  expire next may 31, and any new accord would supersede that one.\n",
      "cl \"When we negotiated the current contracts in 1986,  made ,\" said the union's chief negotiator.\n",
      "doc \"when we negotiated the current contracts in 1986,  made ,\" said the union's chief negotiator.\n",
      "cl Since then, though, the aluminum industry has staged , and Mr. Becker said union members expect to \"share in those gains and recover the sacrifices they made.\"\n",
      "doc since then, though, the aluminum industry has staged , and mr. becker said union members expect to \"share in those gains and recover the sacrifices they made.\"\n",
      "cl Under normal circumstances, bargaining wouldn't have begun until next year.\n",
      "doc under normal circumstances, bargaining wouldn't have begun until next year.\n",
      "cl  and  have agreed to the early talks.\n",
      "doc  and  have agreed to the early talks.\n",
      "cl The 's action follows a similar decision Friday by the Aluminum, Brick and Glass Workers union, which bargains in concert with the Steelworkers.\n",
      "doc the 's action follows a similar decision friday by the aluminum, brick and glass workers union, which bargains in concert with the steelworkers.\n",
      "cl Combined, the two unions represent about 21,000 Alcoa and Reynolds employees.\n",
      "doc combined, the two unions represent about 21,000 alcoa and reynolds employees.\n",
      "The current pacts with Aluminum Co. of America and Reynolds Metals Co. &&&&&&&&\n",
      "[the current pacts, aluminum co., america, reynolds metals co.]\n",
      "cl  expire next May 31, and any new accord would supersede that one.\n",
      "doc  expire next may 31, and any new accord would supersede that one.\n",
      "cl \"When we negotiated the current contracts in 1986,  made ,\" said the union's chief negotiator.\n",
      "doc \"when we negotiated the current contracts in 1986,  made ,\" said the union's chief negotiator.\n",
      "the current contracts [the current pacts, aluminum co., america, reynolds metals co.] 0.8136344\n",
      "cl Since then, though, the aluminum industry has staged , and Mr. Becker said union members expect to \"share in those gains and recover the sacrifices they made.\"\n",
      "doc since then, though, the aluminum industry has staged , and mr. becker said union members expect to \"share in those gains and recover the sacrifices they made.\"\n",
      "cl Under normal circumstances, bargaining wouldn't have begun until next year.\n",
      "doc under normal circumstances, bargaining wouldn't have begun until next year.\n",
      "cl  and  have agreed to the early talks.\n",
      "doc  and  have agreed to the early talks.\n",
      "cl The 's action follows a similar decision Friday by the Aluminum, Brick and Glass Workers union, which bargains in concert with the Steelworkers.\n",
      "doc the 's action follows a similar decision friday by the aluminum, brick and glass workers union, which bargains in concert with the steelworkers.\n",
      "cl Combined, the two unions represent about 21,000 Alcoa and Reynolds employees.\n",
      "doc combined, the two unions represent about 21,000 alcoa and reynolds employees.\n",
      "a strong recovery &&&&&&&&\n",
      "[a strong recovery]\n",
      "cl Since then, though, the aluminum industry has staged , and Mr. Becker said union members expect to \"share in those gains and recover the sacrifices they made.\"\n",
      "doc since then, though, the aluminum industry has staged , and mr. becker said union members expect to \"share in those gains and recover the sacrifices they made.\"\n",
      "cl Under normal circumstances, bargaining wouldn't have begun until next year.\n",
      "doc under normal circumstances, bargaining wouldn't have begun until next year.\n",
      "cl  and  have agreed to the early talks.\n",
      "doc  and  have agreed to the early talks.\n",
      "cl The 's action follows a similar decision Friday by the Aluminum, Brick and Glass Workers union, which bargains in concert with the Steelworkers.\n",
      "doc the 's action follows a similar decision friday by the aluminum, brick and glass workers union, which bargains in concert with the steelworkers.\n",
      "a similar decision [a strong recovery] 0.70710355\n",
      "cl Combined, the two unions represent about 21,000 Alcoa and Reynolds employees.\n",
      "doc combined, the two unions represent about 21,000 alcoa and reynolds employees.\n"
     ]
    },
    {
     "data": {
      "text/plain": [
<<<<<<< HEAD
       "{'X0': [['OPEC', 12, 'OPEC'],\n",
       "  ['OPEC', 14, 'OPEC'],\n",
       "  ['OPEC', 17, 'OPEC'],\n",
       "  ['OPEC', 18, 'OPEC'],\n",
       "  ['OPEC', 19, 'OPEC'],\n",
       "  ['OPEC', 22, 'OPEC'],\n",
       "  ['OPEC', 23, 'OPEC'],\n",
       "  ['OPEC', 24, 'OPEC'],\n",
       "  ['OPEC', 25, 'OPEC']],\n",
       " 'X1': [[a Price War, 5, 'a possible price war'],\n",
       "  [a Price War, 19, 'its war']],\n",
       " 'X10': [[Saudi Arabia, 23, 'Saudi Arabia']],\n",
       " 'X11': [[its government, 14, 'the government']],\n",
       " 'X12': [[conciliatory gestures to OPEC, 10, 'The gestures']],\n",
       " 'X13': [['yesterday', 14, 'yesterday'], ['yesterday', 21, 'yesterday']],\n",
       " 'X14': [[Abu Dhabi, 20, 'Abu Dhabi']],\n",
       " 'X18': [[its assigned quota of 948,000 barrels a day,\n",
       "   14,\n",
       "   'a higher OPEC quota'],\n",
       "  [its assigned quota of 948,000 barrels a day, 17, 'their quota'],\n",
       "  [its assigned quota of 948,000 barrels a day,\n",
       "   20,\n",
       "   \"the Emirates' unilateral quota decision\"]],\n",
       " 'X2': [['Output', 6, 'output'],\n",
       "  ['Output', 18, 'output'],\n",
       "  ['Output', 23, 'output'],\n",
       "  ['Output', 24, 'output']],\n",
       " 'X20': [[the Emirates' official news agency, 13, 'The news agency report']],\n",
       " 'X21': [['oil', 20, 'oil'],\n",
       "  ['oil', 20, 'oil'],\n",
       "  ['oil', 25, 'oil'],\n",
       "  ['oil', 25, 'oil']],\n",
       " 'X22': [[such excess output by the Emirates, 18, 'OPEC output'],\n",
       "  [such excess output by the Emirates, 23, 'total OPEC output'],\n",
       "  [such excess output by the Emirates, 24, 'OPEC output']],\n",
       " 'X23': [[the world oil markets, 25, 'world oil markets'],\n",
       "  [the world oil markets, 25, 'Moore Market Consultants']],\n",
       " 'X27': [[just over 19 million barrels a day, 24, '20 million barrels'],\n",
       "  [just over 19 million barrels a day, 26, 'The 19 million barrels']],\n",
       " 'X29': [[Antonio M. Szabo, , 26, 'Mr. Szabo']],\n",
       " 'X3': [[Quota Violator, 7, \"OPEC's most notable quota violator\"]],\n",
       " 'X4': [['price', 20, 'prices']],\n",
       " 'X6': [[a day, 26, 'a day']],\n",
       " 'X7': [[20 million barrels a day early this month,\n",
       "   6,\n",
       "   'as much as one million barrels'],\n",
       "  [20 million barrels a day early this month,\n",
       "   15,\n",
       "   'between 1.2 million and 1.5 million barrels'],\n",
       "  [20 million barrels a day early this month, 24, '20 million barrels'],\n",
       "  [20 million barrels a day early this month, 26, 'The 19 million barrels']],\n",
       " 'X8': [[its own output, 18, 'OPEC output'],\n",
       "  [its own output, 23, 'total OPEC output'],\n",
       "  [its own output, 24, 'OPEC output']],\n",
       " 'X9': [[a targeted 1.5 million barrels a day,\n",
       "   15,\n",
       "   'between 1.2 million and 1.5 million barrels'],\n",
       "  [a targeted 1.5 million barrels a day, 24, '20 million barrels'],\n",
       "  [a targeted 1.5 million barrels a day, 26, 'The 19 million barrels']],\n",
       " 'X17': [['Rilwanu Lukman, ', 12, 'his', 0]],\n",
       " 'X5': [['', 6, '', None]],\n",
       " 'X15': [['', 10, '', None]],\n",
       " 'X16': [['', 11, '', None]],\n",
       " 'X19': [['', 12, '', None]],\n",
       " 'X24': [['', 18, '', None]],\n",
       " 'X25': [['', 18, '', None]],\n",
       " 'X26': [['', 21, '', None]],\n",
       " 'X28': [['', 25, '', None]]}"
      ]
     },
     "execution_count": 18,
=======
       "{'X0': [[Early Aluminum Talks, 5, 'talks'],\n",
       "  [Early Aluminum Talks, 11, 'talks']],\n",
       " 'X1': [[Steel Union, 5, 'union'],\n",
       "  [Steel Union, 8, 'negotiator'],\n",
       "  [Steel Union, 9, 'members'],\n",
       "  [Steel Union, 12, 'union'],\n",
       "  [Steel Union, 13, 'unions']],\n",
       " 'X10': [[Pittsburgh-based Alcoa, 13, 'employees']],\n",
       " 'X11': [[Reynolds, Richmond, Va.,, 13, 'employees']],\n",
       " 'X12': [['union', 12, 'union'], ['union', 13, 'unions']],\n",
       " 'X3': [[ST. LOUIS, 5, 'union'],\n",
       "  [ST. LOUIS, 9, 'industry'],\n",
       "  [ST. LOUIS, 10, 'circumstances'],\n",
       "  [ST. LOUIS, 12, 'Steelworkers']],\n",
       " 'X4': [['1986', 8, '1986']],\n",
       " 'X6': [[our members, 9, 'members']],\n",
       " 'X7': [[sacrifices to help the companies over hard times, 9, 'sacrifices']],\n",
       " 'X8': [[George Becker, , 9, 'Becker']],\n",
       " 'X2': [['2 Firms', 1, '', None]],\n",
       " 'X5': [['The current pacts with Aluminum Co. of America and Reynolds Metals Co.',\n",
       "   7,\n",
       "   '',\n",
       "   None]],\n",
       " 'X9': [['a strong recovery', 9, '', None]]}"
      ]
     },
     "execution_count": 28,
>>>>>>> addSemantics
     "metadata": {},
     "output_type": "execute_result"
    }
   ],
   "source": [
    "coref_final_with_pro = getCorefDict_meaning_NP(sentence_dict, coref_final_with_pro, 70)\n",
    "coref_final_with_pro"
   ]
  },
  {
   "cell_type": "markdown",
   "metadata": {},
   "source": [
    "### Taking only the head nouns"
   ]
  },
  {
   "cell_type": "code",
<<<<<<< HEAD
   "execution_count": 19,
=======
   "execution_count": 22,
>>>>>>> addSemantics
   "metadata": {},
   "outputs": [],
   "source": [
    "def takeHeadNouns(coref_final_with_pro):\n",
    "    \n",
    "    for cluster in coref_final_with_pro.keys():\n",
    "        for i in range(0, len(coref_final_with_pro[cluster])):\n",
    "            coref_final_with_pro[cluster][i][2] = coref_final_with_pro[cluster][i][2].split(' ')[-1]\n",
    "                        \n",
    "    return coref_final_with_pro"
   ]
  },
  {
   "cell_type": "code",
<<<<<<< HEAD
   "execution_count": 20,
=======
   "execution_count": 23,
>>>>>>> addSemantics
   "metadata": {},
   "outputs": [],
   "source": [
    "coref_final_with_pro = takeHeadNouns(coref_final_with_pro)"
   ]
  },
  {
   "cell_type": "code",
<<<<<<< HEAD
   "execution_count": 21,
=======
   "execution_count": 24,
>>>>>>> addSemantics
   "metadata": {},
   "outputs": [
    {
     "data": {
      "text/plain": [
<<<<<<< HEAD
       "{'X0': [['OPEC', 12, 'OPEC'],\n",
       "  ['OPEC', 14, 'OPEC'],\n",
       "  ['OPEC', 17, 'OPEC'],\n",
       "  ['OPEC', 18, 'OPEC'],\n",
       "  ['OPEC', 19, 'OPEC'],\n",
       "  ['OPEC', 22, 'OPEC'],\n",
       "  ['OPEC', 23, 'OPEC'],\n",
       "  ['OPEC', 24, 'OPEC'],\n",
       "  ['OPEC', 25, 'OPEC']],\n",
       " 'X1': [[a Price War, 5, 'war'], [a Price War, 19, 'war']],\n",
       " 'X10': [[Saudi Arabia, 23, 'Arabia']],\n",
       " 'X11': [[its government, 14, 'government']],\n",
       " 'X12': [[conciliatory gestures to OPEC, 10, 'gestures']],\n",
       " 'X13': [['yesterday', 14, 'yesterday'], ['yesterday', 21, 'yesterday']],\n",
       " 'X14': [[Abu Dhabi, 20, 'Dhabi']],\n",
       " 'X18': [[its assigned quota of 948,000 barrels a day, 14, 'quota'],\n",
       "  [its assigned quota of 948,000 barrels a day, 17, 'quota'],\n",
       "  [its assigned quota of 948,000 barrels a day, 20, 'decision']],\n",
       " 'X2': [['Output', 6, 'output'],\n",
       "  ['Output', 18, 'output'],\n",
       "  ['Output', 23, 'output'],\n",
       "  ['Output', 24, 'output']],\n",
       " 'X20': [[the Emirates' official news agency, 13, 'report']],\n",
       " 'X21': [['oil', 20, 'oil'],\n",
       "  ['oil', 20, 'oil'],\n",
       "  ['oil', 25, 'oil'],\n",
       "  ['oil', 25, 'oil']],\n",
       " 'X22': [[such excess output by the Emirates, 18, 'output'],\n",
       "  [such excess output by the Emirates, 23, 'output'],\n",
       "  [such excess output by the Emirates, 24, 'output']],\n",
       " 'X23': [[the world oil markets, 25, 'markets'],\n",
       "  [the world oil markets, 25, 'Consultants']],\n",
       " 'X27': [[just over 19 million barrels a day, 24, 'barrels'],\n",
       "  [just over 19 million barrels a day, 26, 'barrels']],\n",
       " 'X29': [[Antonio M. Szabo, , 26, 'Szabo']],\n",
       " 'X3': [[Quota Violator, 7, 'violator']],\n",
       " 'X4': [['price', 20, 'prices']],\n",
       " 'X6': [[a day, 26, 'day']],\n",
       " 'X7': [[20 million barrels a day early this month, 6, 'barrels'],\n",
       "  [20 million barrels a day early this month, 15, 'barrels'],\n",
       "  [20 million barrels a day early this month, 24, 'barrels'],\n",
       "  [20 million barrels a day early this month, 26, 'barrels']],\n",
       " 'X8': [[its own output, 18, 'output'],\n",
       "  [its own output, 23, 'output'],\n",
       "  [its own output, 24, 'output']],\n",
       " 'X9': [[a targeted 1.5 million barrels a day, 15, 'barrels'],\n",
       "  [a targeted 1.5 million barrels a day, 24, 'barrels'],\n",
       "  [a targeted 1.5 million barrels a day, 26, 'barrels']],\n",
       " 'X17': [['Rilwanu Lukman, ', 12, 'his', 0]],\n",
       " 'X5': [['', 6, '', None]],\n",
       " 'X15': [['', 10, '', None]],\n",
       " 'X16': [['', 11, '', None]],\n",
       " 'X19': [['', 12, '', None]],\n",
       " 'X24': [['', 18, '', None]],\n",
       " 'X25': [['', 18, '', None]],\n",
       " 'X26': [['', 21, '', None]],\n",
       " 'X28': [['', 25, '', None]]}"
      ]
     },
     "execution_count": 21,
=======
       "{'X0': [[Early Aluminum Talks, 5, 'talks'],\n",
       "  [Early Aluminum Talks, 11, 'talks']],\n",
       " 'X1': [[Steel Union, 5, 'union'],\n",
       "  [Steel Union, 8, 'negotiator'],\n",
       "  [Steel Union, 9, 'members'],\n",
       "  [Steel Union, 12, 'union'],\n",
       "  [Steel Union, 13, 'unions']],\n",
       " 'X10': [[Pittsburgh-based Alcoa, 13, 'employees']],\n",
       " 'X11': [[Reynolds, Richmond, Va.,, 13, 'employees']],\n",
       " 'X12': [['union', 12, 'union'], ['union', 13, 'unions']],\n",
       " 'X3': [[ST. LOUIS, 5, 'union'],\n",
       "  [ST. LOUIS, 9, 'industry'],\n",
       "  [ST. LOUIS, 10, 'circumstances'],\n",
       "  [ST. LOUIS, 12, 'Steelworkers']],\n",
       " 'X4': [['1986', 8, '1986']],\n",
       " 'X6': [[our members, 9, 'members']],\n",
       " 'X7': [[sacrifices to help the companies over hard times, 9, 'sacrifices']],\n",
       " 'X8': [[George Becker, , 9, 'Becker']],\n",
       " 'X2': [['2 Firms', 1, '', None]],\n",
       " 'X5': [['The current pacts with Aluminum Co. of America and Reynolds Metals Co.',\n",
       "   7,\n",
       "   '',\n",
       "   None]],\n",
       " 'X9': [['a strong recovery', 9, '', None]]}"
      ]
     },
     "execution_count": 24,
>>>>>>> addSemantics
     "metadata": {},
     "output_type": "execute_result"
    }
   ],
   "source": [
    "coref_final_with_pro"
   ]
  },
  {
   "cell_type": "markdown",
   "metadata": {},
   "source": [
    "### Print Output"
   ]
  },
  {
   "cell_type": "code",
<<<<<<< HEAD
   "execution_count": 22,
=======
   "execution_count": 25,
>>>>>>> addSemantics
   "metadata": {},
   "outputs": [],
   "source": [
    "def printOP(cluster_head_dict, coref_final_with_pro):\n",
    "    \n",
    "    for cluster_id, cluster_head_name in cluster_head_dict.items():\n",
    "\n",
    "        print('<COREF ID=\"{}\">{}</COREF>'.format(cluster_id, cluster_head_name[1]))\n",
    "\n",
    "        coreferences = coref_final_with_pro[cluster_id]\n",
    "        list_of_sent_ids = list(map(lambda x: x[1], coreferences))\n",
    "        sorted_index_sent_ids = [i[0] for i in sorted(enumerate(list_of_sent_ids), key=lambda x:x[1])]\n",
    "        coreferences = [coreferences[i] for i in sorted_index_sent_ids]\n",
    "\n",
    "        for coref in coreferences:\n",
    "            if(coref[2] == ''):\n",
    "                continue\n",
    "            print('{{{0}}}'.format(coref[1]) + ' ' + '{' + coref[2] + '}')\n",
    "        print('\\n', end = '')      "
   ]
  },
  {
   "cell_type": "code",
<<<<<<< HEAD
   "execution_count": 23,
=======
   "execution_count": 26,
>>>>>>> addSemantics
   "metadata": {
    "scrolled": false
   },
   "outputs": [
    {
     "name": "stdout",
     "output_type": "stream",
     "text": [
<<<<<<< HEAD
      "<COREF ID=\"X0\">OPEC</COREF>\n",
      "{12} {OPEC}\n",
      "{14} {OPEC}\n",
      "{17} {OPEC}\n",
      "{18} {OPEC}\n",
      "{19} {OPEC}\n",
      "{22} {OPEC}\n",
      "{23} {OPEC}\n",
      "{24} {OPEC}\n",
      "{25} {OPEC}\n",
      "\n",
      "<COREF ID=\"X1\">a Price War</COREF>\n",
      "{5} {war}\n",
      "{19} {war}\n",
      "\n",
      "<COREF ID=\"X2\">Output</COREF>\n",
      "{6} {output}\n",
      "{18} {output}\n",
      "{23} {output}\n",
      "{24} {output}\n",
      "\n",
      "<COREF ID=\"X3\">Quota Violator</COREF>\n",
      "{7} {violator}\n",
      "\n",
      "<COREF ID=\"X4\">price</COREF>\n",
      "{20} {prices}\n",
      "\n",
      "<COREF ID=\"X5\">a sharp rise in OPEC production</COREF>\n",
      "\n",
      "<COREF ID=\"X6\">a day</COREF>\n",
      "{26} {day}\n",
      "\n",
      "<COREF ID=\"X7\">20 million barrels a day early this month</COREF>\n",
      "{6} {barrels}\n",
      "{15} {barrels}\n",
      "{24} {barrels}\n",
      "{26} {barrels}\n",
      "\n",
      "<COREF ID=\"X8\">its own output</COREF>\n",
      "{18} {output}\n",
      "{23} {output}\n",
      "{24} {output}\n",
      "\n",
      "<COREF ID=\"X9\">a targeted 1.5 million barrels a day</COREF>\n",
      "{15} {barrels}\n",
      "{24} {barrels}\n",
      "{26} {barrels}\n",
      "\n",
      "<COREF ID=\"X10\">Saudi Arabia</COREF>\n",
      "{23} {Arabia}\n",
      "\n",
      "<COREF ID=\"X11\">its government</COREF>\n",
      "{14} {government}\n",
      "\n",
      "<COREF ID=\"X12\">conciliatory gestures to OPEC</COREF>\n",
      "{10} {gestures}\n",
      "\n",
      "<COREF ID=\"X13\">yesterday</COREF>\n",
      "{14} {yesterday}\n",
      "{21} {yesterday}\n",
      "\n",
      "<COREF ID=\"X14\">Abu Dhabi</COREF>\n",
      "{20} {Dhabi}\n",
      "\n",
      "<COREF ID=\"X15\">OPEC's new secretary-general, </COREF>\n",
      "\n",
      "<COREF ID=\"X16\">Sheik Zayed Al Nahyyan, </COREF>\n",
      "\n",
      "<COREF ID=\"X17\">Rilwanu Lukman, </COREF>\n",
      "{12} {his}\n",
      "\n",
      "<COREF ID=\"X18\">its assigned quota of 948,000 barrels a day</COREF>\n",
      "{14} {quota}\n",
      "{17} {quota}\n",
      "{20} {decision}\n",
      "\n",
      "<COREF ID=\"X19\">the round of talks with Mr. Subroto</COREF>\n",
      "\n",
      "<COREF ID=\"X20\">the Emirates' official news agency</COREF>\n",
      "{13} {report}\n",
      "\n",
      "<COREF ID=\"X21\">oil</COREF>\n",
      "{20} {oil}\n",
      "{20} {oil}\n",
      "{25} {oil}\n",
      "{25} {oil}\n",
      "\n",
      "<COREF ID=\"X22\">such excess output by the Emirates</COREF>\n",
      "{18} {output}\n",
      "{23} {output}\n",
      "{24} {output}\n",
      "\n",
      "<COREF ID=\"X23\">the world oil markets</COREF>\n",
      "{25} {markets}\n",
      "{25} {Consultants}\n",
      "\n",
      "<COREF ID=\"X24\">That</COREF>\n",
      "\n",
      "<COREF ID=\"X25\">other exporters</COREF>\n",
      "\n",
      "<COREF ID=\"X26\">the meeting</COREF>\n",
      "\n",
      "<COREF ID=\"X27\">just over 19 million barrels a day</COREF>\n",
      "{24} {barrels}\n",
      "{26} {barrels}\n",
      "\n",
      "<COREF ID=\"X28\">Charles L. McSpadden, </COREF>\n",
      "\n",
      "<COREF ID=\"X29\">Antonio M. Szabo, </COREF>\n",
      "{26} {Szabo}\n",
=======
      "<COREF ID=\"X0\">Early Aluminum Talks</COREF>\n",
      "{5} {talks}\n",
      "{11} {talks}\n",
      "\n",
      "<COREF ID=\"X1\">Steel Union</COREF>\n",
      "{5} {union}\n",
      "{8} {negotiator}\n",
      "{9} {members}\n",
      "{12} {union}\n",
      "{13} {unions}\n",
      "\n",
      "<COREF ID=\"X2\">2 Firms</COREF>\n",
      "\n",
      "<COREF ID=\"X3\">ST. LOUIS</COREF>\n",
      "{5} {union}\n",
      "{9} {industry}\n",
      "{10} {circumstances}\n",
      "{12} {Steelworkers}\n",
      "\n",
      "<COREF ID=\"X4\">1986</COREF>\n",
      "{8} {1986}\n",
      "\n",
      "<COREF ID=\"X5\">The current pacts with Aluminum Co. of America and Reynolds Metals Co.</COREF>\n",
      "\n",
      "<COREF ID=\"X6\">our members</COREF>\n",
      "{9} {members}\n",
      "\n",
      "<COREF ID=\"X7\">sacrifices to help the companies over hard times</COREF>\n",
      "{9} {sacrifices}\n",
      "\n",
      "<COREF ID=\"X8\">George Becker, </COREF>\n",
      "{9} {Becker}\n",
      "\n",
      "<COREF ID=\"X9\">a strong recovery</COREF>\n",
      "\n",
      "<COREF ID=\"X10\">Pittsburgh-based Alcoa</COREF>\n",
      "{13} {employees}\n",
      "\n",
      "<COREF ID=\"X11\">Reynolds, Richmond, Va.,</COREF>\n",
      "{13} {employees}\n",
      "\n",
      "<COREF ID=\"X12\">union</COREF>\n",
      "{12} {union}\n",
      "{13} {unions}\n",
>>>>>>> addSemantics
      "\n"
     ]
    }
   ],
   "source": [
    "# %%capture cap --no-stderr\n",
    "printOP(cluster_head_dict, coref_final_with_pro)"
   ]
  },
  {
   "cell_type": "code",
   "execution_count": 24,
   "metadata": {},
   "outputs": [],
   "source": [
    "# with open('{}.response'.format(file_number),'w') as f:\n",
    "#     f.write(cap.stdout)"
   ]
  },
  {
   "cell_type": "markdown",
   "metadata": {},
   "source": [
    "### Answer Key"
   ]
  },
  {
   "cell_type": "code",
   "execution_count": 25,
   "metadata": {
    "scrolled": true
   },
   "outputs": [],
   "source": [
    "# reader_o = ReadInput(key_path)\n",
    "# ans = reader_o.getListOfSentences()\n",
    "# ans"
   ]
  },
  {
   "cell_type": "code",
   "execution_count": null,
   "metadata": {},
   "outputs": [],
   "source": []
  },
  {
   "cell_type": "code",
   "execution_count": null,
   "metadata": {},
   "outputs": [],
   "source": []
  },
  {
   "cell_type": "code",
   "execution_count": null,
   "metadata": {},
   "outputs": [],
   "source": []
  }
 ],
 "metadata": {
  "kernelspec": {
   "display_name": "Python 3",
   "language": "python",
   "name": "python3"
  },
  "language_info": {
   "codemirror_mode": {
    "name": "ipython",
    "version": 3
   },
   "file_extension": ".py",
   "mimetype": "text/x-python",
   "name": "python",
   "nbconvert_exporter": "python",
   "pygments_lexer": "ipython3",
   "version": "3.7.4"
  }
 },
 "nbformat": 4,
 "nbformat_minor": 2
}
