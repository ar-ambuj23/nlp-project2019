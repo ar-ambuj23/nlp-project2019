{
 "cells": [
  {
   "cell_type": "code",
   "execution_count": 1,
   "metadata": {},
   "outputs": [],
   "source": [
    "# import nltk\n",
    "# nltk.download('punkt')\n",
    "# nltk.download('averaged_perceptron_tagger')"
   ]
  },
  {
   "cell_type": "code",
   "execution_count": 1,
   "metadata": {},
   "outputs": [],
   "source": [
    "from reader import *\n",
    "from string_matching_by_word import *\n",
    "from string_matching_by_spaCy_NP import *\n",
    "from word_embeddings_by_spaCy_NP import *\n",
    "from hobbs import entry\n",
    "from nltk import pos_tag"
   ]
  },
  {
   "cell_type": "code",
   "execution_count": 2,
   "metadata": {},
   "outputs": [],
   "source": [
    "import warnings\n",
    "warnings.filterwarnings(\"ignore\")"
   ]
  },
  {
   "cell_type": "code",
   "execution_count": 14,
   "metadata": {},
   "outputs": [],
   "source": [
    "file_number = 'b19'"
   ]
  },
  {
   "cell_type": "markdown",
   "metadata": {},
   "source": [
    "### Read Document"
   ]
  },
  {
   "cell_type": "code",
   "execution_count": 15,
   "metadata": {},
   "outputs": [],
   "source": [
    "input_path = '/Users/ambuj/Documents/MS Stuff/nlp_cs_6340/final_project/nlp-project2019/dev/{}.input'.format(file_number)\n",
    "key_path = '/Users/ambuj/Documents/MS Stuff/nlp_cs_6340/final_project/nlp-project2019/dev/{}.key'.format(file_number)"
   ]
  },
  {
   "cell_type": "code",
   "execution_count": 16,
   "metadata": {},
   "outputs": [],
   "source": [
    "read = ReadInput(input_path)\n",
    "list_of_sentences = read.getListOfSentences()\n",
    "full_text = read.getText()"
   ]
  },
  {
   "cell_type": "markdown",
   "metadata": {},
   "source": [
    "### Get Sentence Dict and Cluster Head Dict"
   ]
  },
  {
   "cell_type": "code",
   "execution_count": 17,
   "metadata": {},
   "outputs": [],
   "source": [
    "sentence_dict = getSentenceDict(list_of_sentences)\n",
    "cluster_head_dict = getClusterHeads(sentence_dict)"
   ]
  },
  {
   "cell_type": "code",
   "execution_count": 18,
   "metadata": {
    "scrolled": true
   },
   "outputs": [
    {
     "data": {
      "text/plain": [
       "{'X0': [1, 'Early Aluminum Talks'],\n",
       " 'X1': [1, 'Steel Union'],\n",
       " 'X2': [1, '2 Firms'],\n",
       " 'X3': [4, 'ST. LOUIS'],\n",
       " 'X4': [6, '1986'],\n",
       " 'X5': [7,\n",
       "  'The current pacts with Aluminum Co. of America and Reynolds Metals Co.'],\n",
       " 'X6': [8, 'our members'],\n",
       " 'X7': [8, 'sacrifices to help the companies over hard times'],\n",
       " 'X8': [8, 'George Becker, '],\n",
       " 'X9': [9, 'a strong recovery'],\n",
       " 'X10': [11, 'Pittsburgh-based Alcoa'],\n",
       " 'X11': [11, 'Reynolds, Richmond, Va.,'],\n",
       " 'X12': [12, 'union']}"
      ]
     },
     "execution_count": 18,
     "metadata": {},
     "output_type": "execute_result"
    }
   ],
   "source": [
    "cluster_head_dict"
   ]
  },
  {
   "cell_type": "markdown",
   "metadata": {},
   "source": [
    "### Get Coref for exact match by word"
   ]
  },
  {
   "cell_type": "code",
   "execution_count": 19,
   "metadata": {},
   "outputs": [
    {
     "data": {
      "text/plain": [
       "{'X4': [['1986', 8, '1986', 100]],\n",
       " 'X12': [['union', 12, 'union', 100], ['union', 13, 'unions', 91]]}"
      ]
     },
     "execution_count": 19,
     "metadata": {},
     "output_type": "execute_result"
    }
   ],
   "source": [
    "coref_dict_match_word = getCorefDict_match_word(sentence_dict, cluster_head_dict,90)\n",
    "coref_dict_match_word"
   ]
  },
  {
   "cell_type": "markdown",
   "metadata": {},
   "source": [
    "### Get Coref for threshold match by NP"
   ]
  },
  {
   "cell_type": "code",
   "execution_count": 20,
   "metadata": {},
   "outputs": [],
   "source": [
    "coref_dict_match_NP = getCorefDict_match_NP(sentence_dict, cluster_head_dict,80)"
   ]
  },
  {
   "cell_type": "code",
   "execution_count": 21,
   "metadata": {
    "scrolled": false
   },
   "outputs": [
    {
     "data": {
      "text/plain": [
       "{'X0': [[Early Aluminum Talks, 5, 'early contract talks', 100],\n",
       "  [Early Aluminum Talks, 11, 'the early talks', 100]],\n",
       " 'X1': [[Steel Union, 5, 'The United Steelworkers union', 100],\n",
       "  [Steel Union, 8, \"the union's chief negotiator\", 100],\n",
       "  [Steel Union, 9, 'union members', 100],\n",
       "  [Steel Union, 12, 'the Aluminum, Brick and Glass Workers union', 100],\n",
       "  [Steel Union, 13, 'the two unions', 100]],\n",
       " 'X3': [[ST. LOUIS, 5, 'The United Steelworkers union', 100],\n",
       "  [ST. LOUIS, 9, 'the aluminum industry', 100],\n",
       "  [ST. LOUIS, 10, 'normal circumstances', 100],\n",
       "  [ST. LOUIS, 12, 'the Steelworkers', 100]],\n",
       " 'X6': [[our members, 9, 'union members', 100]],\n",
       " 'X7': [[sacrifices to help the companies over hard times,\n",
       "   9,\n",
       "   'the sacrifices',\n",
       "   100]],\n",
       " 'X8': [[George Becker, , 9, 'Mr. Becker', 100]],\n",
       " 'X10': [[Pittsburgh-based Alcoa,\n",
       "   13,\n",
       "   'about 21,000 Alcoa and Reynolds employees',\n",
       "   100]],\n",
       " 'X11': [[Reynolds, Richmond, Va.,,\n",
       "   13,\n",
       "   'about 21,000 Alcoa and Reynolds employees',\n",
       "   100]]}"
      ]
     },
     "execution_count": 21,
     "metadata": {},
     "output_type": "execute_result"
    }
   ],
   "source": [
    "coref_dict_match_NP"
   ]
  },
  {
   "cell_type": "markdown",
   "metadata": {},
   "source": [
    "### Get Coref for Word Embedding Similarity by NP"
   ]
  },
  {
   "cell_type": "code",
   "execution_count": 12,
   "metadata": {
    "scrolled": true
   },
   "outputs": [],
   "source": [
    "# coref_dict_all_sorted = getCorefDict_all_sorted(sentence_dict, cluster_head_dict,0.5)\n",
    "# coref_dict_max_sentence = getCorefDict_max_of_each_sentence(sentence_dict, cluster_head_dict,0.5)"
   ]
  },
  {
   "cell_type": "code",
   "execution_count": 11,
   "metadata": {},
   "outputs": [],
   "source": [
    "# coref_dict_all_sorted_top3 = get_TopN_Matches(coref_dict_all_sorted,3)"
   ]
  },
  {
   "cell_type": "markdown",
   "metadata": {},
   "source": [
    "### Merging coref_dict_match_NP with coref_dict_all_sorted_top3"
   ]
  },
  {
   "cell_type": "code",
   "execution_count": 22,
   "metadata": {},
   "outputs": [],
   "source": [
    "def mergeDicts(dict1, dict2):\n",
    "    \n",
    "    d1 = dict1.copy()\n",
    "    d2 = dict2.copy()\n",
    "    \n",
    "    d1_keys = d1.keys()\n",
    "    d2_keys = d2.keys()\n",
    "    \n",
    "    for key in d1_keys:\n",
    "        d1[key] = list(map(lambda x: x[0:3], d1[key]))\n",
    "    \n",
    "    for key in d2_keys:\n",
    "        d2[key] = list(map(lambda x: x[0:3], d2[key]))\n",
    "    \n",
    "    for key in d2_keys:\n",
    "        if(key not in d1_keys):\n",
    "            d1[key] = d2[key]\n",
    "        else:\n",
    "            for val in d2[key]:\n",
    "                if(val not in d1[key]):\n",
    "                    d1[key].append(val)\n",
    "    \n",
    "    return dict(sorted(d1.items()))"
   ]
  },
  {
   "cell_type": "code",
   "execution_count": 23,
   "metadata": {},
   "outputs": [],
   "source": [
    "coref_final = mergeDicts(coref_dict_match_word, coref_dict_match_NP)"
   ]
  },
  {
   "cell_type": "code",
   "execution_count": 24,
   "metadata": {
    "scrolled": false
   },
   "outputs": [
    {
     "data": {
      "text/plain": [
       "{'X0': [[Early Aluminum Talks, 5, 'early contract talks'],\n",
       "  [Early Aluminum Talks, 11, 'the early talks']],\n",
       " 'X1': [[Steel Union, 5, 'The United Steelworkers union'],\n",
       "  [Steel Union, 8, \"the union's chief negotiator\"],\n",
       "  [Steel Union, 9, 'union members'],\n",
       "  [Steel Union, 12, 'the Aluminum, Brick and Glass Workers union'],\n",
       "  [Steel Union, 13, 'the two unions']],\n",
       " 'X10': [[Pittsburgh-based Alcoa,\n",
       "   13,\n",
       "   'about 21,000 Alcoa and Reynolds employees']],\n",
       " 'X11': [[Reynolds, Richmond, Va.,,\n",
       "   13,\n",
       "   'about 21,000 Alcoa and Reynolds employees']],\n",
       " 'X12': [['union', 12, 'union'], ['union', 13, 'unions']],\n",
       " 'X3': [[ST. LOUIS, 5, 'The United Steelworkers union'],\n",
       "  [ST. LOUIS, 9, 'the aluminum industry'],\n",
       "  [ST. LOUIS, 10, 'normal circumstances'],\n",
       "  [ST. LOUIS, 12, 'the Steelworkers']],\n",
       " 'X4': [['1986', 8, '1986']],\n",
       " 'X6': [[our members, 9, 'union members']],\n",
       " 'X7': [[sacrifices to help the companies over hard times,\n",
       "   9,\n",
       "   'the sacrifices']],\n",
       " 'X8': [[George Becker, , 9, 'Mr. Becker']]}"
      ]
     },
     "execution_count": 24,
     "metadata": {},
     "output_type": "execute_result"
    }
   ],
   "source": [
    "coref_final"
   ]
  },
  {
   "cell_type": "markdown",
   "metadata": {},
   "source": [
    "### Passing the reference dict to Hobbs"
   ]
  },
  {
   "cell_type": "code",
   "execution_count": 30,
   "metadata": {},
   "outputs": [],
   "source": [
    "# coref_final_with_pro = entry(list_of_sentences, cluster_head_dict, coref_final)"
   ]
  },
  {
   "cell_type": "code",
   "execution_count": 32,
   "metadata": {
    "scrolled": true
   },
   "outputs": [],
   "source": [
    "# coref_final_with_pro"
   ]
  },
  {
   "cell_type": "markdown",
   "metadata": {},
   "source": [
    "### Adding those Cluster Heads which were not predicted"
   ]
  },
  {
   "cell_type": "code",
   "execution_count": 25,
   "metadata": {},
   "outputs": [],
   "source": [
    "def addNOPredsClusterHeads(cluster_head_dict, coref_final_with_pro):\n",
    "    for cluster_id, cluster_val in cluster_head_dict.items():\n",
    "        if(cluster_id not in coref_final_with_pro.keys()):\n",
    "            coref_final_with_pro[cluster_id] = [['',int(cluster_val[0]),'', None]]\n",
    "            \n",
    "    return coref_final_with_pro"
   ]
  },
  {
   "cell_type": "code",
   "execution_count": 26,
   "metadata": {},
   "outputs": [],
   "source": [
    "coref_final_with_pro = addNOPredsClusterHeads(cluster_head_dict, coref_final)"
   ]
  },
  {
   "cell_type": "code",
   "execution_count": 27,
   "metadata": {
    "scrolled": true
   },
   "outputs": [
    {
     "data": {
      "text/plain": [
       "{'X0': [[Early Aluminum Talks, 5, 'early contract talks'],\n",
       "  [Early Aluminum Talks, 11, 'the early talks']],\n",
       " 'X1': [[Steel Union, 5, 'The United Steelworkers union'],\n",
       "  [Steel Union, 8, \"the union's chief negotiator\"],\n",
       "  [Steel Union, 9, 'union members'],\n",
       "  [Steel Union, 12, 'the Aluminum, Brick and Glass Workers union'],\n",
       "  [Steel Union, 13, 'the two unions']],\n",
       " 'X10': [[Pittsburgh-based Alcoa,\n",
       "   13,\n",
       "   'about 21,000 Alcoa and Reynolds employees']],\n",
       " 'X11': [[Reynolds, Richmond, Va.,,\n",
       "   13,\n",
       "   'about 21,000 Alcoa and Reynolds employees']],\n",
       " 'X12': [['union', 12, 'union'], ['union', 13, 'unions']],\n",
       " 'X3': [[ST. LOUIS, 5, 'The United Steelworkers union'],\n",
       "  [ST. LOUIS, 9, 'the aluminum industry'],\n",
       "  [ST. LOUIS, 10, 'normal circumstances'],\n",
       "  [ST. LOUIS, 12, 'the Steelworkers']],\n",
       " 'X4': [['1986', 8, '1986']],\n",
       " 'X6': [[our members, 9, 'union members']],\n",
       " 'X7': [[sacrifices to help the companies over hard times,\n",
       "   9,\n",
       "   'the sacrifices']],\n",
       " 'X8': [[George Becker, , 9, 'Mr. Becker']],\n",
       " 'X2': [['', 1, '', None]],\n",
       " 'X5': [['', 7, '', None]],\n",
       " 'X9': [['', 9, '', None]]}"
      ]
     },
     "execution_count": 27,
     "metadata": {},
     "output_type": "execute_result"
    }
   ],
   "source": [
    "coref_final_with_pro"
   ]
  },
  {
   "cell_type": "markdown",
   "metadata": {},
   "source": [
    "### Removing the Determiners from the start"
   ]
  },
  {
   "cell_type": "code",
   "execution_count": 36,
   "metadata": {},
   "outputs": [],
   "source": [
    "def removeDetfromStart(coref_final_with_pro):\n",
    "    for cluster in coref_final_with_pro.keys():\n",
    "        for i in range(0, len(coref_final_with_pro[cluster])):\n",
    "            if(len(coref_final_with_pro[cluster][i][2].split(' '))>1):\n",
    "                ref_word_list = coref_final_with_pro[cluster][i][2].strip().split(' ')\n",
    "                ref_word_list = list(filter(bool, ref_word_list) )\n",
    "                check = pos_tag(ref_word_list)\n",
    "                if len(check) >1:\n",
    "                    if 'DT' in check[0][1]:\n",
    "                        sentence = ' '.join(coref_final_with_pro[cluster][i][2].split(' ')[1:])\n",
    "                        coref_final_with_pro[cluster][i][2] = ' '.join(coref_final_with_pro[cluster][i][2].split(' ')[1:])\n",
    "                        \n",
    "    return coref_final_with_pro"
   ]
  },
  {
   "cell_type": "code",
   "execution_count": 37,
   "metadata": {},
   "outputs": [],
   "source": [
    "coref_final_with_pro = removeDetfromStart(coref_final_with_pro)"
   ]
  },
  {
   "cell_type": "markdown",
   "metadata": {},
   "source": [
    "### Print Output"
   ]
  },
  {
   "cell_type": "code",
   "execution_count": 17,
   "metadata": {},
   "outputs": [
    {
     "data": {
      "text/plain": [
       "dict_keys(['X3', 'X5'])"
      ]
     },
     "execution_count": 17,
     "metadata": {},
     "output_type": "execute_result"
    }
   ],
   "source": [
    "coref_dict_match_NP.keys()"
   ]
  },
  {
   "cell_type": "code",
   "execution_count": 18,
   "metadata": {},
   "outputs": [
    {
     "data": {
      "text/plain": [
       "dict_keys(['X0', 'X2', 'X4', 'X6', 'X7', 'X8'])"
      ]
     },
     "execution_count": 18,
     "metadata": {},
     "output_type": "execute_result"
    }
   ],
   "source": [
    "coref_dict_match_word.keys()"
   ]
  },
  {
   "cell_type": "code",
   "execution_count": 38,
   "metadata": {},
   "outputs": [],
   "source": [
    "def printOP(cluster_head_dict, coref_final_with_pro):\n",
    "    \n",
    "    for cluster_id, cluster_head_name in cluster_head_dict.items():\n",
    "\n",
    "        print('<COREF ID=\"{}\">{}</COREF>'.format(cluster_id, cluster_head_name[1]))\n",
    "\n",
    "        coreferences = coref_final_with_pro[cluster_id]\n",
    "        list_of_sent_ids = list(map(lambda x: x[1], coreferences))\n",
    "        sorted_index_sent_ids = [i[0] for i in sorted(enumerate(list_of_sent_ids), key=lambda x:x[1])]\n",
    "        coreferences = [coreferences[i] for i in sorted_index_sent_ids]\n",
    "\n",
    "        for coref in coreferences:\n",
    "            if(coref[0] == ''):\n",
    "                continue\n",
    "            print('{{{0}}}'.format(coref[1]) + ' ' + '{' + coref[2] + '}')\n",
    "        print('\\n', end = '')      "
   ]
  },
  {
   "cell_type": "code",
   "execution_count": 39,
   "metadata": {
    "scrolled": true
   },
   "outputs": [
    {
     "name": "stdout",
     "output_type": "stream",
     "text": [
      "<COREF ID=\"X0\">ProMED</COREF>\n",
      "{15} {ProMED}\n",
      "\n",
      "<COREF ID=\"X1\">posting</COREF>\n",
      "\n",
      "<COREF ID=\"X2\">Psittacosis</COREF>\n",
      "{5} {psittacosis}\n",
      "{16} {psittacosis}\n",
      "\n",
      "<COREF ID=\"X3\">one significant misleading fact and a few questionable elements</COREF>\n",
      "{14} {significance}\n",
      "\n",
      "<COREF ID=\"X4\">I</COREF>\n",
      "{2} {It}\n",
      "{2} {It}\n",
      "{3} {it}\n",
      "{3} {it}\n",
      "{9} {I}\n",
      "\n",
      "<COREF ID=\"X5\">the source</COREF>\n",
      "{14} {source}\n",
      "{14} {It}\n",
      "{14} {It}\n",
      "\n",
      "<COREF ID=\"X6\">transmission</COREF>\n",
      "{5} {transmission}\n",
      "{8} {transmission}\n",
      "{8} {It}\n",
      "{8} {It}\n",
      "{8} {it}\n",
      "{8} {it}\n",
      "{19} {transmission}\n",
      "{19} {it}\n",
      "{19} {it}\n",
      "\n",
      "<COREF ID=\"X7\">species</COREF>\n",
      "{10} {species}\n",
      "{11} {species}\n",
      "{12} {species}\n",
      "\n",
      "<COREF ID=\"X8\">some</COREF>\n",
      "{11} {some}\n",
      "{12} {they}\n",
      "{12} {they}\n",
      "\n",
      "<COREF ID=\"X9\">the organism</COREF>\n",
      "\n",
      "<COREF ID=\"X10\">time</COREF>\n",
      "\n"
     ]
    }
   ],
   "source": [
    "# %%capture cap --no-stderr\n",
    "printOP(cluster_head_dict, coref_final_with_pro)"
   ]
  },
  {
   "cell_type": "code",
   "execution_count": 387,
   "metadata": {},
   "outputs": [],
   "source": [
    "with open('{}.response'.format(file_number),'w') as f:\n",
    "    f.write(cap.stdout)"
   ]
  },
  {
   "cell_type": "markdown",
   "metadata": {},
   "source": [
    "### Answer Key"
   ]
  },
  {
   "cell_type": "code",
   "execution_count": 103,
   "metadata": {
    "scrolled": true
   },
   "outputs": [],
   "source": [
    "# reader_o = ReadInput(key_path)\n",
    "# ans = reader_o.getListOfSentences()\n",
    "# ans"
   ]
  },
  {
   "cell_type": "markdown",
   "metadata": {},
   "source": [
    "### Making no predictions for Pronouns (will be included in final version - Reverse Hobb's/ Trained Word Embedding model)"
   ]
  },
  {
   "cell_type": "code",
   "execution_count": 395,
   "metadata": {
    "scrolled": true
   },
   "outputs": [],
   "source": [
    "def removePredsforPronouns(coref_final_with_pro):\n",
    "    for cluster in coref_final_with_pro.keys():\n",
    "        for i in range(0, len(coref_final_with_pro[cluster])):\n",
    "            curr_cluster_name = coref_final_with_pro[cluster][i][0].split(' ')\n",
    "            if(len(curr_cluster_name)==1 and curr_cluster_name[0]!=''):\n",
    "                if('PRP' in pos_tag(curr_cluster_name)[0]):\n",
    "                    coref_final_with_pro[cluster] = []\n",
    "                    break\n",
    "    return coref_final_with_pro"
   ]
  },
  {
   "cell_type": "code",
   "execution_count": 396,
   "metadata": {},
   "outputs": [],
   "source": [
    "coref_final_with_pro = removePredsforPronouns(coref_final_with_pro)"
   ]
  }
 ],
 "metadata": {
  "kernelspec": {
   "display_name": "Python 3",
   "language": "python",
   "name": "python3"
  },
  "language_info": {
   "codemirror_mode": {
    "name": "ipython",
    "version": 3
   },
   "file_extension": ".py",
   "mimetype": "text/x-python",
   "name": "python",
   "nbconvert_exporter": "python",
   "pygments_lexer": "ipython3",
   "version": "3.7.4"
  }
 },
 "nbformat": 4,
 "nbformat_minor": 2
}
