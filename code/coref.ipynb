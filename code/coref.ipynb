{
 "cells": [
  {
   "cell_type": "code",
   "execution_count": 2,
   "metadata": {},
   "outputs": [],
   "source": [
    "from reader import *\n",
    "from string_matching_by_word import *\n",
    "from string_matching_by_spaCy_NP import *\n",
    "from word_embeddings_by_spaCy_NP import *"
   ]
  },
  {
   "cell_type": "code",
   "execution_count": 3,
   "metadata": {},
   "outputs": [],
   "source": [
    "import warnings\n",
    "warnings.filterwarnings(\"ignore\")"
   ]
  },
  {
   "cell_type": "markdown",
   "metadata": {},
   "source": [
    "### Read Document"
   ]
  },
  {
   "cell_type": "code",
   "execution_count": 4,
   "metadata": {},
   "outputs": [],
   "source": [
    "input_path = '/Users/ambuj/Documents/MS Stuff/nlp_cs_6340/final_project/nlp-project2019/dev/a10.input'\n",
    "key_path = '/Users/ambuj/Documents/MS Stuff/nlp_cs_6340/final_project/nlp-project2019/dev/a10.key'"
   ]
  },
  {
   "cell_type": "code",
   "execution_count": 5,
   "metadata": {},
   "outputs": [],
   "source": [
    "read = ReadInput(input_path)\n",
    "list_of_sentences = read.getListOfSentences()\n",
    "full_text = read.getText()"
   ]
  },
  {
   "cell_type": "markdown",
   "metadata": {},
   "source": [
    "### Get Sentence Dict and Cluster Head Dict"
   ]
  },
  {
   "cell_type": "code",
   "execution_count": 6,
   "metadata": {},
   "outputs": [],
   "source": [
    "sentence_dict = getSentenceDict(list_of_sentences)\n",
    "cluster_head_dict = getClusterHeads(sentence_dict)"
   ]
  },
  {
   "cell_type": "markdown",
   "metadata": {},
   "source": [
    "### Get Coref for exact match by word"
   ]
  },
  {
   "cell_type": "code",
   "execution_count": 7,
   "metadata": {},
   "outputs": [],
   "source": [
    "coref_dict_match_word = getCorefDict_match_word(sentence_dict, cluster_head_dict,90)"
   ]
  },
  {
   "cell_type": "code",
   "execution_count": 8,
   "metadata": {},
   "outputs": [
    {
     "data": {
      "text/plain": [
       "{'X2': [['NAVY', 10, 'Navy', 100],\n",
       "  ['NAVY', 12, 'Navy', 100],\n",
       "  ['NAVY', 13, 'Navy', 100],\n",
       "  ['NAVY', 15, 'Navy', 100],\n",
       "  ['NAVY', 19, 'Navy', 100],\n",
       "  ['NAVY', 21, 'Navy', 100],\n",
       "  ['NAVY', 27, 'Navy', 100],\n",
       "  ['NAVY', 30, 'Navy', 100],\n",
       "  ['NAVY', 31, 'Navy', 100],\n",
       "  ['NAVY', 35, 'Navy', 100],\n",
       "  ['NAVY', 36, 'Navy', 100]],\n",
       " 'X5': [['Thursday', 19, 'Thursday', 100], ['Thursday', 26, 'Thursday', 100]],\n",
       " 'X12': [['Carrier', 23, 'carrier', 100], ['Carrier', 29, 'carrier', 100]]}"
      ]
     },
     "execution_count": 8,
     "metadata": {},
     "output_type": "execute_result"
    }
   ],
   "source": [
    "coref_dict_match_word"
   ]
  },
  {
   "cell_type": "markdown",
   "metadata": {},
   "source": [
    "### Get Coref for threshold match by NP"
   ]
  },
  {
   "cell_type": "code",
   "execution_count": 24,
   "metadata": {},
   "outputs": [],
   "source": [
    "coref_dict_match_NP = getCorefDict_match_NP(sentence_dict, cluster_head_dict,80)"
   ]
  },
  {
   "cell_type": "code",
   "execution_count": 25,
   "metadata": {},
   "outputs": [
    {
     "data": {
      "text/plain": [
       "{'X0': [['GROUNDED-JETS', 5, 'BC-GROUNDED-JETS-BOS', 100],\n",
       "  ['GROUNDED-JETS', 6, ' GROUNDS', 86]],\n",
       " 'X2': [['NAVY', 10, 'The Navy', 100],\n",
       "  ['NAVY', 12, 'The Navy', 100],\n",
       "  ['NAVY', 13, 'The Navy', 100],\n",
       "  ['NAVY', 15, 'The Navy', 100],\n",
       "  ['NAVY', 19, 'the Navy', 100],\n",
       "  ['NAVY', 21, 'Navy personnel', 100],\n",
       "  ['NAVY', 27, 'the Navy', 100],\n",
       "  ['NAVY', 29, \"the Navy's first female pilots\", 100],\n",
       "  ['NAVY', 30, 'The Navy', 100],\n",
       "  ['NAVY', 31, 'the Navy', 100],\n",
       "  ['NAVY', 35, 'the Navy', 100],\n",
       "  ['NAVY', 36, 'The Navy', 100]],\n",
       " 'X6': [[\"The 72-hour ``safety stand-down''\", 25, 'the stand-down', 86],\n",
       "  [\"The 72-hour ``safety stand-down''\", 26, 'the standdown', 85]],\n",
       " 'X9': [['Defense Department spokesman Kenneth Bacon', 24, 'Bacon', 100],\n",
       "  ['Defense Department spokesman Kenneth Bacon', 26, 'Bacon', 100],\n",
       "  ['Defense Department spokesman Kenneth Bacon', 27, 'Bacon', 100],\n",
       "  ['Defense Department spokesman Kenneth Bacon', 35, 'Bacon', 100],\n",
       "  ['Defense Department spokesman Kenneth Bacon', 36, 'Bacon', 100]],\n",
       " 'X10': [['A safety stand-down', 25, 'the stand-down', 86],\n",
       "  ['A safety stand-down', 26, 'the standdown', 85]],\n",
       " 'X12': [['Carrier', 29, 'an aircraft carrier', 100]]}"
      ]
     },
     "execution_count": 25,
     "metadata": {},
     "output_type": "execute_result"
    }
   ],
   "source": [
    "coref_dict_match_NP"
   ]
  },
  {
   "cell_type": "markdown",
   "metadata": {},
   "source": [
    "### Get Coref for Word Embedding Similarity by NP"
   ]
  },
  {
   "cell_type": "code",
   "execution_count": 11,
   "metadata": {
    "scrolled": true
   },
   "outputs": [],
   "source": [
    "coref_dict_all_sorted = getCorefDict_all_sorted(sentence_dict, cluster_head_dict,0.5)\n",
    "coref_dict_max_sentence = getCorefDict_max_of_each_sentence(sentence_dict, cluster_head_dict,0.5)"
   ]
  },
  {
   "cell_type": "code",
   "execution_count": 16,
   "metadata": {},
   "outputs": [],
   "source": [
    "coref_dict_all_sorted_top3 = get_TopN_Matches(coref_dict_all_sorted,3)"
   ]
  },
  {
   "cell_type": "markdown",
   "metadata": {},
   "source": [
    "### Merging coref_dict_match_NP with coref_dict_all_sorted_top3"
   ]
  },
  {
   "cell_type": "code",
   "execution_count": 78,
   "metadata": {},
   "outputs": [],
   "source": [
    "def mergeDicts(d1, d2):\n",
    "    \n",
    "    d1_keys = d1.keys()\n",
    "    d2_keys = d2.keys()\n",
    "    \n",
    "    d_keys = list(set(d1_keys).union(set(d2_keys)))\n",
    "    d = {}\n",
    "    \n",
    "    for key in d_keys:\n",
    "\n",
    "        d1_val = []\n",
    "        d2_val = []\n",
    "        \n",
    "        if(key in d1_keys):\n",
    "            d1_val = set(tuple(i) for i in d1[key])\n",
    "        if(key in d2_keys):\n",
    "            d2_val = set(tuple(i) for i in d2[key])\n",
    "            \n",
    "        if(len(d1_val)!= 0 and len(d2_val)!= 0):\n",
    "            d[key] = list(d1_val.union(d2_val))\n",
    "            d[key] = [list(i) for i in d[key]]\n",
    "        elif(len(d1_val)== 0 and len(d2_val)!= 0):\n",
    "            d[key] = d2[key]\n",
    "        elif(len(d1_val)!= 0 and len(d2_val)== 0):\n",
    "            d[key] = d1[key]\n",
    "    \n",
    "    return d"
   ]
  },
  {
   "cell_type": "code",
   "execution_count": null,
   "metadata": {},
   "outputs": [],
   "source": []
  },
  {
   "cell_type": "code",
   "execution_count": 79,
   "metadata": {},
   "outputs": [],
   "source": [
    "coref_final = mergeDicts(coref_dict_match_NP, coref_dict_all_sorted)"
   ]
  },
  {
   "cell_type": "code",
   "execution_count": 80,
   "metadata": {},
   "outputs": [
    {
     "data": {
      "text/plain": [
       "[['NAVY', 15, 'The Navy', 100],\n",
       " ['NAVY', 31, 'the Navy', 100],\n",
       " ['NAVY', 19, 'the Navy', 100],\n",
       " ['NAVY', 13, 'The Navy', 0.8559929223901659],\n",
       " ['NAVY', 12, 'The Navy', 100],\n",
       " ['NAVY', 13, 'The Navy', 100],\n",
       " ['NAVY', 12, 'The Navy', 0.8559929223901659],\n",
       " ['NAVY', 27, 'the Navy', 100],\n",
       " ['NAVY', 30, 'The Navy', 100],\n",
       " ['NAVY', 10, 'The Navy', 0.8559929223901659],\n",
       " ['NAVY', 21, 'Navy personnel', 100],\n",
       " ['NAVY', 10, 'The Navy', 100],\n",
       " ['NAVY', 29, \"the Navy's first female pilots\", 100],\n",
       " ['NAVY', 35, 'the Navy', 100],\n",
       " ['NAVY', 36, 'The Navy', 100]]"
      ]
     },
     "execution_count": 80,
     "metadata": {},
     "output_type": "execute_result"
    }
   ],
   "source": [
    "coref_final['X2']"
   ]
  },
  {
   "cell_type": "code",
   "execution_count": null,
   "metadata": {},
   "outputs": [],
   "source": []
  },
  {
   "cell_type": "code",
   "execution_count": null,
   "metadata": {},
   "outputs": [],
   "source": []
  },
  {
   "cell_type": "code",
   "execution_count": null,
   "metadata": {},
   "outputs": [],
   "source": []
  },
  {
   "cell_type": "markdown",
   "metadata": {},
   "source": [
    "### Answer Key"
   ]
  },
  {
   "cell_type": "code",
   "execution_count": 77,
   "metadata": {
    "scrolled": true
   },
   "outputs": [
    {
     "data": {
      "text/plain": [
       "['<COREF ID=\"X0\">GROUNDED-JETS</COREF>\\n',\n",
       " '{5} {GROUNDED-JETS} {JETS}\\n',\n",
       " '{21} {F-14s} {F-14s}\\n',\n",
       " '{25} {the F-14s} {F-14s}\\n',\n",
       " '\\n',\n",
       " '<COREF ID=\"X1\">02-22</COREF>\\n',\n",
       " '{38} {02-22-96} {02-22-96}\\n',\n",
       " '\\n',\n",
       " '<COREF ID=\"X2\">NAVY</COREF>\\n',\n",
       " '{10} {Navy} {Navy}\\n',\n",
       " '{12} {Navy} {Navy}\\n',\n",
       " '{13} {Navy} {Navy}\\n',\n",
       " '{15} {Navy} {Navy}\\n',\n",
       " '{19} {Navy} {Navy}\\n',\n",
       " '{21} {Navy} {Navy}\\n',\n",
       " '{27} {Navy} {Navy}\\n',\n",
       " '{30} {Navy} {Navy}\\n',\n",
       " '{35} {Navy} {Navy}\\n',\n",
       " '{36} {Navy} {Navy}\\n',\n",
       " '{36} {they} {they}\\n',\n",
       " '\\n',\n",
       " '<COREF ID=\"X3\">THIRD RECENT CRASH</COREF>\\n',\n",
       " \"{10} {the third ``Tomcat'' crash in a month} {crash}\\n\",\n",
       " '{10} {the second in a week} {second}\\n',\n",
       " '{19} {the crash} {crash}\\n',\n",
       " '{19} {the third Tomcat crash} {crash}\\n',\n",
       " '{26} {the latest crash} {crash}\\n',\n",
       " '\\n',\n",
       " '<COREF ID=\"X4\">entire fleet of F-14 airplanes</COREF>\\n',\n",
       " '{26} {the entire fleet of more than 300 aircraft} {fleet}\\n',\n",
       " '\\n',\n",
       " '<COREF ID=\"X5\">Thursday</COREF>\\n',\n",
       " '{19} {Thursday} {Thursday}\\n',\n",
       " '{26} {Thursday} {Thursday}\\n',\n",
       " '\\n',\n",
       " '<COREF ID=\"X6\">The 72-hour ``safety stand-down\\'\\'</COREF>\\n',\n",
       " '{25} {the stand-down} {stand-down}\\n',\n",
       " '{26} {the standdown} {standdown}\\n',\n",
       " '\\n',\n",
       " '<COREF ID=\"X7\">an F-14 fighter</COREF>\\n',\n",
       " '{12} {the aircraft} {aircraft}\\n',\n",
       " '{19} {the aircraft} {the aircraft}\\n',\n",
       " '{31} {The Tomcat} {Tomcat}\\n',\n",
       " '{31} {a $38 million, twin-engine aircraft} {aircraft}\\n',\n",
       " '{31} {the standard fighter plane} {plane}\\n',\n",
       " '{32} {The aircraft} {aircraft}\\n',\n",
       " '{34} {the F-14} {F-14}\\n',\n",
       " '{35} {F-14} {F-14}\\n',\n",
       " '\\n',\n",
       " '<COREF ID=\"X8\">the two Naval aviators on board</COREF>\\n',\n",
       " '{12} {they} {they}\\n',\n",
       " '{13} {both men} {men}\\n',\n",
       " '\\n',\n",
       " '<COREF ID=\"X9\">Defense Department spokesman Kenneth Bacon</COREF>\\n',\n",
       " '{24} {Bacon} {Bacon}\\n',\n",
       " '{26} {Bacon} {Bacon}\\n',\n",
       " '{27} {Bacon} {Bacon}\\n',\n",
       " '{35} {Bacon} {Bacon}\\n',\n",
       " '{36} {me} {me}\\n',\n",
       " '{36} {Bacon} {Bacon}\\n',\n",
       " '\\n',\n",
       " '<COREF ID=\"X10\">A safety stand-down</COREF>\\n',\n",
       " '{20} {a procedure the military uses to conduct an intensive review} {procedure}\\n',\n",
       " '{21} {this three-day period} {period}\\n',\n",
       " '\\n',\n",
       " '<COREF ID=\"X11\">the USS America</COREF>\\n',\n",
       " '{22} {the aircraft carrier} {carrier}\\n',\n",
       " '\\n',\n",
       " '<COREF ID=\"X12\">Carrier</COREF>\\n',\n",
       " '{23} {carrier} {carrier}\\n',\n",
       " '\\n',\n",
       " '<COREF ID=\"X13\">these three crashes this year</COREF>\\n',\n",
       " '{27} {these accidents} {accidents}\\n',\n",
       " '{36} {these accidents} {accidents}\\n',\n",
       " '\\n',\n",
       " '<COREF ID=\"X14\">Adm. Jeremy Boorda</COREF>\\n',\n",
       " '{26} {the chief of Naval Operations} {chief of Naval Operations}\\n',\n",
       " '{26} {he} {he}\\n',\n",
       " '\\n',\n",
       " '<COREF ID=\"X15\">Deputy Defense Secretary John White</COREF>\\n',\n",
       " '{26} {him} {him}\\n',\n",
       " '\\n',\n",
       " '<COREF ID=\"X16\">One</COREF>\\n',\n",
       " '{29} {Lt. Kara Hultgren} {Kara Hultgren}\\n',\n",
       " '\\n',\n",
       " '<COREF ID=\"X17\">The oldest version of the aircraft</COREF>\\n',\n",
       " '{33} {the F-14A} {F-14A}\\n',\n",
       " '\\n',\n",
       " '<COREF ID=\"X18\">the initial years of deployment</COREF>\\n',\n",
       " '{34} {then} {then}\\n',\n",
       " '\\n',\n",
       " '<COREF ID=\"X19\">This</COREF>\\n',\n",
       " '{37} {a mystery} {mystery}\\n']"
      ]
     },
     "execution_count": 77,
     "metadata": {},
     "output_type": "execute_result"
    }
   ],
   "source": [
    "reader_o = ReadInput(key_path)\n",
    "ans = reader_o.getListOfSentences()\n",
    "ans"
   ]
  }
 ],
 "metadata": {
  "kernelspec": {
   "display_name": "Python 3",
   "language": "python",
   "name": "python3"
  },
  "language_info": {
   "codemirror_mode": {
    "name": "ipython",
    "version": 3
   },
   "file_extension": ".py",
   "mimetype": "text/x-python",
   "name": "python",
   "nbconvert_exporter": "python",
   "pygments_lexer": "ipython3",
   "version": "3.7.4"
  }
 },
 "nbformat": 4,
 "nbformat_minor": 2
}
