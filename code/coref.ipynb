{
 "cells": [
  {
   "cell_type": "code",
   "execution_count": 1,
   "metadata": {},
   "outputs": [],
   "source": [
    "# import nltk\n",
    "# nltk.download('punkt')\n",
    "# nltk.download('averaged_perceptron_tagger')"
   ]
  },
  {
   "cell_type": "code",
   "execution_count": 1,
   "metadata": {},
   "outputs": [],
   "source": [
    "from reader import *\n",
    "from string_matching_by_word import *\n",
    "from string_matching_by_spaCy_NP import *\n",
    "from word_embeddings_by_spaCy_NP import *\n",
    "from hobbs import entry\n",
    "from nltk import pos_tag"
   ]
  },
  {
   "cell_type": "code",
   "execution_count": 2,
   "metadata": {},
   "outputs": [],
   "source": [
    "import warnings\n",
    "warnings.filterwarnings(\"ignore\")"
   ]
  },
  {
   "cell_type": "code",
   "execution_count": 3,
   "metadata": {},
   "outputs": [],
   "source": [
    "file_number = 'c4'"
   ]
  },
  {
   "cell_type": "markdown",
   "metadata": {},
   "source": [
    "### Read Document"
   ]
  },
  {
   "cell_type": "code",
   "execution_count": 4,
   "metadata": {},
   "outputs": [],
   "source": [
    "input_path = '/Users/ambuj/Documents/MS Stuff/nlp_cs_6340/final_project/nlp-project2019/dev/{}.input'.format(file_number)\n",
    "key_path = '/Users/ambuj/Documents/MS Stuff/nlp_cs_6340/final_project/nlp-project2019/dev/{}.key'.format(file_number)"
   ]
  },
  {
   "cell_type": "code",
   "execution_count": 5,
   "metadata": {},
   "outputs": [],
   "source": [
    "read = ReadInput(input_path)\n",
    "list_of_sentences = read.getListOfSentences()\n",
    "full_text = read.getText()"
   ]
  },
  {
   "cell_type": "markdown",
   "metadata": {},
   "source": [
    "### Get Sentence Dict and Cluster Head Dict"
   ]
  },
  {
   "cell_type": "code",
   "execution_count": 6,
   "metadata": {},
   "outputs": [],
   "source": [
    "sentence_dict = getSentenceDict(list_of_sentences)\n",
    "cluster_head_dict = getClusterHeads(sentence_dict)"
   ]
  },
  {
   "cell_type": "markdown",
   "metadata": {},
   "source": [
    "### Get Coref for exact match by word"
   ]
  },
  {
   "cell_type": "code",
   "execution_count": 7,
   "metadata": {},
   "outputs": [],
   "source": [
    "coref_dict_match_word = getCorefDict_match_word(sentence_dict, cluster_head_dict,90)\n",
    "# coref_dict_match_word"
   ]
  },
  {
   "cell_type": "markdown",
   "metadata": {},
   "source": [
    "### Get Coref for threshold match by NP"
   ]
  },
  {
   "cell_type": "code",
   "execution_count": 8,
   "metadata": {},
   "outputs": [
    {
     "data": {
      "text/plain": [
       "{'X0': [0, 'disease'],\n",
       " 'X1': [0, 'transplant'],\n",
       " 'X2': [1, 'Trypanosoma cruzi'],\n",
       " 'X3': [2, 'the United States'],\n",
       " 'X4': [3, 'report'],\n",
       " 'X5': [3, 'cases'],\n",
       " 'X6': [3, 'infection'],\n",
       " 'X7': [3, 'organs'],\n",
       " 'X8': [3, 'donor'],\n",
       " 'X9': [4, 'The Centers for Disease Control and Prevention'],\n",
       " 'X10': [5, 'recipients'],\n",
       " 'X11': [9, 'Mod.EP']}"
      ]
     },
     "execution_count": 8,
     "metadata": {},
     "output_type": "execute_result"
    }
   ],
   "source": [
    "cluster_head_dict"
   ]
  },
  {
   "cell_type": "code",
   "execution_count": 9,
   "metadata": {},
   "outputs": [],
   "source": [
    "coref_dict_match_NP = getCorefDict_match_NP(sentence_dict, cluster_head_dict,80)\n",
    "# coref_dict_match_NP"
   ]
  },
  {
   "cell_type": "code",
   "execution_count": 10,
   "metadata": {},
   "outputs": [
    {
     "data": {
      "text/plain": [
       "{'X3': [[the United States, 3, 'the United States', 100]]}"
      ]
     },
     "execution_count": 10,
     "metadata": {},
     "output_type": "execute_result"
    }
   ],
   "source": [
    "coref_dict_match_NP"
   ]
  },
  {
   "cell_type": "code",
   "execution_count": 11,
   "metadata": {},
   "outputs": [
    {
     "data": {
      "text/plain": [
       "{'X0': [['disease', 1, 'disease', 100],\n",
       "  ['disease', 1, 'disease', 100],\n",
       "  ['disease', 1, 'disease', 100],\n",
       "  ['disease', 1, 'disease', 100],\n",
       "  ['disease', 1, 'disease', 100],\n",
       "  ['disease', 2, 'disease', 100],\n",
       "  ['disease', 2, 'disease', 100],\n",
       "  ['disease', 8, 'disease', 100]],\n",
       " 'X1': [['transplant', 4, 'transplant', 100],\n",
       "  ['transplant', 7, 'transplants', 95],\n",
       "  ['transplant', 8, 'transplants', 95]],\n",
       " 'X4': [['report', 3, 'Report', 100]],\n",
       " 'X5': [['cases', 8, 'cases', 100]],\n",
       " 'X6': [['infection', 4, 'infection', 100],\n",
       "  ['infection', 5, 'Infection', 100]],\n",
       " 'X7': [['organs', 5, 'organ', 91],\n",
       "  ['organs', 5, 'organ', 91],\n",
       "  ['organs', 8, 'organs', 100],\n",
       "  ['organs', 8, 'organ', 91],\n",
       "  ['organs', 8, 'organ', 91]],\n",
       " 'X8': [['donor', 4, 'donors', 91],\n",
       "  ['donor', 4, 'donors', 91],\n",
       "  ['donor', 7, 'donor', 100],\n",
       "  ['donor', 8, 'donor', 100]],\n",
       " 'X10': [['recipients', 5, 'recipient', 95]]}"
      ]
     },
     "execution_count": 11,
     "metadata": {},
     "output_type": "execute_result"
    }
   ],
   "source": [
    "coref_dict_match_word"
   ]
  },
  {
   "cell_type": "markdown",
   "metadata": {},
   "source": [
    "### Get Coref for Word Embedding Similarity by NP"
   ]
  },
  {
   "cell_type": "code",
   "execution_count": 14,
   "metadata": {
    "scrolled": true
   },
   "outputs": [],
   "source": [
    "# coref_dict_all_sorted = getCorefDict_all_sorted(sentence_dict, cluster_head_dict,0.5)\n",
    "# coref_dict_max_sentence = getCorefDict_max_of_each_sentence(sentence_dict, cluster_head_dict,0.5)"
   ]
  },
  {
   "cell_type": "code",
   "execution_count": 12,
   "metadata": {},
   "outputs": [],
   "source": [
    "# coref_dict_all_sorted_top3 = get_TopN_Matches(coref_dict_all_sorted,3)"
   ]
  },
  {
   "cell_type": "markdown",
   "metadata": {},
   "source": [
    "### Merging coref_dict_match_NP with coref_dict_all_sorted_top3"
   ]
  },
  {
   "cell_type": "code",
   "execution_count": 13,
   "metadata": {},
   "outputs": [],
   "source": [
    "def mergeDicts(dict1, dict2):\n",
    "    \n",
    "    d1 = dict1.copy()\n",
    "    d2 = dict2.copy()\n",
    "    \n",
    "    d1_keys = d1.keys()\n",
    "    d2_keys = d2.keys()\n",
    "    \n",
    "    for key in d1_keys:\n",
    "        d1[key] = list(map(lambda x: x[0:3], d1[key]))\n",
    "    \n",
    "    for key in d2_keys:\n",
    "        d2[key] = list(map(lambda x: x[0:3], d2[key]))\n",
    "    \n",
    "    for key in d2_keys:\n",
    "        if(key not in d1_keys):\n",
    "            d1[key] = d2[key]\n",
    "        else:\n",
    "            for val in d2[key]:\n",
    "                if(val not in d1[key]):\n",
    "                    d1[key].append(val)\n",
    "    \n",
    "    return dict(sorted(d1.items()))"
   ]
  },
  {
   "cell_type": "code",
   "execution_count": 14,
   "metadata": {},
   "outputs": [],
   "source": [
    "coref_final = mergeDicts(coref_dict_match_word, coref_dict_match_NP)"
   ]
  },
  {
   "cell_type": "code",
   "execution_count": 15,
   "metadata": {
    "scrolled": false
   },
   "outputs": [
    {
     "data": {
      "text/plain": [
       "{'X0': [['disease', 1, 'disease'],\n",
       "  ['disease', 1, 'disease'],\n",
       "  ['disease', 1, 'disease'],\n",
       "  ['disease', 1, 'disease'],\n",
       "  ['disease', 1, 'disease'],\n",
       "  ['disease', 2, 'disease'],\n",
       "  ['disease', 2, 'disease'],\n",
       "  ['disease', 8, 'disease']],\n",
       " 'X1': [['transplant', 4, 'transplant'],\n",
       "  ['transplant', 7, 'transplants'],\n",
       "  ['transplant', 8, 'transplants']],\n",
       " 'X10': [['recipients', 5, 'recipient']],\n",
       " 'X3': [[the United States, 3, 'the United States']],\n",
       " 'X4': [['report', 3, 'Report']],\n",
       " 'X5': [['cases', 8, 'cases']],\n",
       " 'X6': [['infection', 4, 'infection'], ['infection', 5, 'Infection']],\n",
       " 'X7': [['organs', 5, 'organ'],\n",
       "  ['organs', 5, 'organ'],\n",
       "  ['organs', 8, 'organs'],\n",
       "  ['organs', 8, 'organ'],\n",
       "  ['organs', 8, 'organ']],\n",
       " 'X8': [['donor', 4, 'donors'],\n",
       "  ['donor', 4, 'donors'],\n",
       "  ['donor', 7, 'donor'],\n",
       "  ['donor', 8, 'donor']]}"
      ]
     },
     "execution_count": 15,
     "metadata": {},
     "output_type": "execute_result"
    }
   ],
   "source": [
    "coref_final"
   ]
  },
  {
   "cell_type": "markdown",
   "metadata": {},
   "source": [
    "### Passing the reference dict to Hobbs"
   ]
  },
  {
   "cell_type": "code",
   "execution_count": 16,
   "metadata": {},
   "outputs": [],
   "source": [
    "coref_final_with_pro = entry(list_of_sentences, cluster_head_dict, coref_final)"
   ]
  },
  {
   "cell_type": "code",
   "execution_count": 17,
   "metadata": {
    "scrolled": false
   },
   "outputs": [
    {
     "data": {
      "text/plain": [
       "{'X0': [['disease', 1, 'disease'],\n",
       "  ['disease', 1, 'disease'],\n",
       "  ['disease', 1, 'disease'],\n",
       "  ['disease', 1, 'disease'],\n",
       "  ['disease', 1, 'disease'],\n",
       "  ['disease', 2, 'disease'],\n",
       "  ['disease', 2, 'disease'],\n",
       "  ['disease', 8, 'disease']],\n",
       " 'X1': [['transplant', 4, 'transplant'],\n",
       "  ['transplant', 7, 'transplants'],\n",
       "  ['transplant', 8, 'transplants']],\n",
       " 'X10': [['recipients', 5, 'recipient']],\n",
       " 'X3': [[the United States, 3, 'the United States']],\n",
       " 'X4': [['report', 3, 'Report']],\n",
       " 'X5': [['cases', 8, 'cases']],\n",
       " 'X6': [['infection', 4, 'infection'], ['infection', 5, 'Infection']],\n",
       " 'X7': [['organs', 5, 'organ'],\n",
       "  ['organs', 5, 'organ'],\n",
       "  ['organs', 8, 'organs'],\n",
       "  ['organs', 8, 'organ'],\n",
       "  ['organs', 8, 'organ']],\n",
       " 'X8': [['donor', 4, 'donors'],\n",
       "  ['donor', 4, 'donors'],\n",
       "  ['donor', 7, 'donor'],\n",
       "  ['donor', 8, 'donor']]}"
      ]
     },
     "execution_count": 17,
     "metadata": {},
     "output_type": "execute_result"
    }
   ],
   "source": [
    "coref_final_with_pro"
   ]
  },
  {
   "cell_type": "markdown",
   "metadata": {},
   "source": [
    "### Adding those Cluster Heads which were not predicted"
   ]
  },
  {
   "cell_type": "code",
   "execution_count": 39,
   "metadata": {},
   "outputs": [],
   "source": [
    "def addNOPredsClusterHeads(cluster_head_dict, coref_final_with_pro):\n",
    "    for cluster_id, cluster_val in cluster_head_dict.items():\n",
    "        if(cluster_id not in coref_final_with_pro.keys()):\n",
    "            coref_final_with_pro[cluster_id] = [['',int(cluster_val[0]),'', None]]\n",
    "            \n",
    "    return coref_final_with_pro"
   ]
  },
  {
   "cell_type": "code",
   "execution_count": 40,
   "metadata": {},
   "outputs": [],
   "source": [
    "coref_final_with_pro = addNOPredsClusterHeads(cluster_head_dict, coref_final_with_pro)"
   ]
  },
  {
   "cell_type": "code",
   "execution_count": 41,
   "metadata": {
    "scrolled": true
   },
   "outputs": [
    {
     "data": {
      "text/plain": [
       "{'X0': [[Early Aluminum Talks, 5, 'early contract talks'],\n",
       "  [Early Aluminum Talks, 11, 'the early talks']],\n",
       " 'X1': [[Steel Union, 5, 'The United Steelworkers union'],\n",
       "  [Steel Union, 8, \"the union's chief negotiator\"],\n",
       "  [Steel Union, 9, 'union members'],\n",
       "  [Steel Union, 12, 'the Aluminum, Brick and Glass Workers union'],\n",
       "  [Steel Union, 13, 'the two unions']],\n",
       " 'X10': [[Pittsburgh-based Alcoa,\n",
       "   13,\n",
       "   'about 21,000 Alcoa and Reynolds employees']],\n",
       " 'X11': [[Reynolds, Richmond, Va.,,\n",
       "   13,\n",
       "   'about 21,000 Alcoa and Reynolds employees']],\n",
       " 'X12': [['union', 12, 'union'], ['union', 13, 'unions']],\n",
       " 'X3': [[ST. LOUIS, 5, 'The United Steelworkers union'],\n",
       "  [ST. LOUIS, 9, 'the aluminum industry'],\n",
       "  [ST. LOUIS, 10, 'normal circumstances'],\n",
       "  [ST. LOUIS, 12, 'the Steelworkers']],\n",
       " 'X4': [['1986', 8, '1986']],\n",
       " 'X6': [[our members, 9, 'union members']],\n",
       " 'X7': [[sacrifices to help the companies over hard times,\n",
       "   9,\n",
       "   'the sacrifices']],\n",
       " 'X8': [[George Becker, , 9, 'Mr. Becker']],\n",
       " 'X2': [['', 1, '', None]],\n",
       " 'X5': [['', 7, '', None]],\n",
       " 'X9': [['', 9, '', None]]}"
      ]
     },
     "execution_count": 41,
     "metadata": {},
     "output_type": "execute_result"
    }
   ],
   "source": [
    "coref_final_with_pro"
   ]
  },
  {
   "cell_type": "markdown",
   "metadata": {},
   "source": [
    "### Removing the Determiners from the start"
   ]
  },
  {
   "cell_type": "code",
   "execution_count": 42,
   "metadata": {},
   "outputs": [],
   "source": [
    "def removeDetfromStart(coref_final_with_pro):\n",
    "    for cluster in coref_final_with_pro.keys():\n",
    "        for i in range(0, len(coref_final_with_pro[cluster])):\n",
    "            if(len(coref_final_with_pro[cluster][i][2].split(' '))>1):\n",
    "                ref_word_list = coref_final_with_pro[cluster][i][2].strip().split(' ')\n",
    "                ref_word_list = list(filter(bool, ref_word_list) )\n",
    "                check = pos_tag(ref_word_list)\n",
    "                if len(check) >1:\n",
    "                    if 'DT' in check[0][1]:\n",
    "                        sentence = ' '.join(coref_final_with_pro[cluster][i][2].split(' ')[1:])\n",
    "                        coref_final_with_pro[cluster][i][2] = ' '.join(coref_final_with_pro[cluster][i][2].split(' ')[1:])\n",
    "                        \n",
    "    return coref_final_with_pro"
   ]
  },
  {
   "cell_type": "code",
   "execution_count": 43,
   "metadata": {},
   "outputs": [],
   "source": [
    "coref_final_with_pro = removeDetfromStart(coref_final_with_pro)"
   ]
  },
  {
   "cell_type": "code",
   "execution_count": 44,
   "metadata": {},
   "outputs": [
    {
     "data": {
      "text/plain": [
       "{'X0': [[Early Aluminum Talks, 5, 'early contract talks'],\n",
       "  [Early Aluminum Talks, 11, 'early talks']],\n",
       " 'X1': [[Steel Union, 5, 'United Steelworkers union'],\n",
       "  [Steel Union, 8, \"union's chief negotiator\"],\n",
       "  [Steel Union, 9, 'union members'],\n",
       "  [Steel Union, 12, 'Aluminum, Brick and Glass Workers union'],\n",
       "  [Steel Union, 13, 'two unions']],\n",
       " 'X10': [[Pittsburgh-based Alcoa,\n",
       "   13,\n",
       "   'about 21,000 Alcoa and Reynolds employees']],\n",
       " 'X11': [[Reynolds, Richmond, Va.,,\n",
       "   13,\n",
       "   'about 21,000 Alcoa and Reynolds employees']],\n",
       " 'X12': [['union', 12, 'union'], ['union', 13, 'unions']],\n",
       " 'X3': [[ST. LOUIS, 5, 'United Steelworkers union'],\n",
       "  [ST. LOUIS, 9, 'aluminum industry'],\n",
       "  [ST. LOUIS, 10, 'normal circumstances'],\n",
       "  [ST. LOUIS, 12, 'Steelworkers']],\n",
       " 'X4': [['1986', 8, '1986']],\n",
       " 'X6': [[our members, 9, 'union members']],\n",
       " 'X7': [[sacrifices to help the companies over hard times, 9, 'sacrifices']],\n",
       " 'X8': [[George Becker, , 9, 'Mr. Becker']],\n",
       " 'X2': [['', 1, '', None]],\n",
       " 'X5': [['', 7, '', None]],\n",
       " 'X9': [['', 9, '', None]]}"
      ]
     },
     "execution_count": 44,
     "metadata": {},
     "output_type": "execute_result"
    }
   ],
   "source": [
    "coref_final_with_pro"
   ]
  },
  {
   "cell_type": "markdown",
   "metadata": {},
   "source": [
    "### Print Output"
   ]
  },
  {
   "cell_type": "code",
   "execution_count": 45,
   "metadata": {},
   "outputs": [],
   "source": [
    "def printOP(cluster_head_dict, coref_final_with_pro):\n",
    "    \n",
    "    for cluster_id, cluster_head_name in cluster_head_dict.items():\n",
    "\n",
    "        print('<COREF ID=\"{}\">{}</COREF>'.format(cluster_id, cluster_head_name[1]))\n",
    "\n",
    "        coreferences = coref_final_with_pro[cluster_id]\n",
    "        list_of_sent_ids = list(map(lambda x: x[1], coreferences))\n",
    "        sorted_index_sent_ids = [i[0] for i in sorted(enumerate(list_of_sent_ids), key=lambda x:x[1])]\n",
    "        coreferences = [coreferences[i] for i in sorted_index_sent_ids]\n",
    "\n",
    "        for coref in coreferences:\n",
    "            if(coref[0] == ''):\n",
    "                continue\n",
    "            print('{{{0}}}'.format(coref[1]) + ' ' + '{' + coref[2] + '}')\n",
    "        print('\\n', end = '')      "
   ]
  },
  {
   "cell_type": "code",
   "execution_count": 46,
   "metadata": {
    "scrolled": false
   },
   "outputs": [
    {
     "name": "stdout",
     "output_type": "stream",
     "text": [
      "<COREF ID=\"X0\">Early Aluminum Talks</COREF>\n",
      "{5} {early contract talks}\n",
      "{11} {early talks}\n",
      "\n",
      "<COREF ID=\"X1\">Steel Union</COREF>\n",
      "{5} {United Steelworkers union}\n",
      "{8} {union's chief negotiator}\n",
      "{9} {union members}\n",
      "{12} {Aluminum, Brick and Glass Workers union}\n",
      "{13} {two unions}\n",
      "\n",
      "<COREF ID=\"X2\">2 Firms</COREF>\n",
      "\n",
      "<COREF ID=\"X3\">ST. LOUIS</COREF>\n",
      "{5} {United Steelworkers union}\n",
      "{9} {aluminum industry}\n",
      "{10} {normal circumstances}\n",
      "{12} {Steelworkers}\n",
      "\n",
      "<COREF ID=\"X4\">1986</COREF>\n",
      "{8} {1986}\n",
      "\n",
      "<COREF ID=\"X5\">The current pacts with Aluminum Co. of America and Reynolds Metals Co.</COREF>\n",
      "\n",
      "<COREF ID=\"X6\">our members</COREF>\n",
      "{9} {union members}\n",
      "\n",
      "<COREF ID=\"X7\">sacrifices to help the companies over hard times</COREF>\n",
      "{9} {sacrifices}\n",
      "\n",
      "<COREF ID=\"X8\">George Becker, </COREF>\n",
      "{9} {Mr. Becker}\n",
      "\n",
      "<COREF ID=\"X9\">a strong recovery</COREF>\n",
      "\n",
      "<COREF ID=\"X10\">Pittsburgh-based Alcoa</COREF>\n",
      "{13} {about 21,000 Alcoa and Reynolds employees}\n",
      "\n",
      "<COREF ID=\"X11\">Reynolds, Richmond, Va.,</COREF>\n",
      "{13} {about 21,000 Alcoa and Reynolds employees}\n",
      "\n",
      "<COREF ID=\"X12\">union</COREF>\n",
      "{12} {union}\n",
      "{13} {unions}\n",
      "\n"
     ]
    }
   ],
   "source": [
    "# %%capture cap --no-stderr\n",
    "printOP(cluster_head_dict, coref_final_with_pro)"
   ]
  },
  {
   "cell_type": "code",
   "execution_count": 387,
   "metadata": {},
   "outputs": [],
   "source": [
    "with open('{}.response'.format(file_number),'w') as f:\n",
    "    f.write(cap.stdout)"
   ]
  },
  {
   "cell_type": "markdown",
   "metadata": {},
   "source": [
    "### Answer Key"
   ]
  },
  {
   "cell_type": "code",
   "execution_count": 103,
   "metadata": {
    "scrolled": true
   },
   "outputs": [],
   "source": [
    "# reader_o = ReadInput(key_path)\n",
    "# ans = reader_o.getListOfSentences()\n",
    "# ans"
   ]
  }
 ],
 "metadata": {
  "kernelspec": {
   "display_name": "Python 3",
   "language": "python",
   "name": "python3"
  },
  "language_info": {
   "codemirror_mode": {
    "name": "ipython",
    "version": 3
   },
   "file_extension": ".py",
   "mimetype": "text/x-python",
   "name": "python",
   "nbconvert_exporter": "python",
   "pygments_lexer": "ipython3",
   "version": "3.7.4"
  }
 },
 "nbformat": 4,
 "nbformat_minor": 2
}
