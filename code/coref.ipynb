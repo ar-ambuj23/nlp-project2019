{
 "cells": [
  {
   "cell_type": "code",
   "execution_count": 1,
   "metadata": {},
   "outputs": [],
   "source": [
    "# import nltk\n",
    "# nltk.download('punkt')\n",
    "# nltk.download('averaged_perceptron_tagger')"
   ]
  },
  {
   "cell_type": "code",
   "execution_count": 2,
   "metadata": {},
   "outputs": [],
   "source": [
    "from reader import *\n",
    "from string_matching_by_word import *\n",
    "from string_matching_by_spaCy_NP import *\n",
    "# from word_embeddings_by_spaCy_NP import *\n",
    "from semantics_by_spaCy_NP import *\n",
    "from hobbs import entry\n",
    "from nltk import pos_tag"
   ]
  },
  {
   "cell_type": "code",
   "execution_count": 3,
   "metadata": {},
   "outputs": [],
   "source": [
    "import warnings\n",
    "warnings.filterwarnings(\"ignore\")"
   ]
  },
  {
   "cell_type": "code",
   "execution_count": 4,
   "metadata": {},
   "outputs": [],
   "source": [
    "file_number = 'b19'"
   ]
  },
  {
   "cell_type": "markdown",
   "metadata": {},
   "source": [
    "### Read Document"
   ]
  },
  {
   "cell_type": "code",
   "execution_count": 5,
   "metadata": {},
   "outputs": [],
   "source": [
    "input_path = '/Users/ambuj/Documents/MS Stuff/nlp_cs_6340/final_project/nlp-project2019/dev/{}.input'.format(file_number)\n",
    "key_path = '/Users/ambuj/Documents/MS Stuff/nlp_cs_6340/final_project/nlp-project2019/dev/{}.key'.format(file_number)"
   ]
  },
  {
   "cell_type": "code",
   "execution_count": 6,
   "metadata": {},
   "outputs": [],
   "source": [
    "read = ReadInput(input_path)\n",
    "list_of_sentences = read.getListOfSentences()\n",
    "full_text = read.getText()"
   ]
  },
  {
   "cell_type": "markdown",
   "metadata": {},
   "source": [
    "### Get Sentence Dict and Cluster Head Dict"
   ]
  },
  {
   "cell_type": "code",
   "execution_count": 7,
   "metadata": {},
   "outputs": [],
   "source": [
    "sentence_dict = getSentenceDict(list_of_sentences)\n",
    "cluster_head_dict = getClusterHeads(sentence_dict)"
   ]
  },
  {
   "cell_type": "markdown",
   "metadata": {},
   "source": [
    "### Get Coref for exact match by word"
   ]
  },
  {
   "cell_type": "code",
   "execution_count": 8,
   "metadata": {},
   "outputs": [],
   "source": [
    "coref_dict_match_word = getCorefDict_match_word(sentence_dict, cluster_head_dict,90)\n",
    "# coref_dict_match_word"
   ]
  },
  {
   "cell_type": "markdown",
   "metadata": {},
   "source": [
    "### Get Coref for threshold match by NP"
   ]
  },
  {
   "cell_type": "code",
   "execution_count": 9,
   "metadata": {},
   "outputs": [],
   "source": [
    "coref_dict_match_NP = getCorefDict_match_NP(sentence_dict, cluster_head_dict,80)\n",
    "# coref_dict_match_NP"
   ]
  },
  {
   "cell_type": "markdown",
   "metadata": {},
   "source": [
    "### Get Coref for Word Embedding Similarity by NP"
   ]
  },
  {
   "cell_type": "code",
   "execution_count": 10,
   "metadata": {
    "scrolled": true
   },
   "outputs": [],
   "source": [
    "# coref_dict_all_sorted = getCorefDict_all_sorted(sentence_dict, cluster_head_dict,0.5)\n",
    "# coref_dict_max_sentence = getCorefDict_max_of_each_sentence(sentence_dict, cluster_head_dict,0.5)"
   ]
  },
  {
   "cell_type": "code",
   "execution_count": 11,
   "metadata": {},
   "outputs": [],
   "source": [
    "# coref_dict_all_sorted_top3 = get_TopN_Matches(coref_dict_all_sorted,3)"
   ]
  },
  {
   "cell_type": "markdown",
   "metadata": {},
   "source": [
    "### Merging dictionaries"
   ]
  },
  {
   "cell_type": "code",
   "execution_count": 12,
   "metadata": {},
   "outputs": [],
   "source": [
    "def mergeDicts(dict1, dict2):\n",
    "    \n",
    "    d1 = dict1.copy()\n",
    "    d2 = dict2.copy()\n",
    "    \n",
    "    d1_keys = d1.keys()\n",
    "    d2_keys = d2.keys()\n",
    "    \n",
    "    for key in d1_keys:\n",
    "        d1[key] = list(map(lambda x: x[0:3], d1[key]))\n",
    "    \n",
    "    for key in d2_keys:\n",
    "        d2[key] = list(map(lambda x: x[0:3], d2[key]))\n",
    "    \n",
    "    for key in d2_keys:\n",
    "        if(key not in d1_keys):\n",
    "            d1[key] = d2[key]\n",
    "        else:\n",
    "            for val in d2[key]:\n",
    "                if(val not in d1[key]):\n",
    "                    d1[key].append(val)\n",
    "    \n",
    "    return dict(sorted(d1.items()))"
   ]
  },
  {
   "cell_type": "code",
   "execution_count": 13,
   "metadata": {},
   "outputs": [],
   "source": [
    "coref_final = mergeDicts(coref_dict_match_word, coref_dict_match_NP)"
   ]
  },
  {
   "cell_type": "code",
   "execution_count": 14,
   "metadata": {
    "scrolled": true
   },
   "outputs": [
    {
     "data": {
      "text/plain": [
       "{'X0': [[Early Aluminum Talks, 5, 'early contract talks'],\n",
       "  [Early Aluminum Talks, 11, 'the early talks']],\n",
       " 'X1': [[Steel Union, 5, 'The United Steelworkers union'],\n",
       "  [Steel Union, 8, \"the union's chief negotiator\"],\n",
       "  [Steel Union, 9, 'union members'],\n",
       "  [Steel Union, 12, 'the Aluminum, Brick and Glass Workers union'],\n",
       "  [Steel Union, 13, 'the two unions']],\n",
       " 'X10': [[Pittsburgh-based Alcoa,\n",
       "   13,\n",
       "   'about 21,000 Alcoa and Reynolds employees']],\n",
       " 'X11': [[Reynolds, Richmond, Va.,,\n",
       "   13,\n",
       "   'about 21,000 Alcoa and Reynolds employees']],\n",
       " 'X12': [['union', 12, 'union'], ['union', 13, 'unions']],\n",
       " 'X3': [[ST. LOUIS, 5, 'The United Steelworkers union'],\n",
       "  [ST. LOUIS, 9, 'the aluminum industry'],\n",
       "  [ST. LOUIS, 10, 'normal circumstances'],\n",
       "  [ST. LOUIS, 12, 'the Steelworkers']],\n",
       " 'X4': [['1986', 8, '1986']],\n",
       " 'X6': [[our members, 9, 'union members']],\n",
       " 'X7': [[sacrifices to help the companies over hard times,\n",
       "   9,\n",
       "   'the sacrifices']],\n",
       " 'X8': [[George Becker, , 9, 'Mr. Becker']]}"
      ]
     },
     "execution_count": 14,
     "metadata": {},
     "output_type": "execute_result"
    }
   ],
   "source": [
    "coref_final"
   ]
  },
  {
   "cell_type": "markdown",
   "metadata": {},
   "source": [
    "### Passing the reference dict to Hobbs"
   ]
  },
  {
   "cell_type": "code",
   "execution_count": 15,
   "metadata": {},
   "outputs": [
    {
     "name": "stdout",
     "output_type": "stream",
     "text": [
      "Warning: parsing empty text\n",
      "Warning: parsing empty text\n"
     ]
    }
   ],
   "source": [
    "coref_final_with_pro = entry(list_of_sentences, cluster_head_dict, coref_final)"
   ]
  },
  {
   "cell_type": "code",
   "execution_count": 16,
   "metadata": {
    "scrolled": false
   },
   "outputs": [
    {
     "data": {
      "text/plain": [
       "{'X0': [[Early Aluminum Talks, 5, 'early contract talks'],\n",
       "  [Early Aluminum Talks, 11, 'the early talks']],\n",
       " 'X1': [[Steel Union, 5, 'The United Steelworkers union'],\n",
       "  [Steel Union, 8, \"the union's chief negotiator\"],\n",
       "  [Steel Union, 9, 'union members'],\n",
       "  [Steel Union, 12, 'the Aluminum, Brick and Glass Workers union'],\n",
       "  [Steel Union, 13, 'the two unions']],\n",
       " 'X10': [[Pittsburgh-based Alcoa,\n",
       "   13,\n",
       "   'about 21,000 Alcoa and Reynolds employees']],\n",
       " 'X11': [[Reynolds, Richmond, Va.,,\n",
       "   13,\n",
       "   'about 21,000 Alcoa and Reynolds employees']],\n",
       " 'X12': [['union', 12, 'union'], ['union', 13, 'unions']],\n",
       " 'X3': [[ST. LOUIS, 5, 'The United Steelworkers union'],\n",
       "  [ST. LOUIS, 9, 'the aluminum industry'],\n",
       "  [ST. LOUIS, 10, 'normal circumstances'],\n",
       "  [ST. LOUIS, 12, 'the Steelworkers']],\n",
       " 'X4': [['1986', 8, '1986']],\n",
       " 'X6': [[our members, 9, 'union members']],\n",
       " 'X7': [[sacrifices to help the companies over hard times,\n",
       "   9,\n",
       "   'the sacrifices']],\n",
       " 'X8': [[George Becker, , 9, 'Mr. Becker']]}"
      ]
     },
     "execution_count": 16,
     "metadata": {},
     "output_type": "execute_result"
    }
   ],
   "source": [
    "coref_final_with_pro"
   ]
  },
  {
   "cell_type": "markdown",
   "metadata": {},
   "source": [
    "### Adding those Cluster Heads which were not predicted"
   ]
  },
  {
   "cell_type": "code",
   "execution_count": 17,
   "metadata": {},
   "outputs": [],
   "source": [
    "def addNOPredsClusterHeads(cluster_head_dict, coref_final_with_pro):\n",
    "    for cluster_id, cluster_val in cluster_head_dict.items():\n",
    "        if(cluster_id not in coref_final_with_pro.keys()):\n",
    "            coref_final_with_pro[cluster_id] = [[cluster_val[1],int(cluster_val[0]),'', None]]\n",
    "            \n",
    "    return coref_final_with_pro"
   ]
  },
  {
   "cell_type": "code",
   "execution_count": 18,
   "metadata": {},
   "outputs": [],
   "source": [
    "coref_final_with_pro = addNOPredsClusterHeads(cluster_head_dict, coref_final_with_pro)"
   ]
  },
  {
   "cell_type": "code",
   "execution_count": 19,
   "metadata": {},
   "outputs": [
    {
     "data": {
      "text/plain": [
       "{'X0': [[Early Aluminum Talks, 5, 'early contract talks'],\n",
       "  [Early Aluminum Talks, 11, 'the early talks']],\n",
       " 'X1': [[Steel Union, 5, 'The United Steelworkers union'],\n",
       "  [Steel Union, 8, \"the union's chief negotiator\"],\n",
       "  [Steel Union, 9, 'union members'],\n",
       "  [Steel Union, 12, 'the Aluminum, Brick and Glass Workers union'],\n",
       "  [Steel Union, 13, 'the two unions']],\n",
       " 'X10': [[Pittsburgh-based Alcoa,\n",
       "   13,\n",
       "   'about 21,000 Alcoa and Reynolds employees']],\n",
       " 'X11': [[Reynolds, Richmond, Va.,,\n",
       "   13,\n",
       "   'about 21,000 Alcoa and Reynolds employees']],\n",
       " 'X12': [['union', 12, 'union'], ['union', 13, 'unions']],\n",
       " 'X3': [[ST. LOUIS, 5, 'The United Steelworkers union'],\n",
       "  [ST. LOUIS, 9, 'the aluminum industry'],\n",
       "  [ST. LOUIS, 10, 'normal circumstances'],\n",
       "  [ST. LOUIS, 12, 'the Steelworkers']],\n",
       " 'X4': [['1986', 8, '1986']],\n",
       " 'X6': [[our members, 9, 'union members']],\n",
       " 'X7': [[sacrifices to help the companies over hard times,\n",
       "   9,\n",
       "   'the sacrifices']],\n",
       " 'X8': [[George Becker, , 9, 'Mr. Becker']],\n",
       " 'X2': [['2 Firms', 1, '', None]],\n",
       " 'X5': [['The current pacts with Aluminum Co. of America and Reynolds Metals Co.',\n",
       "   7,\n",
       "   '',\n",
       "   None]],\n",
       " 'X9': [['a strong recovery', 9, '', None]]}"
      ]
     },
     "execution_count": 19,
     "metadata": {},
     "output_type": "execute_result"
    }
   ],
   "source": [
    "coref_final_with_pro"
   ]
  },
  {
   "cell_type": "markdown",
   "metadata": {},
   "source": [
    "### Making semantic prediction for unpredicted Cluster Heads"
   ]
  },
  {
   "cell_type": "code",
   "execution_count": 20,
   "metadata": {},
   "outputs": [],
   "source": [
    "# import spacy\n",
    "# nlp = spacy.load(\"en_core_web_lg\")"
   ]
  },
  {
   "cell_type": "code",
   "execution_count": 21,
   "metadata": {},
   "outputs": [],
   "source": [
    "# def getRemText(sent_id, sentence_dict):\n",
    "#     rem_text = {}\n",
    "#     for sid in sentence_dict.keys():\n",
    "#         if(sid >= sent_id): \n",
    "#             rem_text[sid] = sentence_dict[sid]\n",
    "#     sorted_rem_text = dict(sorted(rem_text.items(), key = lambda x:x[0]))\n",
    "#     return sorted_rem_text\n",
    "\n",
    "# def getCorefDict_meaning_NP(sentence_dict, coref_final_with_pro, threshold):\n",
    "    \n",
    "#     for cluster in coref_final_with_pro.keys():\n",
    "\n",
    "#         if(coref_final_with_pro[cluster][0][2]==''):\n",
    "    \n",
    "#             current_cluster_sent_id = coref_final_with_pro[cluster][0][1]\n",
    "\n",
    "#             print(coref_final_with_pro[cluster][0][0],'&'*8)\n",
    "            \n",
    "#             current_cluster_head = nlp(coref_final_with_pro[cluster][0][0].lower())\n",
    "#             current_cluster_head_np = list(current_cluster_head.noun_chunks)\n",
    "#             print(current_cluster_head_np)\n",
    "            \n",
    "\n",
    "#             if(len(current_cluster_head_np)==0):\n",
    "#                 continue\n",
    "            \n",
    "# #             current_cluster_head_headNoun = current_cluster_head_np[0][-1]\n",
    "\n",
    "#             remaining_text = getRemText(current_cluster_sent_id, sentence_dict)\n",
    "\n",
    "#             for sid, sentence in remaining_text.items():\n",
    "\n",
    "#                 clean = re.compile('<COREF .*?>.*?</COREF>') ## removing all coref tags from the current sentence\n",
    "#                 clean_sentence = re.sub(clean, '', sentence)\n",
    "#                 print('cl',clean_sentence)\n",
    "\n",
    "#                 doc = nlp(clean_sentence.lower())\n",
    "#                 print('doc',doc)\n",
    "\n",
    "#                 for np in doc.noun_chunks:\n",
    "\n",
    "#                     ## If the NP is a pronoun, ignore it. \n",
    "#                     ## We are handling pronouns by Hobb's algorithm\n",
    "#                     if(len(np) == 1 and np[0].pos_ == 'PRON'):\n",
    "#                         continue\n",
    "\n",
    "#                     similarity = current_cluster_head_np[0].similarity(np)\n",
    "\n",
    "#                     if(similarity*100 > threshold):\n",
    "#                         print(np, current_cluster_head_np, similarity) \n",
    "                        \n",
    "# #                         coref_final_with_pro[cluster][0][1] = sid\n",
    "# #                         coref_final_with_pro[cluster][0][2] = np.text\n",
    "# #                         coref_final_with_pro[cluster][0][3] = similarity*100   \n",
    "    \n",
    "#     return coref_final_with_pro"
   ]
  },
  {
   "cell_type": "code",
   "execution_count": 22,
   "metadata": {},
   "outputs": [
    {
     "data": {
      "text/plain": [
       "{'X0': [[Early Aluminum Talks, 5, 'early contract talks'],\n",
       "  [Early Aluminum Talks, 11, 'the early talks']],\n",
       " 'X1': [[Steel Union, 5, 'The United Steelworkers union'],\n",
       "  [Steel Union, 8, \"the union's chief negotiator\"],\n",
       "  [Steel Union, 9, 'union members'],\n",
       "  [Steel Union, 12, 'the Aluminum, Brick and Glass Workers union'],\n",
       "  [Steel Union, 13, 'the two unions']],\n",
       " 'X10': [[Pittsburgh-based Alcoa,\n",
       "   13,\n",
       "   'about 21,000 Alcoa and Reynolds employees']],\n",
       " 'X11': [[Reynolds, Richmond, Va.,,\n",
       "   13,\n",
       "   'about 21,000 Alcoa and Reynolds employees']],\n",
       " 'X12': [['union', 12, 'union'], ['union', 13, 'unions']],\n",
       " 'X3': [[ST. LOUIS, 5, 'The United Steelworkers union'],\n",
       "  [ST. LOUIS, 9, 'the aluminum industry'],\n",
       "  [ST. LOUIS, 10, 'normal circumstances'],\n",
       "  [ST. LOUIS, 12, 'the Steelworkers']],\n",
       " 'X4': [['1986', 8, '1986']],\n",
       " 'X6': [[our members, 9, 'union members']],\n",
       " 'X7': [[sacrifices to help the companies over hard times,\n",
       "   9,\n",
       "   'the sacrifices']],\n",
       " 'X8': [[George Becker, , 9, 'Mr. Becker']],\n",
       " 'X2': [['2 Firms', 1, '', None]],\n",
       " 'X5': [['The current pacts with Aluminum Co. of America and Reynolds Metals Co.',\n",
       "   8,\n",
       "   'the current contracts',\n",
       "   81.36343955993652]],\n",
       " 'X9': [['a strong recovery', 12, 'a similar decision', 70.71035504341125]]}"
      ]
     },
     "execution_count": 22,
     "metadata": {},
     "output_type": "execute_result"
    }
   ],
   "source": [
    "coref_final_with_pro = getCorefDict_meaning_NP(sentence_dict, coref_final_with_pro, 70)\n",
    "coref_final_with_pro"
   ]
  },
  {
   "cell_type": "markdown",
   "metadata": {},
   "source": [
    "### Taking only the head nouns"
   ]
  },
  {
   "cell_type": "code",
   "execution_count": 23,
   "metadata": {},
   "outputs": [],
   "source": [
    "def takeHeadNouns(coref_final_with_pro):\n",
    "    \n",
    "    for cluster in coref_final_with_pro.keys():\n",
    "        for i in range(0, len(coref_final_with_pro[cluster])):\n",
    "            coref_final_with_pro[cluster][i][2] = coref_final_with_pro[cluster][i][2].split(' ')[-1]\n",
    "                        \n",
    "    return coref_final_with_pro"
   ]
  },
  {
   "cell_type": "code",
   "execution_count": 24,
   "metadata": {},
   "outputs": [],
   "source": [
    "coref_final_with_pro = takeHeadNouns(coref_final_with_pro)"
   ]
  },
  {
   "cell_type": "code",
   "execution_count": 25,
   "metadata": {},
   "outputs": [
    {
     "data": {
      "text/plain": [
       "{'X0': [[Early Aluminum Talks, 5, 'talks'],\n",
       "  [Early Aluminum Talks, 11, 'talks']],\n",
       " 'X1': [[Steel Union, 5, 'union'],\n",
       "  [Steel Union, 8, 'negotiator'],\n",
       "  [Steel Union, 9, 'members'],\n",
       "  [Steel Union, 12, 'union'],\n",
       "  [Steel Union, 13, 'unions']],\n",
       " 'X10': [[Pittsburgh-based Alcoa, 13, 'employees']],\n",
       " 'X11': [[Reynolds, Richmond, Va.,, 13, 'employees']],\n",
       " 'X12': [['union', 12, 'union'], ['union', 13, 'unions']],\n",
       " 'X3': [[ST. LOUIS, 5, 'union'],\n",
       "  [ST. LOUIS, 9, 'industry'],\n",
       "  [ST. LOUIS, 10, 'circumstances'],\n",
       "  [ST. LOUIS, 12, 'Steelworkers']],\n",
       " 'X4': [['1986', 8, '1986']],\n",
       " 'X6': [[our members, 9, 'members']],\n",
       " 'X7': [[sacrifices to help the companies over hard times, 9, 'sacrifices']],\n",
       " 'X8': [[George Becker, , 9, 'Becker']],\n",
       " 'X2': [['2 Firms', 1, '', None]],\n",
       " 'X5': [['The current pacts with Aluminum Co. of America and Reynolds Metals Co.',\n",
       "   8,\n",
       "   'contracts',\n",
       "   81.36343955993652]],\n",
       " 'X9': [['a strong recovery', 12, 'decision', 70.71035504341125]]}"
      ]
     },
     "execution_count": 25,
     "metadata": {},
     "output_type": "execute_result"
    }
   ],
   "source": [
    "coref_final_with_pro"
   ]
  },
  {
   "cell_type": "markdown",
   "metadata": {},
   "source": [
    "### Print Output"
   ]
  },
  {
   "cell_type": "code",
   "execution_count": 26,
   "metadata": {},
   "outputs": [],
   "source": [
    "def printOP(cluster_head_dict, coref_final_with_pro):\n",
    "    \n",
    "    for cluster_id, cluster_head_name in cluster_head_dict.items():\n",
    "\n",
    "        print('<COREF ID=\"{}\">{}</COREF>'.format(cluster_id, cluster_head_name[1]))\n",
    "\n",
    "        coreferences = coref_final_with_pro[cluster_id]\n",
    "        list_of_sent_ids = list(map(lambda x: x[1], coreferences))\n",
    "        sorted_index_sent_ids = [i[0] for i in sorted(enumerate(list_of_sent_ids), key=lambda x:x[1])]\n",
    "        coreferences = [coreferences[i] for i in sorted_index_sent_ids]\n",
    "\n",
    "        for coref in coreferences:\n",
    "            if(coref[2] == ''):\n",
    "                continue\n",
    "            print('{{{0}}}'.format(coref[1]) + ' ' + '{' + coref[2] + '}')\n",
    "        print('\\n', end = '')      "
   ]
  },
  {
   "cell_type": "code",
   "execution_count": 27,
   "metadata": {
    "scrolled": false
   },
   "outputs": [
    {
     "name": "stdout",
     "output_type": "stream",
     "text": [
      "<COREF ID=\"X0\">Early Aluminum Talks</COREF>\n",
      "{5} {talks}\n",
      "{11} {talks}\n",
      "\n",
      "<COREF ID=\"X1\">Steel Union</COREF>\n",
      "{5} {union}\n",
      "{8} {negotiator}\n",
      "{9} {members}\n",
      "{12} {union}\n",
      "{13} {unions}\n",
      "\n",
      "<COREF ID=\"X2\">2 Firms</COREF>\n",
      "\n",
      "<COREF ID=\"X3\">ST. LOUIS</COREF>\n",
      "{5} {union}\n",
      "{9} {industry}\n",
      "{10} {circumstances}\n",
      "{12} {Steelworkers}\n",
      "\n",
      "<COREF ID=\"X4\">1986</COREF>\n",
      "{8} {1986}\n",
      "\n",
      "<COREF ID=\"X5\">The current pacts with Aluminum Co. of America and Reynolds Metals Co.</COREF>\n",
      "{8} {contracts}\n",
      "\n",
      "<COREF ID=\"X6\">our members</COREF>\n",
      "{9} {members}\n",
      "\n",
      "<COREF ID=\"X7\">sacrifices to help the companies over hard times</COREF>\n",
      "{9} {sacrifices}\n",
      "\n",
      "<COREF ID=\"X8\">George Becker, </COREF>\n",
      "{9} {Becker}\n",
      "\n",
      "<COREF ID=\"X9\">a strong recovery</COREF>\n",
      "{12} {decision}\n",
      "\n",
      "<COREF ID=\"X10\">Pittsburgh-based Alcoa</COREF>\n",
      "{13} {employees}\n",
      "\n",
      "<COREF ID=\"X11\">Reynolds, Richmond, Va.,</COREF>\n",
      "{13} {employees}\n",
      "\n",
      "<COREF ID=\"X12\">union</COREF>\n",
      "{12} {union}\n",
      "{13} {unions}\n",
      "\n"
     ]
    }
   ],
   "source": [
    "# %%capture cap --no-stderr\n",
    "printOP(cluster_head_dict, coref_final_with_pro)"
   ]
  },
  {
   "cell_type": "code",
   "execution_count": 28,
   "metadata": {},
   "outputs": [],
   "source": [
    "# with open('{}.response'.format(file_number),'w') as f:\n",
    "#     f.write(cap.stdout)"
   ]
  },
  {
   "cell_type": "markdown",
   "metadata": {},
   "source": [
    "### Answer Key"
   ]
  },
  {
   "cell_type": "code",
   "execution_count": 25,
   "metadata": {
    "scrolled": true
   },
   "outputs": [],
   "source": [
    "# reader_o = ReadInput(key_path)\n",
    "# ans = reader_o.getListOfSentences()\n",
    "# ans"
   ]
  }
 ],
 "metadata": {
  "kernelspec": {
   "display_name": "Python 3",
   "language": "python",
   "name": "python3"
  },
  "language_info": {
   "codemirror_mode": {
    "name": "ipython",
    "version": 3
   },
   "file_extension": ".py",
   "mimetype": "text/x-python",
   "name": "python",
   "nbconvert_exporter": "python",
   "pygments_lexer": "ipython3",
   "version": "3.7.4"
  }
 },
 "nbformat": 4,
 "nbformat_minor": 2
}
