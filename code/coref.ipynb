{
 "cells": [
  {
   "cell_type": "code",
   "execution_count": 1,
   "metadata": {},
   "outputs": [],
   "source": [
    "# import nltk\n",
    "# nltk.download('punkt')\n",
    "# nltk.download('averaged_perceptron_tagger')"
   ]
  },
  {
   "cell_type": "code",
   "execution_count": 1,
   "metadata": {},
   "outputs": [],
   "source": [
    "from reader import *\n",
    "from string_matching_by_word import *\n",
    "from string_matching_by_spaCy_NP import *\n",
    "from word_embeddings_by_spaCy_NP import *\n",
    "from semantics_by_spaCy_NP import *\n",
    "from hobbs import entry\n",
    "from nltk import pos_tag"
   ]
  },
  {
   "cell_type": "code",
   "execution_count": 2,
   "metadata": {},
   "outputs": [],
   "source": [
    "import warnings\n",
    "warnings.filterwarnings(\"ignore\")"
   ]
  },
  {
   "cell_type": "code",
   "execution_count": 3,
   "metadata": {},
   "outputs": [],
   "source": [
    "file_number = 'a10'"
   ]
  },
  {
   "cell_type": "markdown",
   "metadata": {},
   "source": [
    "### Read Document"
   ]
  },
  {
   "cell_type": "code",
   "execution_count": 4,
   "metadata": {},
   "outputs": [],
   "source": [
    "input_path = '/Users/ambuj/Documents/MS Stuff/nlp_cs_6340/final_project/nlp-project2019/dev/{}.input'.format(file_number)\n",
    "key_path = '/Users/ambuj/Documents/MS Stuff/nlp_cs_6340/final_project/nlp-project2019/dev/{}.key'.format(file_number)"
   ]
  },
  {
   "cell_type": "code",
   "execution_count": 5,
   "metadata": {},
   "outputs": [],
   "source": [
    "read = ReadInput(input_path)\n",
    "list_of_sentences = read.getListOfSentences()\n",
    "full_text = read.getText()"
   ]
  },
  {
   "cell_type": "markdown",
   "metadata": {},
   "source": [
    "### Get Sentence Dict and Cluster Head Dict"
   ]
  },
  {
   "cell_type": "code",
   "execution_count": 6,
   "metadata": {},
   "outputs": [],
   "source": [
    "sentence_dict = getSentenceDict(list_of_sentences)\n",
    "cluster_head_dict = getClusterHeads(sentence_dict)"
   ]
  },
  {
   "cell_type": "markdown",
   "metadata": {},
   "source": [
    "### Get Coref for exact match by word"
   ]
  },
  {
   "cell_type": "code",
   "execution_count": 7,
   "metadata": {},
   "outputs": [],
   "source": [
    "coref_dict_match_word = getCorefDict_match_word(sentence_dict, cluster_head_dict,90)\n",
    "# coref_dict_match_word"
   ]
  },
  {
   "cell_type": "markdown",
   "metadata": {},
   "source": [
    "### Get Coref for threshold match by NP"
   ]
  },
  {
   "cell_type": "code",
   "execution_count": 8,
   "metadata": {},
   "outputs": [],
   "source": [
    "coref_dict_match_NP = getCorefDict_match_NP(sentence_dict, cluster_head_dict,80)\n",
    "# coref_dict_match_NP"
   ]
  },
  {
   "cell_type": "markdown",
   "metadata": {},
   "source": [
    "### Get Coref for Word Embedding Similarity by NP"
   ]
  },
  {
   "cell_type": "code",
   "execution_count": 9,
   "metadata": {
    "scrolled": true
   },
   "outputs": [],
   "source": [
    "# coref_dict_all_sorted = getCorefDict_all_sorted(sentence_dict, cluster_head_dict,0.5)\n",
    "# coref_dict_max_sentence = getCorefDict_max_of_each_sentence(sentence_dict, cluster_head_dict,0.5)"
   ]
  },
  {
   "cell_type": "code",
   "execution_count": 10,
   "metadata": {},
   "outputs": [],
   "source": [
    "# coref_dict_all_sorted_top3 = get_TopN_Matches(coref_dict_all_sorted,3)"
   ]
  },
  {
   "cell_type": "markdown",
   "metadata": {},
   "source": [
    "### Merging dictionaries"
   ]
  },
  {
   "cell_type": "code",
   "execution_count": 11,
   "metadata": {},
   "outputs": [],
   "source": [
    "def mergeDicts(dict1, dict2):\n",
    "    \n",
    "    d1 = dict1.copy()\n",
    "    d2 = dict2.copy()\n",
    "    \n",
    "    d1_keys = d1.keys()\n",
    "    d2_keys = d2.keys()\n",
    "    \n",
    "    for key in d1_keys:\n",
    "        d1[key] = list(map(lambda x: x[0:3], d1[key]))\n",
    "    \n",
    "    for key in d2_keys:\n",
    "        d2[key] = list(map(lambda x: x[0:3], d2[key]))\n",
    "    \n",
    "    for key in d2_keys:\n",
    "        if(key not in d1_keys):\n",
    "            d1[key] = d2[key]\n",
    "        else:\n",
    "            for val in d2[key]:\n",
    "                if(val not in d1[key]):\n",
    "                    d1[key].append(val)\n",
    "    \n",
    "    return dict(sorted(d1.items()))"
   ]
  },
  {
   "cell_type": "code",
   "execution_count": 12,
   "metadata": {},
   "outputs": [],
   "source": [
    "coref_final = mergeDicts(coref_dict_match_word, coref_dict_match_NP)"
   ]
  },
  {
   "cell_type": "code",
   "execution_count": 13,
   "metadata": {
    "scrolled": true
   },
   "outputs": [
    {
     "data": {
      "text/plain": [
       "{'X10': [[A safety stand-down, 25, 'the stand-down'],\n",
       "  [A safety stand-down, 26, 'the standdown']],\n",
       " 'X12': [['Carrier', 23, 'carrier'], ['Carrier', 29, 'carrier']],\n",
       " 'X13': [[these three crashes this year, 30, 'that crash'],\n",
       "  [these three crashes this year, 35, 'the increases']],\n",
       " 'X2': [['NAVY', 10, 'Navy'],\n",
       "  ['NAVY', 12, 'Navy'],\n",
       "  ['NAVY', 13, 'Navy'],\n",
       "  ['NAVY', 15, 'Navy'],\n",
       "  ['NAVY', 19, 'Navy'],\n",
       "  ['NAVY', 21, 'Navy'],\n",
       "  ['NAVY', 27, 'Navy'],\n",
       "  ['NAVY', 30, 'Navy'],\n",
       "  ['NAVY', 31, 'Navy'],\n",
       "  ['NAVY', 35, 'Navy'],\n",
       "  ['NAVY', 36, 'Navy']],\n",
       " 'X3': [[THIRD RECENT CRASH, 10, \"the third ``Tomcat'' crash\"],\n",
       "  [THIRD RECENT CRASH, 19, 'the crash'],\n",
       "  [THIRD RECENT CRASH, 19, 'the third Tomcat crash'],\n",
       "  [THIRD RECENT CRASH, 26, 'the latest crash'],\n",
       "  [THIRD RECENT CRASH, 30, 'that crash'],\n",
       "  [THIRD RECENT CRASH, 34, 'The crash rate']],\n",
       " 'X4': [[entire fleet of F-14 airplanes, 26, 'the entire fleet']],\n",
       " 'X5': [['Thursday', 19, 'Thursday'], ['Thursday', 26, 'Thursday']],\n",
       " 'X6': [[The 72-hour ``safety stand-down'', 25, 'the stand-down'],\n",
       "  [The 72-hour ``safety stand-down'', 26, 'the standdown']],\n",
       " 'X7': [[an F-14 fighter, 31, 'the standard fighter plane']],\n",
       " 'X8': [[the two Naval aviators on board, 14, 'One aviator']],\n",
       " 'X9': [[Defense Department spokesman Kenneth Bacon, 24, 'Bacon'],\n",
       "  [Defense Department spokesman Kenneth Bacon, 26, 'Bacon'],\n",
       "  [Defense Department spokesman Kenneth Bacon, 27, 'Bacon'],\n",
       "  [Defense Department spokesman Kenneth Bacon, 35, 'Bacon'],\n",
       "  [Defense Department spokesman Kenneth Bacon, 36, 'Bacon']]}"
      ]
     },
     "execution_count": 13,
     "metadata": {},
     "output_type": "execute_result"
    }
   ],
   "source": [
    "coref_final"
   ]
  },
  {
   "cell_type": "markdown",
   "metadata": {},
   "source": [
    "### Passing the reference dict to Hobbs"
   ]
  },
  {
   "cell_type": "code",
   "execution_count": 14,
   "metadata": {},
   "outputs": [
    {
     "name": "stdout",
     "output_type": "stream",
     "text": [
      "Warning: parsing empty text\n",
      "Warning: parsing empty text\n"
     ]
    }
   ],
   "source": [
    "coref_final_with_pro = entry(list_of_sentences, cluster_head_dict, coref_final)"
   ]
  },
  {
   "cell_type": "code",
   "execution_count": 15,
   "metadata": {
    "scrolled": false
   },
   "outputs": [
    {
     "data": {
      "text/plain": [
       "{'X10': [[A safety stand-down, 25, 'the stand-down'],\n",
       "  [A safety stand-down, 26, 'the standdown']],\n",
       " 'X12': [['Carrier', 23, 'carrier'], ['Carrier', 29, 'carrier']],\n",
       " 'X13': [[these three crashes this year, 30, 'that crash'],\n",
       "  [these three crashes this year, 35, 'the increases']],\n",
       " 'X2': [['NAVY', 10, 'Navy'],\n",
       "  ['NAVY', 12, 'Navy'],\n",
       "  ['NAVY', 13, 'Navy'],\n",
       "  ['NAVY', 15, 'Navy'],\n",
       "  ['NAVY', 19, 'Navy'],\n",
       "  ['NAVY', 21, 'Navy'],\n",
       "  ['NAVY', 27, 'Navy'],\n",
       "  ['NAVY', 30, 'Navy'],\n",
       "  ['NAVY', 31, 'Navy'],\n",
       "  ['NAVY', 35, 'Navy'],\n",
       "  ['NAVY', 36, 'Navy']],\n",
       " 'X3': [[THIRD RECENT CRASH, 10, \"the third ``Tomcat'' crash\"],\n",
       "  [THIRD RECENT CRASH, 19, 'the crash'],\n",
       "  [THIRD RECENT CRASH, 19, 'the third Tomcat crash'],\n",
       "  [THIRD RECENT CRASH, 26, 'the latest crash'],\n",
       "  [THIRD RECENT CRASH, 30, 'that crash'],\n",
       "  [THIRD RECENT CRASH, 34, 'The crash rate']],\n",
       " 'X4': [[entire fleet of F-14 airplanes, 26, 'the entire fleet']],\n",
       " 'X5': [['Thursday', 19, 'Thursday'], ['Thursday', 26, 'Thursday']],\n",
       " 'X6': [[The 72-hour ``safety stand-down'', 25, 'the stand-down'],\n",
       "  [The 72-hour ``safety stand-down'', 26, 'the standdown']],\n",
       " 'X7': [[an F-14 fighter, 31, 'the standard fighter plane']],\n",
       " 'X8': [[the two Naval aviators on board, 14, 'One aviator']],\n",
       " 'X9': [[Defense Department spokesman Kenneth Bacon, 24, 'Bacon'],\n",
       "  [Defense Department spokesman Kenneth Bacon, 26, 'Bacon'],\n",
       "  [Defense Department spokesman Kenneth Bacon, 27, 'Bacon'],\n",
       "  [Defense Department spokesman Kenneth Bacon, 35, 'Bacon'],\n",
       "  [Defense Department spokesman Kenneth Bacon, 36, 'Bacon'],\n",
       "  ['Defense Department spokesman Kenneth Bacon', 26, 'him', 0],\n",
       "  ['Defense Department spokesman Kenneth Bacon', 26, 'he', 0]]}"
      ]
     },
     "execution_count": 15,
     "metadata": {},
     "output_type": "execute_result"
    }
   ],
   "source": [
    "coref_final_with_pro"
   ]
  },
  {
   "cell_type": "markdown",
   "metadata": {},
   "source": [
    "### Adding those Cluster Heads which were not predicted"
   ]
  },
  {
   "cell_type": "code",
   "execution_count": 16,
   "metadata": {},
   "outputs": [],
   "source": [
    "def addNOPredsClusterHeads(cluster_head_dict, coref_final_with_pro):\n",
    "    for cluster_id, cluster_val in cluster_head_dict.items():\n",
    "        if(cluster_id not in coref_final_with_pro.keys()):\n",
    "            coref_final_with_pro[cluster_id] = [[cluster_val[1],int(cluster_val[0]),'', None]]\n",
    "            \n",
    "    return coref_final_with_pro"
   ]
  },
  {
   "cell_type": "code",
   "execution_count": 17,
   "metadata": {},
   "outputs": [],
   "source": [
    "coref_final_with_pro = addNOPredsClusterHeads(cluster_head_dict, coref_final_with_pro)"
   ]
  },
  {
   "cell_type": "markdown",
   "metadata": {},
   "source": [
    "### Making semantic prediction for unpredicted Cluster Heads"
   ]
  },
  {
   "cell_type": "code",
   "execution_count": 18,
   "metadata": {
    "scrolled": true
   },
   "outputs": [],
   "source": [
    "# coref_final_with_pro = getCorefDict_meaning_NP(sentence_dict, coref_final_with_pro, 60)\n",
    "# coref_final_with_pro"
   ]
  },
  {
   "cell_type": "markdown",
   "metadata": {},
   "source": [
    "### Taking only the head nouns"
   ]
  },
  {
   "cell_type": "code",
   "execution_count": 19,
   "metadata": {},
   "outputs": [],
   "source": [
    "def takeHeadNouns(coref_final_with_pro):\n",
    "    \n",
    "    for cluster in coref_final_with_pro.keys():\n",
    "        for i in range(0, len(coref_final_with_pro[cluster])):\n",
    "            coref_final_with_pro[cluster][i][2] = coref_final_with_pro[cluster][i][2].split(' ')[-1]\n",
    "                        \n",
    "    return coref_final_with_pro"
   ]
  },
  {
   "cell_type": "code",
   "execution_count": 20,
   "metadata": {},
   "outputs": [],
   "source": [
    "coref_final_with_pro = takeHeadNouns(coref_final_with_pro)"
   ]
  },
  {
   "cell_type": "code",
   "execution_count": 21,
   "metadata": {},
   "outputs": [
    {
     "data": {
      "text/plain": [
       "{'X10': [[A safety stand-down, 25, 'stand-down'],\n",
       "  [A safety stand-down, 26, 'standdown']],\n",
       " 'X12': [['Carrier', 23, 'carrier'], ['Carrier', 29, 'carrier']],\n",
       " 'X13': [[these three crashes this year, 30, 'crash'],\n",
       "  [these three crashes this year, 35, 'increases']],\n",
       " 'X2': [['NAVY', 10, 'Navy'],\n",
       "  ['NAVY', 12, 'Navy'],\n",
       "  ['NAVY', 13, 'Navy'],\n",
       "  ['NAVY', 15, 'Navy'],\n",
       "  ['NAVY', 19, 'Navy'],\n",
       "  ['NAVY', 21, 'Navy'],\n",
       "  ['NAVY', 27, 'Navy'],\n",
       "  ['NAVY', 30, 'Navy'],\n",
       "  ['NAVY', 31, 'Navy'],\n",
       "  ['NAVY', 35, 'Navy'],\n",
       "  ['NAVY', 36, 'Navy']],\n",
       " 'X3': [[THIRD RECENT CRASH, 10, 'crash'],\n",
       "  [THIRD RECENT CRASH, 19, 'crash'],\n",
       "  [THIRD RECENT CRASH, 19, 'crash'],\n",
       "  [THIRD RECENT CRASH, 26, 'crash'],\n",
       "  [THIRD RECENT CRASH, 30, 'crash'],\n",
       "  [THIRD RECENT CRASH, 34, 'rate']],\n",
       " 'X4': [[entire fleet of F-14 airplanes, 26, 'fleet']],\n",
       " 'X5': [['Thursday', 19, 'Thursday'], ['Thursday', 26, 'Thursday']],\n",
       " 'X6': [[The 72-hour ``safety stand-down'', 25, 'stand-down'],\n",
       "  [The 72-hour ``safety stand-down'', 26, 'standdown']],\n",
       " 'X7': [[an F-14 fighter, 31, 'plane']],\n",
       " 'X8': [[the two Naval aviators on board, 14, 'aviator']],\n",
       " 'X9': [[Defense Department spokesman Kenneth Bacon, 24, 'Bacon'],\n",
       "  [Defense Department spokesman Kenneth Bacon, 26, 'Bacon'],\n",
       "  [Defense Department spokesman Kenneth Bacon, 27, 'Bacon'],\n",
       "  [Defense Department spokesman Kenneth Bacon, 35, 'Bacon'],\n",
       "  [Defense Department spokesman Kenneth Bacon, 36, 'Bacon'],\n",
       "  ['Defense Department spokesman Kenneth Bacon', 26, 'him', 0],\n",
       "  ['Defense Department spokesman Kenneth Bacon', 26, 'he', 0]],\n",
       " 'X0': [['GROUNDED-JETS', 2, '', None]],\n",
       " 'X1': [['02-22', 4, '', None]],\n",
       " 'X11': [['the USS America', 22, '', None]],\n",
       " 'X14': [['Adm. Jeremy Boorda', 26, '', None]],\n",
       " 'X15': [['Deputy Defense Secretary John White', 26, '', None]],\n",
       " 'X16': [['One', 29, '', None]],\n",
       " 'X17': [['The oldest version of the aircraft', 33, '', None]],\n",
       " 'X18': [['the initial years of deployment', 34, '', None]],\n",
       " 'X19': [['This', 37, '', None]]}"
      ]
     },
     "execution_count": 21,
     "metadata": {},
     "output_type": "execute_result"
    }
   ],
   "source": [
    "coref_final_with_pro"
   ]
  },
  {
   "cell_type": "markdown",
   "metadata": {},
   "source": [
    "### Print Output"
   ]
  },
  {
   "cell_type": "code",
   "execution_count": 22,
   "metadata": {},
   "outputs": [],
   "source": [
    "def printOP(cluster_head_dict, coref_final_with_pro):\n",
    "    \n",
    "    for cluster_id, cluster_head_name in cluster_head_dict.items():\n",
    "\n",
    "        print('<COREF ID=\"{}\">{}</COREF>'.format(cluster_id, cluster_head_name[1]))\n",
    "\n",
    "        coreferences = coref_final_with_pro[cluster_id]\n",
    "        list_of_sent_ids = list(map(lambda x: x[1], coreferences))\n",
    "        sorted_index_sent_ids = [i[0] for i in sorted(enumerate(list_of_sent_ids), key=lambda x:x[1])]\n",
    "        coreferences = [coreferences[i] for i in sorted_index_sent_ids]\n",
    "\n",
    "        for coref in coreferences:\n",
    "            if(coref[0] == ''):\n",
    "                continue\n",
    "            print('{{{0}}}'.format(coref[1]) + ' ' + '{' + coref[2] + '}')\n",
    "        print('\\n', end = '')      "
   ]
  },
  {
   "cell_type": "code",
   "execution_count": 23,
   "metadata": {
    "scrolled": false
   },
   "outputs": [
    {
     "name": "stdout",
     "output_type": "stream",
     "text": [
      "<COREF ID=\"X0\">GROUNDED-JETS</COREF>\n",
      "{2} {}\n",
      "\n",
      "<COREF ID=\"X1\">02-22</COREF>\n",
      "{4} {}\n",
      "\n",
      "<COREF ID=\"X2\">NAVY</COREF>\n",
      "{10} {Navy}\n",
      "{12} {Navy}\n",
      "{13} {Navy}\n",
      "{15} {Navy}\n",
      "{19} {Navy}\n",
      "{21} {Navy}\n",
      "{27} {Navy}\n",
      "{30} {Navy}\n",
      "{31} {Navy}\n",
      "{35} {Navy}\n",
      "{36} {Navy}\n",
      "\n",
      "<COREF ID=\"X3\">THIRD RECENT CRASH</COREF>\n",
      "{10} {crash}\n",
      "{19} {crash}\n",
      "{19} {crash}\n",
      "{26} {crash}\n",
      "{30} {crash}\n",
      "{34} {rate}\n",
      "\n",
      "<COREF ID=\"X4\">entire fleet of F-14 airplanes</COREF>\n",
      "{26} {fleet}\n",
      "\n",
      "<COREF ID=\"X5\">Thursday</COREF>\n",
      "{19} {Thursday}\n",
      "{26} {Thursday}\n",
      "\n",
      "<COREF ID=\"X6\">The 72-hour ``safety stand-down''</COREF>\n",
      "{25} {stand-down}\n",
      "{26} {standdown}\n",
      "\n",
      "<COREF ID=\"X7\">an F-14 fighter</COREF>\n",
      "{31} {plane}\n",
      "\n",
      "<COREF ID=\"X8\">the two Naval aviators on board</COREF>\n",
      "{14} {aviator}\n",
      "\n",
      "<COREF ID=\"X9\">Defense Department spokesman Kenneth Bacon</COREF>\n",
      "{24} {Bacon}\n",
      "{26} {Bacon}\n",
      "{26} {him}\n",
      "{26} {he}\n",
      "{27} {Bacon}\n",
      "{35} {Bacon}\n",
      "{36} {Bacon}\n",
      "\n",
      "<COREF ID=\"X10\">A safety stand-down</COREF>\n",
      "{25} {stand-down}\n",
      "{26} {standdown}\n",
      "\n",
      "<COREF ID=\"X11\">the USS America</COREF>\n",
      "{22} {}\n",
      "\n",
      "<COREF ID=\"X12\">Carrier</COREF>\n",
      "{23} {carrier}\n",
      "{29} {carrier}\n",
      "\n",
      "<COREF ID=\"X13\">these three crashes this year</COREF>\n",
      "{30} {crash}\n",
      "{35} {increases}\n",
      "\n",
      "<COREF ID=\"X14\">Adm. Jeremy Boorda</COREF>\n",
      "{26} {}\n",
      "\n",
      "<COREF ID=\"X15\">Deputy Defense Secretary John White</COREF>\n",
      "{26} {}\n",
      "\n",
      "<COREF ID=\"X16\">One</COREF>\n",
      "{29} {}\n",
      "\n",
      "<COREF ID=\"X17\">The oldest version of the aircraft</COREF>\n",
      "{33} {}\n",
      "\n",
      "<COREF ID=\"X18\">the initial years of deployment</COREF>\n",
      "{34} {}\n",
      "\n",
      "<COREF ID=\"X19\">This</COREF>\n",
      "{37} {}\n",
      "\n"
     ]
    }
   ],
   "source": [
    "# %%capture cap --no-stderr\n",
    "printOP(cluster_head_dict, coref_final_with_pro)"
   ]
  },
  {
   "cell_type": "code",
   "execution_count": 24,
   "metadata": {},
   "outputs": [],
   "source": [
    "# with open('{}.response'.format(file_number),'w') as f:\n",
    "#     f.write(cap.stdout)"
   ]
  },
  {
   "cell_type": "markdown",
   "metadata": {},
   "source": [
    "### Answer Key"
   ]
  },
  {
   "cell_type": "code",
   "execution_count": 103,
   "metadata": {
    "scrolled": true
   },
   "outputs": [],
   "source": [
    "# reader_o = ReadInput(key_path)\n",
    "# ans = reader_o.getListOfSentences()\n",
    "# ans"
   ]
  }
 ],
 "metadata": {
  "kernelspec": {
   "display_name": "Python 3",
   "language": "python",
   "name": "python3"
  },
  "language_info": {
   "codemirror_mode": {
    "name": "ipython",
    "version": 3
   },
   "file_extension": ".py",
   "mimetype": "text/x-python",
   "name": "python",
   "nbconvert_exporter": "python",
   "pygments_lexer": "ipython3",
   "version": "3.7.4"
  }
 },
 "nbformat": 4,
 "nbformat_minor": 2
}
