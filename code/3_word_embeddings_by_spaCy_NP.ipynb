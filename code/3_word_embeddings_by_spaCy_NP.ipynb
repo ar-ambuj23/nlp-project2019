{
 "cells": [
  {
   "cell_type": "code",
   "execution_count": 95,
   "metadata": {},
   "outputs": [],
   "source": [
    "# https://stackoverflow.com/questions/33289820/noun-phrases-with-spacy"
   ]
  },
  {
   "cell_type": "code",
   "execution_count": 1,
   "metadata": {},
   "outputs": [],
   "source": [
    "from coref import *"
   ]
  },
  {
   "cell_type": "code",
   "execution_count": 2,
   "metadata": {
    "collapsed": true
   },
   "outputs": [
    {
     "name": "stdout",
     "output_type": "stream",
     "text": [
      "Collecting en_core_web_md==2.2.0\n",
      "\u001b[?25l  Downloading https://github.com/explosion/spacy-models/releases/download/en_core_web_md-2.2.0/en_core_web_md-2.2.0.tar.gz (96.4MB)\n",
      "\u001b[K     |████████████████████████████████| 96.4MB 17.4MB/s eta 0:00:011\n",
      "\u001b[?25hRequirement already satisfied: spacy>=2.2.0 in /Users/ambuj/Documents/MS Stuff/nlp_cs_6340/final_project/env_coref/lib/python3.7/site-packages (from en_core_web_md==2.2.0) (2.2.2)\n",
      "Requirement already satisfied: wasabi<1.1.0,>=0.3.0 in /Users/ambuj/Documents/MS Stuff/nlp_cs_6340/final_project/env_coref/lib/python3.7/site-packages (from spacy>=2.2.0->en_core_web_md==2.2.0) (0.3.0)\n",
      "Requirement already satisfied: preshed<3.1.0,>=3.0.2 in /Users/ambuj/Documents/MS Stuff/nlp_cs_6340/final_project/env_coref/lib/python3.7/site-packages (from spacy>=2.2.0->en_core_web_md==2.2.0) (3.0.2)\n",
      "Requirement already satisfied: cymem<2.1.0,>=2.0.2 in /Users/ambuj/Documents/MS Stuff/nlp_cs_6340/final_project/env_coref/lib/python3.7/site-packages (from spacy>=2.2.0->en_core_web_md==2.2.0) (2.0.2)\n",
      "Requirement already satisfied: plac<1.2.0,>=0.9.6 in /Users/ambuj/Documents/MS Stuff/nlp_cs_6340/final_project/env_coref/lib/python3.7/site-packages (from spacy>=2.2.0->en_core_web_md==2.2.0) (1.1.3)\n",
      "Requirement already satisfied: importlib-metadata>=0.20; python_version < \"3.8\" in /Users/ambuj/Documents/MS Stuff/nlp_cs_6340/final_project/env_coref/lib/python3.7/site-packages (from spacy>=2.2.0->en_core_web_md==2.2.0) (0.23)\n",
      "Requirement already satisfied: murmurhash<1.1.0,>=0.28.0 in /Users/ambuj/Documents/MS Stuff/nlp_cs_6340/final_project/env_coref/lib/python3.7/site-packages (from spacy>=2.2.0->en_core_web_md==2.2.0) (1.0.2)\n",
      "Requirement already satisfied: thinc<7.4.0,>=7.3.0 in /Users/ambuj/Documents/MS Stuff/nlp_cs_6340/final_project/env_coref/lib/python3.7/site-packages (from spacy>=2.2.0->en_core_web_md==2.2.0) (7.3.1)\n",
      "Requirement already satisfied: requests<3.0.0,>=2.13.0 in /Users/ambuj/Documents/MS Stuff/nlp_cs_6340/final_project/env_coref/lib/python3.7/site-packages (from spacy>=2.2.0->en_core_web_md==2.2.0) (2.22.0)\n",
      "Requirement already satisfied: numpy>=1.15.0 in /Users/ambuj/Documents/MS Stuff/nlp_cs_6340/final_project/env_coref/lib/python3.7/site-packages (from spacy>=2.2.0->en_core_web_md==2.2.0) (1.17.3)\n",
      "Requirement already satisfied: setuptools in /Users/ambuj/Documents/MS Stuff/nlp_cs_6340/final_project/env_coref/lib/python3.7/site-packages (from spacy>=2.2.0->en_core_web_md==2.2.0) (41.6.0)\n",
      "Requirement already satisfied: srsly<1.1.0,>=0.1.0 in /Users/ambuj/Documents/MS Stuff/nlp_cs_6340/final_project/env_coref/lib/python3.7/site-packages (from spacy>=2.2.0->en_core_web_md==2.2.0) (0.2.0)\n",
      "Requirement already satisfied: blis<0.5.0,>=0.4.0 in /Users/ambuj/Documents/MS Stuff/nlp_cs_6340/final_project/env_coref/lib/python3.7/site-packages (from spacy>=2.2.0->en_core_web_md==2.2.0) (0.4.1)\n",
      "Requirement already satisfied: zipp>=0.5 in /Users/ambuj/Documents/MS Stuff/nlp_cs_6340/final_project/env_coref/lib/python3.7/site-packages (from importlib-metadata>=0.20; python_version < \"3.8\"->spacy>=2.2.0->en_core_web_md==2.2.0) (0.6.0)\n",
      "Requirement already satisfied: tqdm<5.0.0,>=4.10.0 in /Users/ambuj/Documents/MS Stuff/nlp_cs_6340/final_project/env_coref/lib/python3.7/site-packages (from thinc<7.4.0,>=7.3.0->spacy>=2.2.0->en_core_web_md==2.2.0) (4.37.0)\n",
      "Requirement already satisfied: certifi>=2017.4.17 in /Users/ambuj/Documents/MS Stuff/nlp_cs_6340/final_project/env_coref/lib/python3.7/site-packages (from requests<3.0.0,>=2.13.0->spacy>=2.2.0->en_core_web_md==2.2.0) (2019.9.11)\n",
      "Requirement already satisfied: urllib3!=1.25.0,!=1.25.1,<1.26,>=1.21.1 in /Users/ambuj/Documents/MS Stuff/nlp_cs_6340/final_project/env_coref/lib/python3.7/site-packages (from requests<3.0.0,>=2.13.0->spacy>=2.2.0->en_core_web_md==2.2.0) (1.25.6)\n",
      "Requirement already satisfied: chardet<3.1.0,>=3.0.2 in /Users/ambuj/Documents/MS Stuff/nlp_cs_6340/final_project/env_coref/lib/python3.7/site-packages (from requests<3.0.0,>=2.13.0->spacy>=2.2.0->en_core_web_md==2.2.0) (3.0.4)\n",
      "Requirement already satisfied: idna<2.9,>=2.5 in /Users/ambuj/Documents/MS Stuff/nlp_cs_6340/final_project/env_coref/lib/python3.7/site-packages (from requests<3.0.0,>=2.13.0->spacy>=2.2.0->en_core_web_md==2.2.0) (2.8)\n",
      "Requirement already satisfied: more-itertools in /Users/ambuj/Documents/MS Stuff/nlp_cs_6340/final_project/env_coref/lib/python3.7/site-packages (from zipp>=0.5->importlib-metadata>=0.20; python_version < \"3.8\"->spacy>=2.2.0->en_core_web_md==2.2.0) (7.2.0)\n",
      "Building wheels for collected packages: en-core-web-md\n",
      "  Building wheel for en-core-web-md (setup.py) ... \u001b[?25ldone\n",
      "\u001b[?25h  Created wheel for en-core-web-md: filename=en_core_web_md-2.2.0-cp37-none-any.whl size=98072933 sha256=8eef9f4f668dae59a89ef821d02ae505e2654d1d1bb3ea6a749475c696b050bf\n",
      "  Stored in directory: /private/var/folders/qj/vhjml8kj1tl0shjyxg0rfq5c0000gn/T/pip-ephem-wheel-cache-_13z7upu/wheels/5f/3e/c9/36dd6e13b449fd84cd1f94b72dfbc559daf09f53dbf4e697a3\n",
      "Successfully built en-core-web-md\n",
      "Installing collected packages: en-core-web-md\n",
      "Successfully installed en-core-web-md-2.2.0\n",
      "\u001b[38;5;2m✔ Download and installation successful\u001b[0m\n",
      "You can now load the model via spacy.load('en_core_web_md')\n"
     ]
    }
   ],
   "source": [
    "!python -m spacy download en_core_web_md"
   ]
  },
  {
   "cell_type": "code",
   "execution_count": 51,
   "metadata": {},
   "outputs": [],
   "source": [
    "import spacy\n",
    "nlp = spacy.load(\"en_core_web_md\")"
   ]
  },
  {
   "cell_type": "code",
   "execution_count": 52,
   "metadata": {},
   "outputs": [],
   "source": [
    "input_path = '/Users/ambuj/Documents/MS Stuff/nlp_cs_6340/final_project/nlp-project2019/dev/a9.input'\n",
    "key_path = '/Users/ambuj/Documents/MS Stuff/nlp_cs_6340/final_project/nlp-project2019/dev/a9.key'"
   ]
  },
  {
   "cell_type": "code",
   "execution_count": 53,
   "metadata": {},
   "outputs": [],
   "source": [
    "reader = ReadInput(input_path)\n",
    "list_of_sentences = reader.getListOfSentences()\n",
    "# print(list_of_sentences)\n",
    "full_text = reader.getText()\n",
    "# print(full_text)"
   ]
  },
  {
   "cell_type": "code",
   "execution_count": 54,
   "metadata": {},
   "outputs": [],
   "source": [
    "sentence_dict = getSentenceDict(list_of_sentences)\n",
    "cluster_head_dict = getClusterHeads(sentence_dict)"
   ]
  },
  {
   "cell_type": "code",
   "execution_count": null,
   "metadata": {},
   "outputs": [],
   "source": []
  },
  {
   "cell_type": "code",
   "execution_count": 15,
   "metadata": {},
   "outputs": [],
   "source": [
    "doc = nlp('This is a test sentence. Exam is what is written.')"
   ]
  },
  {
   "cell_type": "code",
   "execution_count": 29,
   "metadata": {},
   "outputs": [
    {
     "data": {
      "text/plain": [
       "(test, Exam, written)"
      ]
     },
     "execution_count": 29,
     "metadata": {},
     "output_type": "execute_result"
    }
   ],
   "source": [
    "doc[3], doc[6], doc[10]"
   ]
  },
  {
   "cell_type": "code",
   "execution_count": 34,
   "metadata": {
    "scrolled": true
   },
   "outputs": [
    {
     "data": {
      "text/plain": [
       "0.59551954"
      ]
     },
     "execution_count": 34,
     "metadata": {},
     "output_type": "execute_result"
    }
   ],
   "source": [
    "doc[6].similarity(doc[3])"
   ]
  },
  {
   "cell_type": "code",
   "execution_count": 71,
   "metadata": {},
   "outputs": [
    {
     "data": {
      "text/plain": [
       "spacy.tokens.token.Token"
      ]
     },
     "execution_count": 71,
     "metadata": {},
     "output_type": "execute_result"
    }
   ],
   "source": [
    "type(doc[6])"
   ]
  },
  {
   "cell_type": "code",
   "execution_count": 72,
   "metadata": {},
   "outputs": [
    {
     "data": {
      "text/plain": [
       "spacy.tokens.token.Token"
      ]
     },
     "execution_count": 72,
     "metadata": {},
     "output_type": "execute_result"
    }
   ],
   "source": [
    "type(doc[3])"
   ]
  },
  {
   "cell_type": "code",
   "execution_count": 148,
   "metadata": {},
   "outputs": [
    {
     "data": {
      "text/plain": [
       "0.6178732115598177"
      ]
     },
     "execution_count": 148,
     "metadata": {},
     "output_type": "execute_result"
    }
   ],
   "source": [
    "nlp('CRASHES').similarity(nlp('ACCIDENTS'))"
   ]
  },
  {
   "cell_type": "code",
   "execution_count": 153,
   "metadata": {},
   "outputs": [
    {
     "data": {
      "text/plain": [
       "[]"
      ]
     },
     "execution_count": 153,
     "metadata": {},
     "output_type": "execute_result"
    }
   ],
   "source": [
    "list(nlp('F14-CRASHES').noun_chunks)"
   ]
  },
  {
   "cell_type": "code",
   "execution_count": null,
   "metadata": {},
   "outputs": [],
   "source": []
  },
  {
   "cell_type": "code",
   "execution_count": null,
   "metadata": {},
   "outputs": [],
   "source": []
  },
  {
   "cell_type": "code",
   "execution_count": 55,
   "metadata": {},
   "outputs": [],
   "source": [
    "def getRemText(sent_id, sentence_dict):\n",
    "    rem_text = {}\n",
    "    for sid in sentence_dict.keys():\n",
    "        if(sid >= sent_id): \n",
    "            rem_text[sid] = sentence_dict[sid]\n",
    "    sorted_rem_text = dict(sorted(rem_text.items(), key = lambda x:x[0]))\n",
    "    return sorted_rem_text"
   ]
  },
  {
   "cell_type": "code",
   "execution_count": 56,
   "metadata": {},
   "outputs": [],
   "source": [
    "# def getSimilarityScore(cluster_head_name,noun_phrase):\n",
    "#     ## When NP will be used, then partial_ratio will be used\n",
    "# #     return fuzz.partial_ratio(cluster_head_name.lower(),noun_phrase.lower_)"
   ]
  },
  {
   "cell_type": "code",
   "execution_count": 156,
   "metadata": {},
   "outputs": [],
   "source": [
    "def getCorefDict(sentence_dict, cluster_head_dict, threshold):\n",
    "    \n",
    "    ## Initialise a coref_dict \n",
    "    coref_dict = {}\n",
    "    \n",
    "    for cluster_id, cluster_value in cluster_head_dict.items():\n",
    "#         print(cluster_id)\n",
    "        current_cluster_sent_id = cluster_value[0]        \n",
    "        current_cluster_head = cluster_value[1]\n",
    "        \n",
    "        remaining_text = getRemText(current_cluster_sent_id, sentence_dict)\n",
    "\n",
    "        for sid, sentence in remaining_text.items():\n",
    "#             print(sid, sentence)\n",
    "#             print('*'*8)\n",
    "            clean = re.compile('<COREF .*?>.*?</COREF>') ## removing all coref tags from the current sentence\n",
    "            clean_sentence = re.sub(clean, '', sentence)\n",
    "#             print(clean_sentence)\n",
    "#             print('*'*16)\n",
    "#             clean_sentence = clean_sentence.replace('-',' ')\n",
    "#             print(clean_sentence)\n",
    "\n",
    "            doc = nlp(clean_sentence)\n",
    "#             print(list(doc.noun_chunks))\n",
    "            word_embedding_score_list = []\n",
    "            \n",
    "            for np in doc.noun_chunks:\n",
    "                \n",
    "                ## If the NP is a pronoun, ignore it. \n",
    "                ## We are handling pronouns by Hobb's algorithm\n",
    "                if(len(np) == 1 and np[0].pos_ == 'PRON'):\n",
    "                    continue\n",
    "                \n",
    "                similarity_score = nlp(current_cluster_head)[0].similarity(np)\n",
    "#                 print(similarity_score)\n",
    "                \n",
    "                               \n",
    "                word_embedding_score_list.append(list([current_cluster_head, sid, np, similarity_score]))\n",
    "            \n",
    "#             print(word_embedding_score_list)\n",
    "            if(len(word_embedding_score_list) == 0):\n",
    "                continue\n",
    "            scores_list = list(map(lambda x: x[3], word_embedding_score_list))\n",
    "            max_score = max(scores_list)\n",
    "            max_index = scores_list.index(max_score)\n",
    "\n",
    "            max_word_embedding_score_list = word_embedding_score_list[max_index]\n",
    "\n",
    "\n",
    "            if(max_score > threshold):\n",
    "                if(cluster_id not in coref_dict.keys()):\n",
    "                    coref_dict[cluster_id] = max_word_embedding_score_list\n",
    "                else:\n",
    "                    coref_dict[cluster_id].append(max_word_embedding_score_list)\n",
    "                    \n",
    "                    \n",
    "#                     print(cluster_id, current_cluster_head, word, sid, similarity_score)\n",
    "#                     if(cluster_id not in coref_dict.keys()):\n",
    "#                         coref_dict[cluster_id] = [list([current_cluster_head, sid, np, similarity_score])]\n",
    "#                     else:\n",
    "#                         coref_dict[cluster_id].append(list([current_cluster_head, sid, np, similarity_score]))\n",
    "    return coref_dict"
   ]
  },
  {
   "cell_type": "code",
   "execution_count": null,
   "metadata": {},
   "outputs": [],
   "source": []
  },
  {
   "cell_type": "code",
   "execution_count": null,
   "metadata": {},
   "outputs": [],
   "source": []
  },
  {
   "cell_type": "code",
   "execution_count": null,
   "metadata": {},
   "outputs": [],
   "source": []
  },
  {
   "cell_type": "code",
   "execution_count": 127,
   "metadata": {
    "scrolled": true
   },
   "outputs": [
    {
     "data": {
      "text/plain": [
       "['<S ID=\"0\">nyt960222.0269</S>\\n',\n",
       " '<S ID=\"1\">A2555</S>\\n',\n",
       " '<S ID=\"2\">BC-<COREF ID=\"X0\">F14-CRASHES</COREF>-BLOOM</S>\\n',\n",
       " '<S ID=\"3\">@amp;LR;</S>\\n',\n",
       " '<S ID=\"4\"><COREF ID=\"X1\">02-22</COREF></S>\\n',\n",
       " '<S ID=\"5\">BC-F14-CRASHES-BLOOM</S>\\n',\n",
       " '<S ID=\"6\"><COREF ID=\"X2\">NORTHROP GRUMMAN F-14S</COREF> TO STAND DOWN FOR REVIEW OF ACCIDENTS</S>\\n',\n",
       " '<S ID=\"7\">(For use by New York Times News Service clients)</S>\\n',\n",
       " '<S ID=\"8\">By Bill Arthur</S>\\n',\n",
       " '<S ID=\"9\">c.1996 <COREF ID=\"X3\">Bloomberg Business News</COREF></S>\\n',\n",
       " '<S ID=\"10\">Washington, Feb. 22 (Bloomberg) -- The <COREF ID=\"X4\">Navy</COREF> ordered its Northrop Grumman Corp. F-14s out of the skies for <COREF ID=\"X5\">three days</COREF> while it investigates three recent F-14 crashes.</S>\\n',\n",
       " '<S ID=\"11\">The action came after an F-14A fighter crashed today in the <COREF ID=\"X6\">Persian Gulf</COREF>.</S>\\n',\n",
       " '<S ID=\"12\">The two crew members ejected and were rescued and returned to the aircraft carrier USS Nimitz with minor injuries, the Navy said.</S>\\n',\n",
       " '<S ID=\"13\">Sunday, an F-14D crashed into the Pacific Ocean off southern California, killing its two crew members.</S>\\n',\n",
       " '<S ID=\"14\">And on Jan. 29, an F-14A crashed into houses in Nashville, Tennessee, after takeoff, killing the two crew members and three people on the ground.</S>\\n',\n",
       " '<S ID=\"15\">The cause of today\\'s crash is undetermined.</S>\\n',\n",
       " '<S ID=\"16\">``In light of the recent mishaps involving F-14As and Ds, the Navy has ordered <COREF ID=\"X7\">a 72-hour safety standdown</COREF> for all F-14 aircraft,\\'\\' said <COREF ID=\"X8\">Lt. Greg Geisen</COREF>, a Navy spokesman at the Pentagon.</S>\\n',\n",
       " '<S ID=\"17\">``Although different models of <COREF ID=\"X9\">the F-14</COREF> have been involved in these mishaps, it is prudent to temporarily suspend routine flight operations for all F-14s in order to assess the available information and determine if procedural or other modifications to F-14 operations are warranted,\\'\\' the Navy said.</S>\\n',\n",
       " '<S ID=\"18\">A one-time exception to the standdown will be allowed for <COREF ID=\"X10\">14 F-14s on board the USS America</COREF>, which is returning to the United States from the Persian Gulf and Bosnia, Geisen said.</S>\\n',\n",
       " '<S ID=\"19\">Those planes will be permitted to fly to Oceana Naval Air Station, Virginia, as the ship nears port.</S>\\n',\n",
       " '<S ID=\"20\">The F14 ``Tomcat\\'\\' is the Navy\\'s first-line fighter aircraft.</S>\\n',\n",
       " '<S ID=\"21\">It has two-engines and is capable of action in all weather, day or night.</S>\\n',\n",
       " '<S ID=\"22\">The Navy has about 330 F-14s in three models, As, Bs and Ds.</S>\\n',\n",
       " '<S ID=\"23\">The models differ mainly in engines and avionics.</S>\\n',\n",
       " '<S ID=\"24\">The A model uses engines from <COREF ID=\"X11\">Pratt @amp; Whitney</COREF>, a unit of United Technologies Corp.</S>\\n',\n",
       " '<S ID=\"25\">The B and D models use General Electric engines.</S>\\n',\n",
       " '<S ID=\"26\">The Navy said there have been <COREF ID=\"X12\">F-14 32 crashes since 1991</COREF>.</S>\\n',\n",
       " '<S ID=\"27\">That figure isn\\'t uncommon for Navy jet fighter aircraft, Geisen said.</S>\\n',\n",
       " '<S ID=\"28\">The aircraft was introduced to the fleet in <COREF ID=\"X13\">the mid 1970s</COREF>, and has undergone several upgrades since then, Geisen said.</S>\\n',\n",
       " '<S ID=\"29\">The planes were made by <COREF ID=\"X14\">Grumman Corp.</COREF>, now Northrop Grumman, principally in Calverton, New York, on Long Island.</S>\\n',\n",
       " '<S ID=\"30\">The company delivered the last F-14 to the Navy in 1992, said <COREF ID=\"X15\">Northrop Grumman spokesman John Vosilla</COREF>.</S>\\n',\n",
       " '<S ID=\"31\">He referred all questions about today\\'s crash to the Navy.</S>\\n',\n",
       " '<S ID=\"32\">Aviation safety and engineering experts will review the data from the three recent crashes and are to present their findings to the Chief of Naval Operations Mike Boorda in three days, Geisen said.</S>\\n',\n",
       " '<S ID=\"33\">Northrop Grumman shares were up 3/8 to 66 1/4 at midday.</S>\\n',\n",
       " '<S ID=\"34\">NYT-02-22-96 1221EST</S>']"
      ]
     },
     "execution_count": 127,
     "metadata": {},
     "output_type": "execute_result"
    }
   ],
   "source": [
    "list_of_sentences"
   ]
  },
  {
   "cell_type": "code",
   "execution_count": 155,
   "metadata": {
    "scrolled": true
   },
   "outputs": [
    {
     "name": "stdout",
     "output_type": "stream",
     "text": [
      "X0\n"
     ]
    },
    {
     "name": "stderr",
     "output_type": "stream",
     "text": [
      "/usr/local/Cellar/python/3.7.4/Frameworks/Python.framework/Versions/3.7/lib/python3.7/runpy.py:193: UserWarning: [W008] Evaluating Token.similarity based on empty vectors.\n",
      "  \"__main__\", mod_spec)\n",
      "/usr/local/Cellar/python/3.7.4/Frameworks/Python.framework/Versions/3.7/lib/python3.7/runpy.py:193: UserWarning: [W008] Evaluating Token.similarity based on empty vectors.\n",
      "  \"__main__\", mod_spec)\n",
      "/usr/local/Cellar/python/3.7.4/Frameworks/Python.framework/Versions/3.7/lib/python3.7/runpy.py:193: UserWarning: [W008] Evaluating Token.similarity based on empty vectors.\n",
      "  \"__main__\", mod_spec)\n",
      "/usr/local/Cellar/python/3.7.4/Frameworks/Python.framework/Versions/3.7/lib/python3.7/runpy.py:193: UserWarning: [W008] Evaluating Token.similarity based on empty vectors.\n",
      "  \"__main__\", mod_spec)\n",
      "/usr/local/Cellar/python/3.7.4/Frameworks/Python.framework/Versions/3.7/lib/python3.7/runpy.py:193: UserWarning: [W008] Evaluating Token.similarity based on empty vectors.\n",
      "  \"__main__\", mod_spec)\n",
      "/usr/local/Cellar/python/3.7.4/Frameworks/Python.framework/Versions/3.7/lib/python3.7/runpy.py:193: UserWarning: [W008] Evaluating Token.similarity based on empty vectors.\n",
      "  \"__main__\", mod_spec)\n",
      "/usr/local/Cellar/python/3.7.4/Frameworks/Python.framework/Versions/3.7/lib/python3.7/runpy.py:193: UserWarning: [W008] Evaluating Token.similarity based on empty vectors.\n",
      "  \"__main__\", mod_spec)\n",
      "/usr/local/Cellar/python/3.7.4/Frameworks/Python.framework/Versions/3.7/lib/python3.7/runpy.py:193: UserWarning: [W008] Evaluating Token.similarity based on empty vectors.\n",
      "  \"__main__\", mod_spec)\n",
      "/usr/local/Cellar/python/3.7.4/Frameworks/Python.framework/Versions/3.7/lib/python3.7/runpy.py:193: UserWarning: [W008] Evaluating Token.similarity based on empty vectors.\n",
      "  \"__main__\", mod_spec)\n",
      "/usr/local/Cellar/python/3.7.4/Frameworks/Python.framework/Versions/3.7/lib/python3.7/runpy.py:193: UserWarning: [W008] Evaluating Token.similarity based on empty vectors.\n",
      "  \"__main__\", mod_spec)\n",
      "/usr/local/Cellar/python/3.7.4/Frameworks/Python.framework/Versions/3.7/lib/python3.7/runpy.py:193: UserWarning: [W008] Evaluating Token.similarity based on empty vectors.\n",
      "  \"__main__\", mod_spec)\n",
      "/usr/local/Cellar/python/3.7.4/Frameworks/Python.framework/Versions/3.7/lib/python3.7/runpy.py:193: UserWarning: [W008] Evaluating Token.similarity based on empty vectors.\n",
      "  \"__main__\", mod_spec)\n",
      "/usr/local/Cellar/python/3.7.4/Frameworks/Python.framework/Versions/3.7/lib/python3.7/runpy.py:193: UserWarning: [W008] Evaluating Token.similarity based on empty vectors.\n",
      "  \"__main__\", mod_spec)\n",
      "/usr/local/Cellar/python/3.7.4/Frameworks/Python.framework/Versions/3.7/lib/python3.7/runpy.py:193: UserWarning: [W008] Evaluating Token.similarity based on empty vectors.\n",
      "  \"__main__\", mod_spec)\n",
      "/usr/local/Cellar/python/3.7.4/Frameworks/Python.framework/Versions/3.7/lib/python3.7/runpy.py:193: UserWarning: [W008] Evaluating Token.similarity based on empty vectors.\n",
      "  \"__main__\", mod_spec)\n",
      "/usr/local/Cellar/python/3.7.4/Frameworks/Python.framework/Versions/3.7/lib/python3.7/runpy.py:193: UserWarning: [W008] Evaluating Token.similarity based on empty vectors.\n",
      "  \"__main__\", mod_spec)\n",
      "/usr/local/Cellar/python/3.7.4/Frameworks/Python.framework/Versions/3.7/lib/python3.7/runpy.py:193: UserWarning: [W008] Evaluating Token.similarity based on empty vectors.\n",
      "  \"__main__\", mod_spec)\n",
      "/usr/local/Cellar/python/3.7.4/Frameworks/Python.framework/Versions/3.7/lib/python3.7/runpy.py:193: UserWarning: [W008] Evaluating Token.similarity based on empty vectors.\n",
      "  \"__main__\", mod_spec)\n",
      "/usr/local/Cellar/python/3.7.4/Frameworks/Python.framework/Versions/3.7/lib/python3.7/runpy.py:193: UserWarning: [W008] Evaluating Token.similarity based on empty vectors.\n",
      "  \"__main__\", mod_spec)\n",
      "/usr/local/Cellar/python/3.7.4/Frameworks/Python.framework/Versions/3.7/lib/python3.7/runpy.py:193: UserWarning: [W008] Evaluating Token.similarity based on empty vectors.\n",
      "  \"__main__\", mod_spec)\n",
      "/usr/local/Cellar/python/3.7.4/Frameworks/Python.framework/Versions/3.7/lib/python3.7/runpy.py:193: UserWarning: [W008] Evaluating Token.similarity based on empty vectors.\n",
      "  \"__main__\", mod_spec)\n",
      "/usr/local/Cellar/python/3.7.4/Frameworks/Python.framework/Versions/3.7/lib/python3.7/runpy.py:193: UserWarning: [W008] Evaluating Token.similarity based on empty vectors.\n",
      "  \"__main__\", mod_spec)\n",
      "/usr/local/Cellar/python/3.7.4/Frameworks/Python.framework/Versions/3.7/lib/python3.7/runpy.py:193: UserWarning: [W008] Evaluating Token.similarity based on empty vectors.\n",
      "  \"__main__\", mod_spec)\n",
      "/usr/local/Cellar/python/3.7.4/Frameworks/Python.framework/Versions/3.7/lib/python3.7/runpy.py:193: UserWarning: [W008] Evaluating Token.similarity based on empty vectors.\n",
      "  \"__main__\", mod_spec)\n",
      "/usr/local/Cellar/python/3.7.4/Frameworks/Python.framework/Versions/3.7/lib/python3.7/runpy.py:193: UserWarning: [W008] Evaluating Token.similarity based on empty vectors.\n",
      "  \"__main__\", mod_spec)\n",
      "/usr/local/Cellar/python/3.7.4/Frameworks/Python.framework/Versions/3.7/lib/python3.7/runpy.py:193: UserWarning: [W008] Evaluating Token.similarity based on empty vectors.\n",
      "  \"__main__\", mod_spec)\n",
      "/usr/local/Cellar/python/3.7.4/Frameworks/Python.framework/Versions/3.7/lib/python3.7/runpy.py:193: UserWarning: [W008] Evaluating Token.similarity based on empty vectors.\n",
      "  \"__main__\", mod_spec)\n",
      "/usr/local/Cellar/python/3.7.4/Frameworks/Python.framework/Versions/3.7/lib/python3.7/runpy.py:193: UserWarning: [W008] Evaluating Token.similarity based on empty vectors.\n",
      "  \"__main__\", mod_spec)\n",
      "/usr/local/Cellar/python/3.7.4/Frameworks/Python.framework/Versions/3.7/lib/python3.7/runpy.py:193: UserWarning: [W008] Evaluating Token.similarity based on empty vectors.\n",
      "  \"__main__\", mod_spec)\n",
      "/usr/local/Cellar/python/3.7.4/Frameworks/Python.framework/Versions/3.7/lib/python3.7/runpy.py:193: UserWarning: [W008] Evaluating Token.similarity based on empty vectors.\n",
      "  \"__main__\", mod_spec)\n",
      "/usr/local/Cellar/python/3.7.4/Frameworks/Python.framework/Versions/3.7/lib/python3.7/runpy.py:193: UserWarning: [W008] Evaluating Token.similarity based on empty vectors.\n",
      "  \"__main__\", mod_spec)\n",
      "/usr/local/Cellar/python/3.7.4/Frameworks/Python.framework/Versions/3.7/lib/python3.7/runpy.py:193: UserWarning: [W008] Evaluating Token.similarity based on empty vectors.\n",
      "  \"__main__\", mod_spec)\n",
      "/usr/local/Cellar/python/3.7.4/Frameworks/Python.framework/Versions/3.7/lib/python3.7/runpy.py:193: UserWarning: [W008] Evaluating Token.similarity based on empty vectors.\n",
      "  \"__main__\", mod_spec)\n",
      "/usr/local/Cellar/python/3.7.4/Frameworks/Python.framework/Versions/3.7/lib/python3.7/runpy.py:193: UserWarning: [W008] Evaluating Token.similarity based on empty vectors.\n",
      "  \"__main__\", mod_spec)\n",
      "/usr/local/Cellar/python/3.7.4/Frameworks/Python.framework/Versions/3.7/lib/python3.7/runpy.py:193: UserWarning: [W008] Evaluating Token.similarity based on empty vectors.\n",
      "  \"__main__\", mod_spec)\n",
      "/usr/local/Cellar/python/3.7.4/Frameworks/Python.framework/Versions/3.7/lib/python3.7/runpy.py:193: UserWarning: [W008] Evaluating Token.similarity based on empty vectors.\n",
      "  \"__main__\", mod_spec)\n",
      "/usr/local/Cellar/python/3.7.4/Frameworks/Python.framework/Versions/3.7/lib/python3.7/runpy.py:193: UserWarning: [W008] Evaluating Token.similarity based on empty vectors.\n",
      "  \"__main__\", mod_spec)\n",
      "/usr/local/Cellar/python/3.7.4/Frameworks/Python.framework/Versions/3.7/lib/python3.7/runpy.py:193: UserWarning: [W008] Evaluating Token.similarity based on empty vectors.\n",
      "  \"__main__\", mod_spec)\n",
      "/usr/local/Cellar/python/3.7.4/Frameworks/Python.framework/Versions/3.7/lib/python3.7/runpy.py:193: UserWarning: [W008] Evaluating Token.similarity based on empty vectors.\n",
      "  \"__main__\", mod_spec)\n",
      "/usr/local/Cellar/python/3.7.4/Frameworks/Python.framework/Versions/3.7/lib/python3.7/runpy.py:193: UserWarning: [W008] Evaluating Token.similarity based on empty vectors.\n",
      "  \"__main__\", mod_spec)\n",
      "/usr/local/Cellar/python/3.7.4/Frameworks/Python.framework/Versions/3.7/lib/python3.7/runpy.py:193: UserWarning: [W008] Evaluating Token.similarity based on empty vectors.\n",
      "  \"__main__\", mod_spec)\n",
      "/usr/local/Cellar/python/3.7.4/Frameworks/Python.framework/Versions/3.7/lib/python3.7/runpy.py:193: UserWarning: [W008] Evaluating Token.similarity based on empty vectors.\n",
      "  \"__main__\", mod_spec)\n",
      "/usr/local/Cellar/python/3.7.4/Frameworks/Python.framework/Versions/3.7/lib/python3.7/runpy.py:193: UserWarning: [W008] Evaluating Token.similarity based on empty vectors.\n",
      "  \"__main__\", mod_spec)\n",
      "/usr/local/Cellar/python/3.7.4/Frameworks/Python.framework/Versions/3.7/lib/python3.7/runpy.py:193: UserWarning: [W008] Evaluating Token.similarity based on empty vectors.\n",
      "  \"__main__\", mod_spec)\n",
      "/usr/local/Cellar/python/3.7.4/Frameworks/Python.framework/Versions/3.7/lib/python3.7/runpy.py:193: UserWarning: [W008] Evaluating Token.similarity based on empty vectors.\n",
      "  \"__main__\", mod_spec)\n",
      "/usr/local/Cellar/python/3.7.4/Frameworks/Python.framework/Versions/3.7/lib/python3.7/runpy.py:193: UserWarning: [W008] Evaluating Token.similarity based on empty vectors.\n",
      "  \"__main__\", mod_spec)\n",
      "/usr/local/Cellar/python/3.7.4/Frameworks/Python.framework/Versions/3.7/lib/python3.7/runpy.py:193: UserWarning: [W008] Evaluating Token.similarity based on empty vectors.\n",
      "  \"__main__\", mod_spec)\n",
      "/usr/local/Cellar/python/3.7.4/Frameworks/Python.framework/Versions/3.7/lib/python3.7/runpy.py:193: UserWarning: [W008] Evaluating Token.similarity based on empty vectors.\n",
      "  \"__main__\", mod_spec)\n",
      "/usr/local/Cellar/python/3.7.4/Frameworks/Python.framework/Versions/3.7/lib/python3.7/runpy.py:193: UserWarning: [W008] Evaluating Token.similarity based on empty vectors.\n",
      "  \"__main__\", mod_spec)\n",
      "/usr/local/Cellar/python/3.7.4/Frameworks/Python.framework/Versions/3.7/lib/python3.7/runpy.py:193: UserWarning: [W008] Evaluating Token.similarity based on empty vectors.\n",
      "  \"__main__\", mod_spec)\n",
      "/usr/local/Cellar/python/3.7.4/Frameworks/Python.framework/Versions/3.7/lib/python3.7/runpy.py:193: UserWarning: [W008] Evaluating Token.similarity based on empty vectors.\n",
      "  \"__main__\", mod_spec)\n",
      "/usr/local/Cellar/python/3.7.4/Frameworks/Python.framework/Versions/3.7/lib/python3.7/runpy.py:193: UserWarning: [W008] Evaluating Token.similarity based on empty vectors.\n",
      "  \"__main__\", mod_spec)\n",
      "/usr/local/Cellar/python/3.7.4/Frameworks/Python.framework/Versions/3.7/lib/python3.7/runpy.py:193: UserWarning: [W008] Evaluating Token.similarity based on empty vectors.\n",
      "  \"__main__\", mod_spec)\n",
      "/usr/local/Cellar/python/3.7.4/Frameworks/Python.framework/Versions/3.7/lib/python3.7/runpy.py:193: UserWarning: [W008] Evaluating Token.similarity based on empty vectors.\n",
      "  \"__main__\", mod_spec)\n"
     ]
    },
    {
     "name": "stderr",
     "output_type": "stream",
     "text": [
      "/usr/local/Cellar/python/3.7.4/Frameworks/Python.framework/Versions/3.7/lib/python3.7/runpy.py:193: UserWarning: [W008] Evaluating Token.similarity based on empty vectors.\n",
      "  \"__main__\", mod_spec)\n",
      "/usr/local/Cellar/python/3.7.4/Frameworks/Python.framework/Versions/3.7/lib/python3.7/runpy.py:193: UserWarning: [W008] Evaluating Token.similarity based on empty vectors.\n",
      "  \"__main__\", mod_spec)\n",
      "/usr/local/Cellar/python/3.7.4/Frameworks/Python.framework/Versions/3.7/lib/python3.7/runpy.py:193: UserWarning: [W008] Evaluating Token.similarity based on empty vectors.\n",
      "  \"__main__\", mod_spec)\n",
      "/usr/local/Cellar/python/3.7.4/Frameworks/Python.framework/Versions/3.7/lib/python3.7/runpy.py:193: UserWarning: [W008] Evaluating Token.similarity based on empty vectors.\n",
      "  \"__main__\", mod_spec)\n",
      "/usr/local/Cellar/python/3.7.4/Frameworks/Python.framework/Versions/3.7/lib/python3.7/runpy.py:193: UserWarning: [W008] Evaluating Token.similarity based on empty vectors.\n",
      "  \"__main__\", mod_spec)\n",
      "/usr/local/Cellar/python/3.7.4/Frameworks/Python.framework/Versions/3.7/lib/python3.7/runpy.py:193: UserWarning: [W008] Evaluating Token.similarity based on empty vectors.\n",
      "  \"__main__\", mod_spec)\n",
      "/usr/local/Cellar/python/3.7.4/Frameworks/Python.framework/Versions/3.7/lib/python3.7/runpy.py:193: UserWarning: [W008] Evaluating Token.similarity based on empty vectors.\n",
      "  \"__main__\", mod_spec)\n",
      "/usr/local/Cellar/python/3.7.4/Frameworks/Python.framework/Versions/3.7/lib/python3.7/runpy.py:193: UserWarning: [W008] Evaluating Token.similarity based on empty vectors.\n",
      "  \"__main__\", mod_spec)\n",
      "/usr/local/Cellar/python/3.7.4/Frameworks/Python.framework/Versions/3.7/lib/python3.7/runpy.py:193: UserWarning: [W008] Evaluating Token.similarity based on empty vectors.\n",
      "  \"__main__\", mod_spec)\n",
      "/usr/local/Cellar/python/3.7.4/Frameworks/Python.framework/Versions/3.7/lib/python3.7/runpy.py:193: UserWarning: [W008] Evaluating Token.similarity based on empty vectors.\n",
      "  \"__main__\", mod_spec)\n",
      "/usr/local/Cellar/python/3.7.4/Frameworks/Python.framework/Versions/3.7/lib/python3.7/runpy.py:193: UserWarning: [W008] Evaluating Token.similarity based on empty vectors.\n",
      "  \"__main__\", mod_spec)\n",
      "/usr/local/Cellar/python/3.7.4/Frameworks/Python.framework/Versions/3.7/lib/python3.7/runpy.py:193: UserWarning: [W008] Evaluating Token.similarity based on empty vectors.\n",
      "  \"__main__\", mod_spec)\n",
      "/usr/local/Cellar/python/3.7.4/Frameworks/Python.framework/Versions/3.7/lib/python3.7/runpy.py:193: UserWarning: [W008] Evaluating Token.similarity based on empty vectors.\n",
      "  \"__main__\", mod_spec)\n",
      "/usr/local/Cellar/python/3.7.4/Frameworks/Python.framework/Versions/3.7/lib/python3.7/runpy.py:193: UserWarning: [W008] Evaluating Token.similarity based on empty vectors.\n",
      "  \"__main__\", mod_spec)\n",
      "/usr/local/Cellar/python/3.7.4/Frameworks/Python.framework/Versions/3.7/lib/python3.7/runpy.py:193: UserWarning: [W008] Evaluating Token.similarity based on empty vectors.\n",
      "  \"__main__\", mod_spec)\n",
      "/usr/local/Cellar/python/3.7.4/Frameworks/Python.framework/Versions/3.7/lib/python3.7/runpy.py:193: UserWarning: [W008] Evaluating Token.similarity based on empty vectors.\n",
      "  \"__main__\", mod_spec)\n",
      "/usr/local/Cellar/python/3.7.4/Frameworks/Python.framework/Versions/3.7/lib/python3.7/runpy.py:193: UserWarning: [W008] Evaluating Token.similarity based on empty vectors.\n",
      "  \"__main__\", mod_spec)\n",
      "/usr/local/Cellar/python/3.7.4/Frameworks/Python.framework/Versions/3.7/lib/python3.7/runpy.py:193: UserWarning: [W008] Evaluating Token.similarity based on empty vectors.\n",
      "  \"__main__\", mod_spec)\n",
      "/usr/local/Cellar/python/3.7.4/Frameworks/Python.framework/Versions/3.7/lib/python3.7/runpy.py:193: UserWarning: [W008] Evaluating Token.similarity based on empty vectors.\n",
      "  \"__main__\", mod_spec)\n",
      "/usr/local/Cellar/python/3.7.4/Frameworks/Python.framework/Versions/3.7/lib/python3.7/runpy.py:193: UserWarning: [W008] Evaluating Token.similarity based on empty vectors.\n",
      "  \"__main__\", mod_spec)\n",
      "/usr/local/Cellar/python/3.7.4/Frameworks/Python.framework/Versions/3.7/lib/python3.7/runpy.py:193: UserWarning: [W008] Evaluating Token.similarity based on empty vectors.\n",
      "  \"__main__\", mod_spec)\n",
      "/usr/local/Cellar/python/3.7.4/Frameworks/Python.framework/Versions/3.7/lib/python3.7/runpy.py:193: UserWarning: [W008] Evaluating Token.similarity based on empty vectors.\n",
      "  \"__main__\", mod_spec)\n",
      "/usr/local/Cellar/python/3.7.4/Frameworks/Python.framework/Versions/3.7/lib/python3.7/runpy.py:193: UserWarning: [W008] Evaluating Token.similarity based on empty vectors.\n",
      "  \"__main__\", mod_spec)\n",
      "/usr/local/Cellar/python/3.7.4/Frameworks/Python.framework/Versions/3.7/lib/python3.7/runpy.py:193: UserWarning: [W008] Evaluating Token.similarity based on empty vectors.\n",
      "  \"__main__\", mod_spec)\n",
      "/usr/local/Cellar/python/3.7.4/Frameworks/Python.framework/Versions/3.7/lib/python3.7/runpy.py:193: UserWarning: [W008] Evaluating Token.similarity based on empty vectors.\n",
      "  \"__main__\", mod_spec)\n",
      "/usr/local/Cellar/python/3.7.4/Frameworks/Python.framework/Versions/3.7/lib/python3.7/runpy.py:193: UserWarning: [W008] Evaluating Token.similarity based on empty vectors.\n",
      "  \"__main__\", mod_spec)\n",
      "/usr/local/Cellar/python/3.7.4/Frameworks/Python.framework/Versions/3.7/lib/python3.7/runpy.py:193: UserWarning: [W008] Evaluating Token.similarity based on empty vectors.\n",
      "  \"__main__\", mod_spec)\n",
      "/usr/local/Cellar/python/3.7.4/Frameworks/Python.framework/Versions/3.7/lib/python3.7/runpy.py:193: UserWarning: [W008] Evaluating Token.similarity based on empty vectors.\n",
      "  \"__main__\", mod_spec)\n",
      "/usr/local/Cellar/python/3.7.4/Frameworks/Python.framework/Versions/3.7/lib/python3.7/runpy.py:193: UserWarning: [W008] Evaluating Token.similarity based on empty vectors.\n",
      "  \"__main__\", mod_spec)\n",
      "/usr/local/Cellar/python/3.7.4/Frameworks/Python.framework/Versions/3.7/lib/python3.7/runpy.py:193: UserWarning: [W008] Evaluating Token.similarity based on empty vectors.\n",
      "  \"__main__\", mod_spec)\n",
      "/usr/local/Cellar/python/3.7.4/Frameworks/Python.framework/Versions/3.7/lib/python3.7/runpy.py:193: UserWarning: [W008] Evaluating Token.similarity based on empty vectors.\n",
      "  \"__main__\", mod_spec)\n",
      "/usr/local/Cellar/python/3.7.4/Frameworks/Python.framework/Versions/3.7/lib/python3.7/runpy.py:193: UserWarning: [W008] Evaluating Token.similarity based on empty vectors.\n",
      "  \"__main__\", mod_spec)\n",
      "/usr/local/Cellar/python/3.7.4/Frameworks/Python.framework/Versions/3.7/lib/python3.7/runpy.py:193: UserWarning: [W008] Evaluating Token.similarity based on empty vectors.\n",
      "  \"__main__\", mod_spec)\n",
      "/usr/local/Cellar/python/3.7.4/Frameworks/Python.framework/Versions/3.7/lib/python3.7/runpy.py:193: UserWarning: [W008] Evaluating Token.similarity based on empty vectors.\n",
      "  \"__main__\", mod_spec)\n",
      "/usr/local/Cellar/python/3.7.4/Frameworks/Python.framework/Versions/3.7/lib/python3.7/runpy.py:193: UserWarning: [W008] Evaluating Token.similarity based on empty vectors.\n",
      "  \"__main__\", mod_spec)\n",
      "/usr/local/Cellar/python/3.7.4/Frameworks/Python.framework/Versions/3.7/lib/python3.7/runpy.py:193: UserWarning: [W008] Evaluating Token.similarity based on empty vectors.\n",
      "  \"__main__\", mod_spec)\n",
      "/usr/local/Cellar/python/3.7.4/Frameworks/Python.framework/Versions/3.7/lib/python3.7/runpy.py:193: UserWarning: [W008] Evaluating Token.similarity based on empty vectors.\n",
      "  \"__main__\", mod_spec)\n",
      "/usr/local/Cellar/python/3.7.4/Frameworks/Python.framework/Versions/3.7/lib/python3.7/runpy.py:193: UserWarning: [W008] Evaluating Token.similarity based on empty vectors.\n",
      "  \"__main__\", mod_spec)\n",
      "/usr/local/Cellar/python/3.7.4/Frameworks/Python.framework/Versions/3.7/lib/python3.7/runpy.py:193: UserWarning: [W008] Evaluating Token.similarity based on empty vectors.\n",
      "  \"__main__\", mod_spec)\n",
      "/usr/local/Cellar/python/3.7.4/Frameworks/Python.framework/Versions/3.7/lib/python3.7/runpy.py:193: UserWarning: [W008] Evaluating Token.similarity based on empty vectors.\n",
      "  \"__main__\", mod_spec)\n",
      "/usr/local/Cellar/python/3.7.4/Frameworks/Python.framework/Versions/3.7/lib/python3.7/runpy.py:193: UserWarning: [W008] Evaluating Token.similarity based on empty vectors.\n",
      "  \"__main__\", mod_spec)\n",
      "/usr/local/Cellar/python/3.7.4/Frameworks/Python.framework/Versions/3.7/lib/python3.7/runpy.py:193: UserWarning: [W008] Evaluating Token.similarity based on empty vectors.\n",
      "  \"__main__\", mod_spec)\n",
      "/usr/local/Cellar/python/3.7.4/Frameworks/Python.framework/Versions/3.7/lib/python3.7/runpy.py:193: UserWarning: [W008] Evaluating Token.similarity based on empty vectors.\n",
      "  \"__main__\", mod_spec)\n",
      "/usr/local/Cellar/python/3.7.4/Frameworks/Python.framework/Versions/3.7/lib/python3.7/runpy.py:193: UserWarning: [W008] Evaluating Token.similarity based on empty vectors.\n",
      "  \"__main__\", mod_spec)\n",
      "/usr/local/Cellar/python/3.7.4/Frameworks/Python.framework/Versions/3.7/lib/python3.7/runpy.py:193: UserWarning: [W008] Evaluating Token.similarity based on empty vectors.\n",
      "  \"__main__\", mod_spec)\n",
      "/usr/local/Cellar/python/3.7.4/Frameworks/Python.framework/Versions/3.7/lib/python3.7/runpy.py:193: UserWarning: [W008] Evaluating Token.similarity based on empty vectors.\n",
      "  \"__main__\", mod_spec)\n",
      "/usr/local/Cellar/python/3.7.4/Frameworks/Python.framework/Versions/3.7/lib/python3.7/runpy.py:193: UserWarning: [W008] Evaluating Token.similarity based on empty vectors.\n",
      "  \"__main__\", mod_spec)\n",
      "/usr/local/Cellar/python/3.7.4/Frameworks/Python.framework/Versions/3.7/lib/python3.7/runpy.py:193: UserWarning: [W008] Evaluating Token.similarity based on empty vectors.\n",
      "  \"__main__\", mod_spec)\n",
      "/usr/local/Cellar/python/3.7.4/Frameworks/Python.framework/Versions/3.7/lib/python3.7/runpy.py:193: UserWarning: [W008] Evaluating Token.similarity based on empty vectors.\n",
      "  \"__main__\", mod_spec)\n"
     ]
    },
    {
     "name": "stderr",
     "output_type": "stream",
     "text": [
      "/usr/local/Cellar/python/3.7.4/Frameworks/Python.framework/Versions/3.7/lib/python3.7/runpy.py:193: UserWarning: [W008] Evaluating Token.similarity based on empty vectors.\n",
      "  \"__main__\", mod_spec)\n",
      "/usr/local/Cellar/python/3.7.4/Frameworks/Python.framework/Versions/3.7/lib/python3.7/runpy.py:193: UserWarning: [W008] Evaluating Token.similarity based on empty vectors.\n",
      "  \"__main__\", mod_spec)\n",
      "/usr/local/Cellar/python/3.7.4/Frameworks/Python.framework/Versions/3.7/lib/python3.7/runpy.py:193: UserWarning: [W008] Evaluating Token.similarity based on empty vectors.\n",
      "  \"__main__\", mod_spec)\n",
      "/usr/local/Cellar/python/3.7.4/Frameworks/Python.framework/Versions/3.7/lib/python3.7/runpy.py:193: UserWarning: [W008] Evaluating Token.similarity based on empty vectors.\n",
      "  \"__main__\", mod_spec)\n",
      "/usr/local/Cellar/python/3.7.4/Frameworks/Python.framework/Versions/3.7/lib/python3.7/runpy.py:193: UserWarning: [W008] Evaluating Token.similarity based on empty vectors.\n",
      "  \"__main__\", mod_spec)\n",
      "/usr/local/Cellar/python/3.7.4/Frameworks/Python.framework/Versions/3.7/lib/python3.7/runpy.py:193: UserWarning: [W008] Evaluating Token.similarity based on empty vectors.\n",
      "  \"__main__\", mod_spec)\n",
      "/usr/local/Cellar/python/3.7.4/Frameworks/Python.framework/Versions/3.7/lib/python3.7/runpy.py:193: UserWarning: [W008] Evaluating Token.similarity based on empty vectors.\n",
      "  \"__main__\", mod_spec)\n",
      "/usr/local/Cellar/python/3.7.4/Frameworks/Python.framework/Versions/3.7/lib/python3.7/runpy.py:193: UserWarning: [W008] Evaluating Token.similarity based on empty vectors.\n",
      "  \"__main__\", mod_spec)\n",
      "/usr/local/Cellar/python/3.7.4/Frameworks/Python.framework/Versions/3.7/lib/python3.7/runpy.py:193: UserWarning: [W008] Evaluating Token.similarity based on empty vectors.\n",
      "  \"__main__\", mod_spec)\n"
     ]
    },
    {
     "name": "stdout",
     "output_type": "stream",
     "text": [
      "X1\n"
     ]
    },
    {
     "name": "stderr",
     "output_type": "stream",
     "text": [
      "/usr/local/Cellar/python/3.7.4/Frameworks/Python.framework/Versions/3.7/lib/python3.7/runpy.py:193: UserWarning: [W008] Evaluating Token.similarity based on empty vectors.\n",
      "  \"__main__\", mod_spec)\n",
      "/usr/local/Cellar/python/3.7.4/Frameworks/Python.framework/Versions/3.7/lib/python3.7/runpy.py:193: UserWarning: [W008] Evaluating Token.similarity based on empty vectors.\n",
      "  \"__main__\", mod_spec)\n",
      "/usr/local/Cellar/python/3.7.4/Frameworks/Python.framework/Versions/3.7/lib/python3.7/runpy.py:193: UserWarning: [W008] Evaluating Token.similarity based on empty vectors.\n",
      "  \"__main__\", mod_spec)\n",
      "/usr/local/Cellar/python/3.7.4/Frameworks/Python.framework/Versions/3.7/lib/python3.7/runpy.py:193: UserWarning: [W008] Evaluating Token.similarity based on empty vectors.\n",
      "  \"__main__\", mod_spec)\n"
     ]
    },
    {
     "name": "stdout",
     "output_type": "stream",
     "text": [
      "X2\n"
     ]
    },
    {
     "name": "stderr",
     "output_type": "stream",
     "text": [
      "/usr/local/Cellar/python/3.7.4/Frameworks/Python.framework/Versions/3.7/lib/python3.7/runpy.py:193: UserWarning: [W008] Evaluating Token.similarity based on empty vectors.\n",
      "  \"__main__\", mod_spec)\n",
      "/usr/local/Cellar/python/3.7.4/Frameworks/Python.framework/Versions/3.7/lib/python3.7/runpy.py:193: UserWarning: [W008] Evaluating Token.similarity based on empty vectors.\n",
      "  \"__main__\", mod_spec)\n",
      "/usr/local/Cellar/python/3.7.4/Frameworks/Python.framework/Versions/3.7/lib/python3.7/runpy.py:193: UserWarning: [W008] Evaluating Token.similarity based on empty vectors.\n",
      "  \"__main__\", mod_spec)\n",
      "/usr/local/Cellar/python/3.7.4/Frameworks/Python.framework/Versions/3.7/lib/python3.7/runpy.py:193: UserWarning: [W008] Evaluating Token.similarity based on empty vectors.\n",
      "  \"__main__\", mod_spec)\n",
      "/usr/local/Cellar/python/3.7.4/Frameworks/Python.framework/Versions/3.7/lib/python3.7/runpy.py:193: UserWarning: [W008] Evaluating Token.similarity based on empty vectors.\n",
      "  \"__main__\", mod_spec)\n"
     ]
    },
    {
     "name": "stdout",
     "output_type": "stream",
     "text": [
      "X3\n"
     ]
    },
    {
     "name": "stderr",
     "output_type": "stream",
     "text": [
      "/usr/local/Cellar/python/3.7.4/Frameworks/Python.framework/Versions/3.7/lib/python3.7/runpy.py:193: UserWarning: [W008] Evaluating Token.similarity based on empty vectors.\n",
      "  \"__main__\", mod_spec)\n",
      "/usr/local/Cellar/python/3.7.4/Frameworks/Python.framework/Versions/3.7/lib/python3.7/runpy.py:193: UserWarning: [W008] Evaluating Token.similarity based on empty vectors.\n",
      "  \"__main__\", mod_spec)\n",
      "/usr/local/Cellar/python/3.7.4/Frameworks/Python.framework/Versions/3.7/lib/python3.7/runpy.py:193: UserWarning: [W008] Evaluating Token.similarity based on empty vectors.\n",
      "  \"__main__\", mod_spec)\n",
      "/usr/local/Cellar/python/3.7.4/Frameworks/Python.framework/Versions/3.7/lib/python3.7/runpy.py:193: UserWarning: [W008] Evaluating Token.similarity based on empty vectors.\n",
      "  \"__main__\", mod_spec)\n",
      "/usr/local/Cellar/python/3.7.4/Frameworks/Python.framework/Versions/3.7/lib/python3.7/runpy.py:193: UserWarning: [W008] Evaluating Token.similarity based on empty vectors.\n",
      "  \"__main__\", mod_spec)\n"
     ]
    },
    {
     "name": "stdout",
     "output_type": "stream",
     "text": [
      "X4\n"
     ]
    },
    {
     "name": "stderr",
     "output_type": "stream",
     "text": [
      "/usr/local/Cellar/python/3.7.4/Frameworks/Python.framework/Versions/3.7/lib/python3.7/runpy.py:193: UserWarning: [W008] Evaluating Token.similarity based on empty vectors.\n",
      "  \"__main__\", mod_spec)\n",
      "/usr/local/Cellar/python/3.7.4/Frameworks/Python.framework/Versions/3.7/lib/python3.7/runpy.py:193: UserWarning: [W008] Evaluating Token.similarity based on empty vectors.\n",
      "  \"__main__\", mod_spec)\n",
      "/usr/local/Cellar/python/3.7.4/Frameworks/Python.framework/Versions/3.7/lib/python3.7/runpy.py:193: UserWarning: [W008] Evaluating Token.similarity based on empty vectors.\n",
      "  \"__main__\", mod_spec)\n",
      "/usr/local/Cellar/python/3.7.4/Frameworks/Python.framework/Versions/3.7/lib/python3.7/runpy.py:193: UserWarning: [W008] Evaluating Token.similarity based on empty vectors.\n",
      "  \"__main__\", mod_spec)\n"
     ]
    },
    {
     "name": "stdout",
     "output_type": "stream",
     "text": [
      "X5\n"
     ]
    },
    {
     "name": "stderr",
     "output_type": "stream",
     "text": [
      "/usr/local/Cellar/python/3.7.4/Frameworks/Python.framework/Versions/3.7/lib/python3.7/runpy.py:193: UserWarning: [W008] Evaluating Token.similarity based on empty vectors.\n",
      "  \"__main__\", mod_spec)\n",
      "/usr/local/Cellar/python/3.7.4/Frameworks/Python.framework/Versions/3.7/lib/python3.7/runpy.py:193: UserWarning: [W008] Evaluating Token.similarity based on empty vectors.\n",
      "  \"__main__\", mod_spec)\n",
      "/usr/local/Cellar/python/3.7.4/Frameworks/Python.framework/Versions/3.7/lib/python3.7/runpy.py:193: UserWarning: [W008] Evaluating Token.similarity based on empty vectors.\n",
      "  \"__main__\", mod_spec)\n",
      "/usr/local/Cellar/python/3.7.4/Frameworks/Python.framework/Versions/3.7/lib/python3.7/runpy.py:193: UserWarning: [W008] Evaluating Token.similarity based on empty vectors.\n",
      "  \"__main__\", mod_spec)\n"
     ]
    },
    {
     "name": "stdout",
     "output_type": "stream",
     "text": [
      "X6\n"
     ]
    },
    {
     "name": "stderr",
     "output_type": "stream",
     "text": [
      "/usr/local/Cellar/python/3.7.4/Frameworks/Python.framework/Versions/3.7/lib/python3.7/runpy.py:193: UserWarning: [W008] Evaluating Token.similarity based on empty vectors.\n",
      "  \"__main__\", mod_spec)\n",
      "/usr/local/Cellar/python/3.7.4/Frameworks/Python.framework/Versions/3.7/lib/python3.7/runpy.py:193: UserWarning: [W008] Evaluating Token.similarity based on empty vectors.\n",
      "  \"__main__\", mod_spec)\n",
      "/usr/local/Cellar/python/3.7.4/Frameworks/Python.framework/Versions/3.7/lib/python3.7/runpy.py:193: UserWarning: [W008] Evaluating Token.similarity based on empty vectors.\n",
      "  \"__main__\", mod_spec)\n",
      "/usr/local/Cellar/python/3.7.4/Frameworks/Python.framework/Versions/3.7/lib/python3.7/runpy.py:193: UserWarning: [W008] Evaluating Token.similarity based on empty vectors.\n",
      "  \"__main__\", mod_spec)\n"
     ]
    },
    {
     "name": "stdout",
     "output_type": "stream",
     "text": [
      "X7\n"
     ]
    },
    {
     "name": "stderr",
     "output_type": "stream",
     "text": [
      "/usr/local/Cellar/python/3.7.4/Frameworks/Python.framework/Versions/3.7/lib/python3.7/runpy.py:193: UserWarning: [W008] Evaluating Token.similarity based on empty vectors.\n",
      "  \"__main__\", mod_spec)\n",
      "/usr/local/Cellar/python/3.7.4/Frameworks/Python.framework/Versions/3.7/lib/python3.7/runpy.py:193: UserWarning: [W008] Evaluating Token.similarity based on empty vectors.\n",
      "  \"__main__\", mod_spec)\n",
      "/usr/local/Cellar/python/3.7.4/Frameworks/Python.framework/Versions/3.7/lib/python3.7/runpy.py:193: UserWarning: [W008] Evaluating Token.similarity based on empty vectors.\n",
      "  \"__main__\", mod_spec)\n",
      "/usr/local/Cellar/python/3.7.4/Frameworks/Python.framework/Versions/3.7/lib/python3.7/runpy.py:193: UserWarning: [W008] Evaluating Token.similarity based on empty vectors.\n",
      "  \"__main__\", mod_spec)\n"
     ]
    },
    {
     "name": "stdout",
     "output_type": "stream",
     "text": [
      "X8\n"
     ]
    },
    {
     "name": "stderr",
     "output_type": "stream",
     "text": [
      "/usr/local/Cellar/python/3.7.4/Frameworks/Python.framework/Versions/3.7/lib/python3.7/runpy.py:193: UserWarning: [W008] Evaluating Token.similarity based on empty vectors.\n",
      "  \"__main__\", mod_spec)\n",
      "/usr/local/Cellar/python/3.7.4/Frameworks/Python.framework/Versions/3.7/lib/python3.7/runpy.py:193: UserWarning: [W008] Evaluating Token.similarity based on empty vectors.\n",
      "  \"__main__\", mod_spec)\n",
      "/usr/local/Cellar/python/3.7.4/Frameworks/Python.framework/Versions/3.7/lib/python3.7/runpy.py:193: UserWarning: [W008] Evaluating Token.similarity based on empty vectors.\n",
      "  \"__main__\", mod_spec)\n",
      "/usr/local/Cellar/python/3.7.4/Frameworks/Python.framework/Versions/3.7/lib/python3.7/runpy.py:193: UserWarning: [W008] Evaluating Token.similarity based on empty vectors.\n",
      "  \"__main__\", mod_spec)\n"
     ]
    },
    {
     "name": "stdout",
     "output_type": "stream",
     "text": [
      "X9\n"
     ]
    },
    {
     "name": "stderr",
     "output_type": "stream",
     "text": [
      "/usr/local/Cellar/python/3.7.4/Frameworks/Python.framework/Versions/3.7/lib/python3.7/runpy.py:193: UserWarning: [W008] Evaluating Token.similarity based on empty vectors.\n",
      "  \"__main__\", mod_spec)\n",
      "/usr/local/Cellar/python/3.7.4/Frameworks/Python.framework/Versions/3.7/lib/python3.7/runpy.py:193: UserWarning: [W008] Evaluating Token.similarity based on empty vectors.\n",
      "  \"__main__\", mod_spec)\n",
      "/usr/local/Cellar/python/3.7.4/Frameworks/Python.framework/Versions/3.7/lib/python3.7/runpy.py:193: UserWarning: [W008] Evaluating Token.similarity based on empty vectors.\n",
      "  \"__main__\", mod_spec)\n",
      "/usr/local/Cellar/python/3.7.4/Frameworks/Python.framework/Versions/3.7/lib/python3.7/runpy.py:193: UserWarning: [W008] Evaluating Token.similarity based on empty vectors.\n",
      "  \"__main__\", mod_spec)\n",
      "/usr/local/Cellar/python/3.7.4/Frameworks/Python.framework/Versions/3.7/lib/python3.7/runpy.py:193: UserWarning: [W008] Evaluating Token.similarity based on empty vectors.\n",
      "  \"__main__\", mod_spec)\n"
     ]
    },
    {
     "name": "stdout",
     "output_type": "stream",
     "text": [
      "X10\n"
     ]
    },
    {
     "name": "stderr",
     "output_type": "stream",
     "text": [
      "/usr/local/Cellar/python/3.7.4/Frameworks/Python.framework/Versions/3.7/lib/python3.7/runpy.py:193: UserWarning: [W008] Evaluating Token.similarity based on empty vectors.\n",
      "  \"__main__\", mod_spec)\n",
      "/usr/local/Cellar/python/3.7.4/Frameworks/Python.framework/Versions/3.7/lib/python3.7/runpy.py:193: UserWarning: [W008] Evaluating Token.similarity based on empty vectors.\n",
      "  \"__main__\", mod_spec)\n",
      "/usr/local/Cellar/python/3.7.4/Frameworks/Python.framework/Versions/3.7/lib/python3.7/runpy.py:193: UserWarning: [W008] Evaluating Token.similarity based on empty vectors.\n",
      "  \"__main__\", mod_spec)\n"
     ]
    },
    {
     "name": "stdout",
     "output_type": "stream",
     "text": [
      "X11\n"
     ]
    },
    {
     "name": "stderr",
     "output_type": "stream",
     "text": [
      "/usr/local/Cellar/python/3.7.4/Frameworks/Python.framework/Versions/3.7/lib/python3.7/runpy.py:193: UserWarning: [W008] Evaluating Token.similarity based on empty vectors.\n",
      "  \"__main__\", mod_spec)\n",
      "/usr/local/Cellar/python/3.7.4/Frameworks/Python.framework/Versions/3.7/lib/python3.7/runpy.py:193: UserWarning: [W008] Evaluating Token.similarity based on empty vectors.\n",
      "  \"__main__\", mod_spec)\n",
      "/usr/local/Cellar/python/3.7.4/Frameworks/Python.framework/Versions/3.7/lib/python3.7/runpy.py:193: UserWarning: [W008] Evaluating Token.similarity based on empty vectors.\n",
      "  \"__main__\", mod_spec)\n"
     ]
    },
    {
     "name": "stdout",
     "output_type": "stream",
     "text": [
      "X12\n"
     ]
    },
    {
     "name": "stderr",
     "output_type": "stream",
     "text": [
      "/usr/local/Cellar/python/3.7.4/Frameworks/Python.framework/Versions/3.7/lib/python3.7/runpy.py:193: UserWarning: [W008] Evaluating Token.similarity based on empty vectors.\n",
      "  \"__main__\", mod_spec)\n",
      "/usr/local/Cellar/python/3.7.4/Frameworks/Python.framework/Versions/3.7/lib/python3.7/runpy.py:193: UserWarning: [W008] Evaluating Token.similarity based on empty vectors.\n",
      "  \"__main__\", mod_spec)\n",
      "/usr/local/Cellar/python/3.7.4/Frameworks/Python.framework/Versions/3.7/lib/python3.7/runpy.py:193: UserWarning: [W008] Evaluating Token.similarity based on empty vectors.\n",
      "  \"__main__\", mod_spec)\n"
     ]
    },
    {
     "name": "stdout",
     "output_type": "stream",
     "text": [
      "X13\n",
      "X14\n"
     ]
    },
    {
     "name": "stderr",
     "output_type": "stream",
     "text": [
      "/usr/local/Cellar/python/3.7.4/Frameworks/Python.framework/Versions/3.7/lib/python3.7/runpy.py:193: UserWarning: [W008] Evaluating Token.similarity based on empty vectors.\n",
      "  \"__main__\", mod_spec)\n",
      "/usr/local/Cellar/python/3.7.4/Frameworks/Python.framework/Versions/3.7/lib/python3.7/runpy.py:193: UserWarning: [W008] Evaluating Token.similarity based on empty vectors.\n",
      "  \"__main__\", mod_spec)\n"
     ]
    },
    {
     "name": "stdout",
     "output_type": "stream",
     "text": [
      "X15\n"
     ]
    },
    {
     "name": "stderr",
     "output_type": "stream",
     "text": [
      "/usr/local/Cellar/python/3.7.4/Frameworks/Python.framework/Versions/3.7/lib/python3.7/runpy.py:193: UserWarning: [W008] Evaluating Token.similarity based on empty vectors.\n",
      "  \"__main__\", mod_spec)\n",
      "/usr/local/Cellar/python/3.7.4/Frameworks/Python.framework/Versions/3.7/lib/python3.7/runpy.py:193: UserWarning: [W008] Evaluating Token.similarity based on empty vectors.\n",
      "  \"__main__\", mod_spec)\n"
     ]
    }
   ],
   "source": [
    "coref_dict = getCorefDict(sentence_dict, cluster_head_dict,0.5)"
   ]
  },
  {
   "cell_type": "code",
   "execution_count": null,
   "metadata": {},
   "outputs": [],
   "source": []
  },
  {
   "cell_type": "code",
   "execution_count": null,
   "metadata": {},
   "outputs": [],
   "source": []
  },
  {
   "cell_type": "code",
   "execution_count": null,
   "metadata": {},
   "outputs": [],
   "source": []
  },
  {
   "cell_type": "code",
   "execution_count": null,
   "metadata": {},
   "outputs": [],
   "source": []
  },
  {
   "cell_type": "code",
   "execution_count": null,
   "metadata": {},
   "outputs": [],
   "source": []
  },
  {
   "cell_type": "code",
   "execution_count": 157,
   "metadata": {
    "scrolled": true
   },
   "outputs": [
    {
     "data": {
      "text/plain": [
       "{'X2': ['NORTHROP GRUMMAN F-14S',\n",
       "  10,\n",
       "  its Northrop Grumman Corp. F-14s,\n",
       "  0.6381004,\n",
       "  ['NORTHROP GRUMMAN F-14S', 29, now Northrop Grumman, 0.74871886],\n",
       "  ['NORTHROP GRUMMAN F-14S', 33, Northrop Grumman shares, 0.6855497]],\n",
       " 'X4': ['Navy',\n",
       "  12,\n",
       "  the Navy,\n",
       "  0.8559929,\n",
       "  ['Navy', 16, the Navy, 0.8559929],\n",
       "  ['Navy', 17, the Navy, 0.8559929],\n",
       "  ['Navy', 19, Oceana Naval Air Station, 0.5122978],\n",
       "  ['Navy', 20, the Navy's first-line fighter aircraft, 0.55538195],\n",
       "  ['Navy', 22, The Navy, 0.8559929],\n",
       "  ['Navy', 26, The Navy, 0.8559929],\n",
       "  ['Navy', 27, Navy jet fighter aircraft, 0.64572954],\n",
       "  ['Navy', 30, the Navy, 0.8559929],\n",
       "  ['Navy', 31, the Navy, 0.8559929],\n",
       "  ['Navy', 32, Naval Operations, 0.5237841]],\n",
       " 'X5': ['three days',\n",
       "  10,\n",
       "  three recent F-14 crashes,\n",
       "  0.62302005,\n",
       "  ['three days', 12, The two crew members, 0.7305959],\n",
       "  ['three days', 13, its two crew members, 0.7194855],\n",
       "  ['three days', 14, three people, 0.8329172],\n",
       "  ['three days', 16, the recent mishaps, 0.5386264],\n",
       "  ['three days', 18, A one-time exception, 0.5671189],\n",
       "  ['three days', 19, Those planes, 0.54205734],\n",
       "  ['three days', 20, the Navy's first-line fighter aircraft, 0.51009136],\n",
       "  ['three days', 21, two-engines, 0.57301563],\n",
       "  ['three days', 22, three models, 0.7293873],\n",
       "  ['three days', 28, several upgrades, 0.59576213],\n",
       "  ['three days', 29, The planes, 0.5117084],\n",
       "  ['three days', 32, three days, 0.83586484]],\n",
       " 'X6': ['Persian Gulf', 18, the Persian Gulf, 0.7416064],\n",
       " 'X7': ['a 72-hour safety standdown',\n",
       "  16,\n",
       "  a Navy spokesman,\n",
       "  0.6026019,\n",
       "  ['a 72-hour safety standdown', 18, A one-time exception, 0.7568738],\n",
       "  ['a 72-hour safety standdown',\n",
       "   20,\n",
       "   the Navy's first-line fighter aircraft,\n",
       "   0.52395993],\n",
       "  ['a 72-hour safety standdown', 24, The A model, 0.79614365],\n",
       "  ['a 72-hour safety standdown', 27, That figure, 0.55796033],\n",
       "  ['a 72-hour safety standdown', 30, The company, 0.5530651],\n",
       "  ['a 72-hour safety standdown', 32, the three recent crashes, 0.5092781]],\n",
       " 'X9': ['the F-14',\n",
       "  17,\n",
       "  the available information,\n",
       "  0.6948698,\n",
       "  ['the F-14', 18, the United States, 0.6842698],\n",
       "  ['the F-14', 19, the ship, 0.7264917],\n",
       "  ['the F-14', 20, the Navy's first-line fighter aircraft, 0.6267533],\n",
       "  ['the F-14', 22, The Navy, 0.64730865],\n",
       "  ['the F-14', 23, The models, 0.68059283],\n",
       "  ['the F-14', 24, The A model, 0.7573177],\n",
       "  ['the F-14', 25, The B and D models, 0.6063524],\n",
       "  ['the F-14', 26, The Navy, 0.64730865],\n",
       "  ['the F-14', 27, That figure, 0.6121378],\n",
       "  ['the F-14', 28, the fleet, 0.6786438],\n",
       "  ['the F-14', 29, The planes, 0.6712059],\n",
       "  ['the F-14', 30, The company, 0.78105384],\n",
       "  ['the F-14', 31, the Navy, 0.64730865],\n",
       "  ['the F-14', 32, the data, 0.7216588]],\n",
       " 'X11': ['Pratt @amp; Whitney', 32, Mike Boorda, 0.55818117],\n",
       " 'X13': ['the mid 1970s',\n",
       "  28,\n",
       "  the fleet,\n",
       "  0.6786438,\n",
       "  ['the mid 1970s', 29, The planes, 0.6712059],\n",
       "  ['the mid 1970s', 30, The company, 0.78105384],\n",
       "  ['the mid 1970s', 31, the Navy, 0.64730865],\n",
       "  ['the mid 1970s', 32, the data, 0.7216588]],\n",
       " 'X14': ['Grumman Corp.',\n",
       "  29,\n",
       "  now Northrop Grumman,\n",
       "  0.7732813,\n",
       "  ['Grumman Corp.', 33, Northrop Grumman shares, 0.7740789]],\n",
       " 'X15': ['Northrop Grumman spokesman John Vosilla',\n",
       "  33,\n",
       "  Northrop Grumman shares,\n",
       "  0.6855497]}"
      ]
     },
     "execution_count": 157,
     "metadata": {},
     "output_type": "execute_result"
    }
   ],
   "source": [
    "coref_dict"
   ]
  },
  {
   "cell_type": "code",
   "execution_count": 100,
   "metadata": {
    "scrolled": true
   },
   "outputs": [
    {
     "data": {
      "text/plain": [
       "{'X2': [['NORTHROP GRUMMAN F-14S',\n",
       "   10,\n",
       "   its Northrop Grumman Corp. F-14s,\n",
       "   0.6381004],\n",
       "  ['NORTHROP GRUMMAN F-14S', 29, now Northrop Grumman, 0.74871886],\n",
       "  ['NORTHROP GRUMMAN F-14S', 33, Northrop Grumman shares, 0.6855497]],\n",
       " 'X4': [['Navy', 12, the Navy, 0.8559929],\n",
       "  ['Navy', 16, the Navy, 0.8559929],\n",
       "  ['Navy', 16, all F-14 aircraft, 0.50042427],\n",
       "  ['Navy', 16, a Navy spokesman, 0.7121709],\n",
       "  ['Navy', 17, the Navy, 0.8559929],\n",
       "  ['Navy', 19, Oceana Naval Air Station, 0.5122978],\n",
       "  ['Navy', 20, the Navy's first-line fighter aircraft, 0.55538195],\n",
       "  ['Navy', 22, The Navy, 0.8559929],\n",
       "  ['Navy', 26, The Navy, 0.8559929],\n",
       "  ['Navy', 27, Navy jet fighter aircraft, 0.64572954],\n",
       "  ['Navy', 30, the Navy, 0.8559929],\n",
       "  ['Navy', 31, the Navy, 0.8559929],\n",
       "  ['Navy', 32, Naval Operations, 0.5237841]],\n",
       " 'X5': [['three days', 10, three recent F-14 crashes, 0.62302005],\n",
       "  ['three days', 12, The two crew members, 0.7305959],\n",
       "  ['three days', 13, its two crew members, 0.7194855],\n",
       "  ['three days', 14, the two crew members, 0.7305959],\n",
       "  ['three days', 14, three people, 0.8329172],\n",
       "  ['three days', 14, the ground, 0.54662293],\n",
       "  ['three days', 16, the recent mishaps, 0.5386264],\n",
       "  ['three days', 18, A one-time exception, 0.5671189],\n",
       "  ['three days', 18, the United States, 0.5000071],\n",
       "  ['three days', 19, Those planes, 0.54205734],\n",
       "  ['three days', 20, the Navy's first-line fighter aircraft, 0.51009136],\n",
       "  ['three days', 21, two-engines, 0.57301563],\n",
       "  ['three days', 22, three models, 0.7293873],\n",
       "  ['three days', 28, several upgrades, 0.59576213],\n",
       "  ['three days', 29, The planes, 0.5117084],\n",
       "  ['three days', 32, the three recent crashes, 0.7536671],\n",
       "  ['three days', 32, their findings, 0.5259795],\n",
       "  ['three days', 32, three days, 0.83586484]],\n",
       " 'X6': [['Persian Gulf', 18, the Persian Gulf, 0.7416064]],\n",
       " 'X7': [['a 72-hour safety standdown', 16, a Navy spokesman, 0.6026019],\n",
       "  ['a 72-hour safety standdown', 18, A one-time exception, 0.7568738],\n",
       "  ['a 72-hour safety standdown',\n",
       "   20,\n",
       "   the Navy's first-line fighter aircraft,\n",
       "   0.52395993],\n",
       "  ['a 72-hour safety standdown', 24, The A model, 0.79614365],\n",
       "  ['a 72-hour safety standdown', 24, a unit, 0.78662175],\n",
       "  ['a 72-hour safety standdown', 27, That figure, 0.55796033],\n",
       "  ['a 72-hour safety standdown', 30, The company, 0.5530651],\n",
       "  ['a 72-hour safety standdown', 32, the three recent crashes, 0.5092781]],\n",
       " 'X9': [['the F-14', 17, the available information, 0.6948698],\n",
       "  ['the F-14', 17, procedural or other modifications, 0.53367496],\n",
       "  ['the F-14', 17, the Navy, 0.64730865],\n",
       "  ['the F-14', 18, A one-time exception, 0.6506807],\n",
       "  ['the F-14', 18, the United States, 0.6842698],\n",
       "  ['the F-14', 19, the ship, 0.7264917],\n",
       "  ['the F-14', 20, the Navy's first-line fighter aircraft, 0.6267533],\n",
       "  ['the F-14', 22, The Navy, 0.64730865],\n",
       "  ['the F-14', 23, The models, 0.68059283],\n",
       "  ['the F-14', 24, The A model, 0.7573177],\n",
       "  ['the F-14', 24, a unit, 0.5523068],\n",
       "  ['the F-14', 25, The B and D models, 0.6063524],\n",
       "  ['the F-14', 26, The Navy, 0.64730865],\n",
       "  ['the F-14', 27, That figure, 0.6121378],\n",
       "  ['the F-14', 28, The aircraft, 0.6449069],\n",
       "  ['the F-14', 28, the fleet, 0.6786438],\n",
       "  ['the F-14', 29, The planes, 0.6712059],\n",
       "  ['the F-14', 30, The company, 0.78105384],\n",
       "  ['the F-14', 30, the Navy, 0.64730865],\n",
       "  ['the F-14', 31, all questions, 0.5124122],\n",
       "  ['the F-14', 31, today's crash, 0.5274183],\n",
       "  ['the F-14', 31, the Navy, 0.64730865],\n",
       "  ['the F-14', 32, the data, 0.7216588],\n",
       "  ['the F-14', 32, the three recent crashes, 0.7094414],\n",
       "  ['the F-14', 32, their findings, 0.5761981],\n",
       "  ['the F-14', 32, the Chief, 0.7170783]],\n",
       " 'X11': [['Pratt @amp; Whitney', 32, Mike Boorda, 0.55818117]],\n",
       " 'X13': [['the mid 1970s', 28, The aircraft, 0.6449069],\n",
       "  ['the mid 1970s', 28, the fleet, 0.6786438],\n",
       "  ['the mid 1970s', 29, The planes, 0.6712059],\n",
       "  ['the mid 1970s', 30, The company, 0.78105384],\n",
       "  ['the mid 1970s', 30, the Navy, 0.64730865],\n",
       "  ['the mid 1970s', 31, all questions, 0.5124122],\n",
       "  ['the mid 1970s', 31, today's crash, 0.5274183],\n",
       "  ['the mid 1970s', 31, the Navy, 0.64730865],\n",
       "  ['the mid 1970s', 32, the data, 0.7216588],\n",
       "  ['the mid 1970s', 32, the three recent crashes, 0.7094414],\n",
       "  ['the mid 1970s', 32, their findings, 0.5761981],\n",
       "  ['the mid 1970s', 32, the Chief, 0.7170783]],\n",
       " 'X14': [['Grumman Corp.', 29, now Northrop Grumman, 0.7732813],\n",
       "  ['Grumman Corp.', 33, Northrop Grumman shares, 0.7740789]],\n",
       " 'X15': [['Northrop Grumman spokesman John Vosilla',\n",
       "   33,\n",
       "   Northrop Grumman shares,\n",
       "   0.6855497]]}"
      ]
     },
     "execution_count": 100,
     "metadata": {},
     "output_type": "execute_result"
    }
   ],
   "source": [
    "coref_dict"
   ]
  },
  {
   "cell_type": "code",
   "execution_count": 91,
   "metadata": {
    "scrolled": true
   },
   "outputs": [
    {
     "data": {
      "text/plain": [
       "{'X0': [[5, BC-F14-CRASHES-BLOOM], [10, three recent F-14 crashes]],\n",
       " 'X1': [[34, NYT-02-22-96 1221EST]],\n",
       " 'X2': [[13, an F-14D],\n",
       "  [14, an F-14A],\n",
       "  [17, all F-14s],\n",
       "  [29, Northrop Grumman],\n",
       "  [33, Northrop Grumman shares]],\n",
       " 'X4': [[12, the Navy],\n",
       "  [16, the Navy],\n",
       "  [17, the Navy],\n",
       "  [20, the Navy's first-line fighter aircraft],\n",
       "  [22, The Navy],\n",
       "  [26, The Navy],\n",
       "  [27, Navy jet fighter aircraft],\n",
       "  [30, the Navy],\n",
       "  [31, the Navy]],\n",
       " 'X5': [[32, three days]],\n",
       " 'X6': [[18, the Persian Gulf]],\n",
       " 'X7': [[18, the standdown]],\n",
       " 'X8': [[18, Geisen], [27, Geisen], [28, Geisen], [32, Geisen]],\n",
       " 'X9': [[20, The F14]],\n",
       " 'X15': [[33, Northrop Grumman shares]]}"
      ]
     },
     "execution_count": 91,
     "metadata": {},
     "output_type": "execute_result"
    }
   ],
   "source": [
    "coref_dict"
   ]
  },
  {
   "cell_type": "code",
   "execution_count": 52,
   "metadata": {},
   "outputs": [],
   "source": [
    "reader_o = ReadInput(key_path)\n",
    "ans = reader_o.getListOfSentences()"
   ]
  },
  {
   "cell_type": "code",
   "execution_count": 53,
   "metadata": {
    "scrolled": true
   },
   "outputs": [
    {
     "data": {
      "text/plain": [
       "['<COREF ID=\"X0\">F14-CRASHES</COREF>\\n',\n",
       " '{5} {F14-CRASHES} {CRASHES}\\n',\n",
       " '{6} {ACCIDENTS} {ACCIDENTS}\\n',\n",
       " '{10} {three recent F-14 crashes} {crashes}\\n',\n",
       " '{16} {the recent mishaps involving F-14As and Ds} {mishaps}\\n',\n",
       " '{17} {these mishaps} {mishaps}\\n',\n",
       " '{32} {the three recent crashes} {crashes}\\n',\n",
       " '\\n',\n",
       " '<COREF ID=\"X1\">02-22</COREF>\\n',\n",
       " '{10} {Feb. 22} {Feb. 22}\\n',\n",
       " '{11} {today} {today}\\n',\n",
       " '{34} {02-22-96} {02-22-96}\\n',\n",
       " '\\n',\n",
       " '<COREF ID=\"X2\">NORTHROP GRUMMAN F-14S</COREF>\\n',\n",
       " '{10} {its Northrop Grumman Corp. F-14s} {F-14s}\\n',\n",
       " '{16} {all F-14 aircraft} {F-14 aircraft}\\n',\n",
       " '{17} {all F-14s} {F-14s}\\n',\n",
       " '{22} {about 330 F-14s} {F-14s}\\n',\n",
       " '{29} {The planes} {planes}\\n',\n",
       " '\\n',\n",
       " '<COREF ID=\"X3\">Bloomberg Business News</COREF>\\n',\n",
       " '{10} {Bloomberg} {Bloomberg}\\n',\n",
       " '\\n',\n",
       " '<COREF ID=\"X4\">Navy</COREF>\\n',\n",
       " '{10} {it} {it}\\n',\n",
       " '{12} {Navy} {Navy}\\n',\n",
       " '{16} {Navy} {Navy}\\n',\n",
       " '{17} {Navy} {Navy}\\n',\n",
       " '{22} {Navy} {Navy}\\n',\n",
       " '{26} {Navy} {Navy}\\n',\n",
       " '{27} {Navy} {Navy}\\n',\n",
       " '{30} {Navy} {Navy}\\n',\n",
       " '{31} {Navy} {Navy}\\n',\n",
       " '\\n',\n",
       " '<COREF ID=\"X5\">three days</COREF>\\n',\n",
       " '{32} {three days} {days}\\n',\n",
       " '\\n',\n",
       " '<COREF ID=\"X6\">Persian Gulf</COREF>\\n',\n",
       " '{18} {Persian Gulf} {Persian Gulf}\\n',\n",
       " '\\n',\n",
       " '<COREF ID=\"X7\">a 72-hour safety standdown</COREF>\\n',\n",
       " '{18} {the standdown} {standdown}\\n',\n",
       " '\\n',\n",
       " '<COREF ID=\"X8\">Lt. Greg Geisen</COREF>\\n',\n",
       " '{16} {a Navy spokesman} {spokesman}\\n',\n",
       " '{18} {Geisen} {Geisen}\\n',\n",
       " '{27} {Geisen} {Geisen}\\n',\n",
       " '{28} {Geisen} {Geisen}\\n',\n",
       " '{32} {Geisen} {Geisen}\\n',\n",
       " '\\n',\n",
       " '<COREF ID=\"X9\">the F-14</COREF>\\n',\n",
       " '{17} {F-14} {F-14}\\n',\n",
       " \"{20} {The F14 ``Tomcat''} {F14|``Tomcat''}\\n\",\n",
       " \"{20} {the Navy's first-line fighter aircraft} {aircraft}\\n\",\n",
       " '{21} {It} {It}\\n',\n",
       " '{28} {The aircraft} {aircraft}\\n',\n",
       " '\\n',\n",
       " '<COREF ID=\"X10\">14 F-14s on board the USS America</COREF>\\n',\n",
       " '{19} {Those planes} {planes}\\n',\n",
       " '\\n',\n",
       " '<COREF ID=\"X11\">Pratt @amp; Whitney</COREF>\\n',\n",
       " '{24} {a unit of United Technologies Corp} {unit}\\n',\n",
       " '\\n',\n",
       " '<COREF ID=\"X12\">F-14 32 crashes since 1991</COREF>\\n',\n",
       " '{27} {That figure} {figure}\\n',\n",
       " '\\n',\n",
       " '<COREF ID=\"X13\">the mid 1970s</COREF>\\n',\n",
       " '{28} {then} {then}\\n',\n",
       " '\\n',\n",
       " '<COREF ID=\"X14\">Grumman Corp.</COREF>\\n',\n",
       " '{29} {now Northrop Grumman} {Northrop Grumman}\\n',\n",
       " '{30} {The company} {company}\\n',\n",
       " '{33} {Northrop Grumman} {Northrop Grumman}\\n',\n",
       " '\\n',\n",
       " '<COREF ID=\"X15\">Northrop Grumman spokesman John Vosilla</COREF>\\n',\n",
       " '{31} {He} {He}\\n']"
      ]
     },
     "execution_count": 53,
     "metadata": {},
     "output_type": "execute_result"
    }
   ],
   "source": [
    "ans"
   ]
  },
  {
   "cell_type": "code",
   "execution_count": null,
   "metadata": {},
   "outputs": [],
   "source": []
  }
 ],
 "metadata": {
  "kernelspec": {
   "display_name": "Python 3",
   "language": "python",
   "name": "python3"
  },
  "language_info": {
   "codemirror_mode": {
    "name": "ipython",
    "version": 3
   },
   "file_extension": ".py",
   "mimetype": "text/x-python",
   "name": "python",
   "nbconvert_exporter": "python",
   "pygments_lexer": "ipython3",
   "version": "3.7.4"
  }
 },
 "nbformat": 4,
 "nbformat_minor": 2
}
