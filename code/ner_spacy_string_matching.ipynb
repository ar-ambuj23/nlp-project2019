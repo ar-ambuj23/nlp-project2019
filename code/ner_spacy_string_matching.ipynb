{
 "cells": [
  {
   "cell_type": "code",
   "execution_count": 1,
   "metadata": {},
   "outputs": [],
   "source": [
    "from coref import *"
   ]
  },
  {
   "cell_type": "code",
   "execution_count": 2,
   "metadata": {},
   "outputs": [],
   "source": [
    "list_of_sentences  = getText('/Users/ambuj/Documents/MS Stuff/nlp_cs_6340/final_project/nlp-project2019/dev/a8.input')\n",
    "\n",
    "sentence_dict = getSentenceDict(list_of_sentences)\n",
    "\n",
    "cluster_head_dict = getClusterHeads(sentence_dict)"
   ]
  },
  {
   "cell_type": "code",
   "execution_count": 3,
   "metadata": {
    "scrolled": true
   },
   "outputs": [
    {
     "data": {
      "text/plain": [
       "{'0': 'nyt960214.0765',\n",
       " '1': 'A4505',\n",
       " '2': 'BC-<COREF ID=\"X0\">PANTEX</COREF>-<COREF ID=\"X1\">FLIGHTS</COREF>-TEX',\n",
       " '3': '<COREF ID=\"X2\">02-14</COREF>',\n",
       " '4': '0535',\n",
       " '5': 'BC-PANTEX-FLIGHTS-TEX',\n",
       " '6': '<COREF ID=\"X3\">FAA</COREF> UNDERESTIMATED <COREF ID=\"X4\">NUMBER OF FLIGHTS</COREF> OVER <COREF ID=\"X5\">PLUTONIUM</COREF> STORAGE AREA IN',\n",
       " '7': 'PANHANDLE',\n",
       " '8': '(For use by NYTimes News Service clients)',\n",
       " '9': 'By HOLLACE WEINER',\n",
       " '10': 'c.<COREF ID=\"X6\">1996</COREF> Fort Worth Star-Telegram',\n",
       " '11': 'The Federal Aviation Administration underestimated the number of aircraft flying over the Pantex Weapons Plant outside <COREF ID=\"X7\">Amarillo</COREF>, <COREF ID=\"X8\">Texas</COREF>, where much of the nation\\'s surplus plutonium is stored, according to computerized studies under way by the <COREF ID=\"X9\">Energy Department</COREF>.',\n",
       " '12': 'The FAA counted <COREF ID=\"X10\">each flight</COREF> at <COREF ID=\"X11\">Amarillo International Airport</COREF> once.',\n",
       " '13': 'But <COREF ID=\"X12\">military training planes</COREF> make up to 30 passes per flight over the plant, according to the <COREF ID=\"X13\">Defense Nuclear Facilities Safety Board</COREF>.',\n",
       " '14': 'The secretary of Energy and local farmers have expressed concern that a plane crash into a plutonium storage bunker at Pantex could spread radioactive smoke for miles.',\n",
       " '15': 'Plutonium, a highly radioactive element, causes cancer if inhaled.',\n",
       " '16': '<COREF ID=\"X14\">The risk of that scenario</COREF>, previously estimated at one chance in 10 million, is expected to increase when current flight data are analyzed later this year, according to a safety board memo dated May 2.',\n",
       " '17': '``This doesn\\'t surprise <COREF ID=\"X15\">me</COREF> at all,\\'\\' said Trish Neusch, who farms <COREF ID=\"X16\">land near the plant</COREF> 17 miles northeast of Amarillo and 7 miles from the airport.',\n",
       " '18': \"``We are out there and see these planes all the time.''\",\n",
       " '19': '<COREF ID=\"X17\">Mike McNulty</COREF>, the FAA air traffic manager at Amarillo International, said <COREF ID=\"X18\">the previous aircraft count</COREF>, conducted in late 1994, was a ``manual count on a pad,\\'\\' done informally by <COREF ID=\"X19\">air traffic controllers</COREF>.',\n",
       " '20': 'That 60-day accounting estimated that 25 planes a day entered <COREF ID=\"X20\">flight patterns</COREF> over the zone where plutonium is stored in concrete bunkers covered with earth and grass.',\n",
       " '21': 'Pantex is operated by the Energy Department through a private contractor and employs 3,600 workers, whose main mission is to dismantle nuclear warheads.',\n",
       " '22': 'The hollow plutonium ball at the core of each weapon is stored at the former weapons assembly plant.',\n",
       " '23': 'The Amarillo airport averages 250 takeoffs and landings per day, McNulty said.',\n",
       " '24': '<COREF ID=\"X21\">About half the aircraft</COREF> are military planes assigned to Air Force bases in Texas, <COREF ID=\"X22\">Oklahoma</COREF>, Kansas and New Mexico, he said.',\n",
       " '25': 'About 25 percent of the airport traffic enters a flight pattern over the <COREF ID=\"X23\">plutonium storage bunkers</COREF>, McNulty said.',\n",
       " '26': 'For the past 14 months, air traffic controllers have tried to steer planes away from the bunkers, he said.',\n",
       " '27': \"Two of the airport's dozen flight paths are directly above the nuclear storage area, McNulty said.\",\n",
       " '28': 'One approach will be eliminated by late summer or early fall when a new instrument landing system is installed, he said.',\n",
       " '29': 'The second flight path cannot be altered until <COREF ID=\"X24\">sophisticated equipment</COREF>, called VORTAC, is phased out at Dallas/Fort Worth Airport and installed in Amarillo, he said.',\n",
       " '30': 'There is no target date for the transition.',\n",
       " '31': 'McNulty downplayed the dangers posed by <COREF ID=\"X25\">some military traffic</COREF> by noting that these planes often fly at high altitudes and stay 2 to 8 miles from the plutonium area.',\n",
       " '32': '``<COREF ID=\"X26\">They</COREF> are counting something at 35,000 as well as 500 feet, when in actuality a plane would have to start falling in Oklahoma to hit the plant,\\'\\' McNulty said.',\n",
       " '33': \"``They are just collecting a lot of raw data.''\",\n",
       " '34': 'NYT-02-14-96 2111EST'}"
      ]
     },
     "execution_count": 3,
     "metadata": {},
     "output_type": "execute_result"
    }
   ],
   "source": [
    "sentence_dict"
   ]
  },
  {
   "cell_type": "code",
   "execution_count": 4,
   "metadata": {},
   "outputs": [
    {
     "data": {
      "text/plain": [
       "{'X0': ['2', 'PANTEX'],\n",
       " 'X1': ['2', 'FLIGHTS'],\n",
       " 'X2': ['3', '02-14'],\n",
       " 'X3': ['6', 'FAA'],\n",
       " 'X4': ['6', 'NUMBER OF FLIGHTS'],\n",
       " 'X5': ['6', 'PLUTONIUM'],\n",
       " 'X6': ['10', '1996'],\n",
       " 'X7': ['11', 'Amarillo'],\n",
       " 'X8': ['11', 'Texas'],\n",
       " 'X9': ['11', 'Energy Department'],\n",
       " 'X10': ['12', 'each flight'],\n",
       " 'X11': ['12', 'Amarillo International Airport'],\n",
       " 'X12': ['13', 'military training planes'],\n",
       " 'X13': ['13', 'Defense Nuclear Facilities Safety Board'],\n",
       " 'X14': ['16', 'The risk of that scenario'],\n",
       " 'X15': ['17', 'me'],\n",
       " 'X16': ['17', 'land near the plant'],\n",
       " 'X17': ['19', 'Mike McNulty'],\n",
       " 'X18': ['19', 'the previous aircraft count'],\n",
       " 'X19': ['19', 'air traffic controllers'],\n",
       " 'X20': ['20', 'flight patterns'],\n",
       " 'X21': ['24', 'About half the aircraft'],\n",
       " 'X22': ['24', 'Oklahoma'],\n",
       " 'X23': ['25', 'plutonium storage bunkers'],\n",
       " 'X24': ['29', 'sophisticated equipment'],\n",
       " 'X25': ['31', 'some military traffic'],\n",
       " 'X26': ['32', 'They']}"
      ]
     },
     "execution_count": 4,
     "metadata": {},
     "output_type": "execute_result"
    }
   ],
   "source": [
    "cluster_head_dict"
   ]
  },
  {
   "cell_type": "code",
   "execution_count": 119,
   "metadata": {},
   "outputs": [],
   "source": [
    "full_text  = getText('/Users/ambuj/Documents/MS Stuff/nlp_cs_6340/final_project/nlp-project2019/dev/a8.input')"
   ]
  },
  {
   "cell_type": "code",
   "execution_count": 120,
   "metadata": {
    "scrolled": true
   },
   "outputs": [
    {
     "data": {
      "text/plain": [
       "'<S ID=\"0\">nyt960214.0765</S>\\n<S ID=\"1\">A4505</S>\\n<S ID=\"2\">BC-<COREF ID=\"X0\">PANTEX</COREF>-<COREF ID=\"X1\">FLIGHTS</COREF>-TEX</S>\\n<S ID=\"3\"><COREF ID=\"X2\">02-14</COREF></S>\\n<S ID=\"4\">0535</S>\\n<S ID=\"5\">BC-PANTEX-FLIGHTS-TEX</S>\\n<S ID=\"6\"><COREF ID=\"X3\">FAA</COREF> UNDERESTIMATED <COREF ID=\"X4\">NUMBER OF FLIGHTS</COREF> OVER <COREF ID=\"X5\">PLUTONIUM</COREF> STORAGE AREA IN</S>\\n<S ID=\"7\">PANHANDLE</S>\\n<S ID=\"8\">(For use by NYTimes News Service clients)</S>\\n<S ID=\"9\">By HOLLACE WEINER</S>\\n<S ID=\"10\">c.<COREF ID=\"X6\">1996</COREF> Fort Worth Star-Telegram</S>\\n<S ID=\"11\">The Federal Aviation Administration underestimated the number of aircraft flying over the Pantex Weapons Plant outside <COREF ID=\"X7\">Amarillo</COREF>, <COREF ID=\"X8\">Texas</COREF>, where much of the nation\\'s surplus plutonium is stored, according to computerized studies under way by the <COREF ID=\"X9\">Energy Department</COREF>.</S>\\n<S ID=\"12\">The FAA counted <COREF ID=\"X10\">each flight</COREF> at <COREF ID=\"X11\">Amarillo International Airport</COREF> once.</S>\\n<S ID=\"13\">But <COREF ID=\"X12\">military training planes</COREF> make up to 30 passes per flight over the plant, according to the <COREF ID=\"X13\">Defense Nuclear Facilities Safety Board</COREF>.</S>\\n<S ID=\"14\">The secretary of Energy and local farmers have expressed concern that a plane crash into a plutonium storage bunker at Pantex could spread radioactive smoke for miles.</S>\\n<S ID=\"15\">Plutonium, a highly radioactive element, causes cancer if inhaled.</S>\\n<S ID=\"16\"><COREF ID=\"X14\">The risk of that scenario</COREF>, previously estimated at one chance in 10 million, is expected to increase when current flight data are analyzed later this year, according to a safety board memo dated May 2.</S>\\n<S ID=\"17\">``This doesn\\'t surprise <COREF ID=\"X15\">me</COREF> at all,\\'\\' said Trish Neusch, who farms <COREF ID=\"X16\">land near the plant</COREF> 17 miles northeast of Amarillo and 7 miles from the airport.</S>\\n<S ID=\"18\">``We are out there and see these planes all the time.\\'\\'</S>\\n<S ID=\"19\"><COREF ID=\"X17\">Mike McNulty</COREF>, the FAA air traffic manager at Amarillo International, said <COREF ID=\"X18\">the previous aircraft count</COREF>, conducted in late 1994, was a ``manual count on a pad,\\'\\' done informally by <COREF ID=\"X19\">air traffic controllers</COREF>.</S>\\n<S ID=\"20\">That 60-day accounting estimated that 25 planes a day entered <COREF ID=\"X20\">flight patterns</COREF> over the zone where plutonium is stored in concrete bunkers covered with earth and grass.</S>\\n<S ID=\"21\">Pantex is operated by the Energy Department through a private contractor and employs 3,600 workers, whose main mission is to dismantle nuclear warheads.</S>\\n<S ID=\"22\">The hollow plutonium ball at the core of each weapon is stored at the former weapons assembly plant.</S>\\n<S ID=\"23\">The Amarillo airport averages 250 takeoffs and landings per day, McNulty said.</S>\\n<S ID=\"24\"><COREF ID=\"X21\">About half the aircraft</COREF> are military planes assigned to Air Force bases in Texas, <COREF ID=\"X22\">Oklahoma</COREF>, Kansas and New Mexico, he said.</S>\\n<S ID=\"25\">About 25 percent of the airport traffic enters a flight pattern over the <COREF ID=\"X23\">plutonium storage bunkers</COREF>, McNulty said.</S>\\n<S ID=\"26\">For the past 14 months, air traffic controllers have tried to steer planes away from the bunkers, he said.</S>\\n<S ID=\"27\">Two of the airport\\'s dozen flight paths are directly above the nuclear storage area, McNulty said.</S>\\n<S ID=\"28\">One approach will be eliminated by late summer or early fall when a new instrument landing system is installed, he said.</S>\\n<S ID=\"29\">The second flight path cannot be altered until <COREF ID=\"X24\">sophisticated equipment</COREF>, called VORTAC, is phased out at Dallas/Fort Worth Airport and installed in Amarillo, he said.</S>\\n<S ID=\"30\">There is no target date for the transition.</S>\\n<S ID=\"31\">McNulty downplayed the dangers posed by <COREF ID=\"X25\">some military traffic</COREF> by noting that these planes often fly at high altitudes and stay 2 to 8 miles from the plutonium area.</S>\\n<S ID=\"32\">``<COREF ID=\"X26\">They</COREF> are counting something at 35,000 as well as 500 feet, when in actuality a plane would have to start falling in Oklahoma to hit the plant,\\'\\' McNulty said.</S>\\n<S ID=\"33\">``They are just collecting a lot of raw data.\\'\\'</S>\\n<S ID=\"34\">NYT-02-14-96 2111EST</S>'"
      ]
     },
     "execution_count": 120,
     "metadata": {},
     "output_type": "execute_result"
    }
   ],
   "source": [
    "full_text"
   ]
  },
  {
   "cell_type": "code",
   "execution_count": 138,
   "metadata": {},
   "outputs": [
    {
     "data": {
      "text/plain": [
       "False"
      ]
     },
     "execution_count": 138,
     "metadata": {},
     "output_type": "execute_result"
    }
   ],
   "source": [
    "'NUMBER OF FLIGHTS' in "
   ]
  },
  {
   "cell_type": "code",
   "execution_count": 149,
   "metadata": {},
   "outputs": [
    {
     "data": {
      "text/plain": [
       "['PANTEX', 'FLIGHTS', '02-14', 'FAA', 'NUMBER OF FLIGHTS', 'PLUTONIUM', '1996', 'Amarillo', 'Texas', 'Energy Department', 'each flight', 'Amarillo International Airport', 'military training planes', 'Defense Nuclear Facilities Safety Board', 'The risk of that scenario', 'me', 'land near the plant', 'Mike McNulty', 'the previous aircraft count', 'air traffic controllers', 'flight patterns', 'About half the aircraft', 'Oklahoma', 'plutonium storage bunkers', 'sophisticated equipment', 'some military traffic', 'They']"
      ]
     },
     "execution_count": 149,
     "metadata": {},
     "output_type": "execute_result"
    }
   ],
   "source": [
    "list(map(lambda x:x[1], list(cluster_head_dict.values())))"
   ]
  },
  {
   "cell_type": "code",
   "execution_count": null,
   "metadata": {},
   "outputs": [],
   "source": []
  },
  {
   "cell_type": "code",
   "execution_count": null,
   "metadata": {},
   "outputs": [],
   "source": []
  },
  {
   "cell_type": "code",
   "execution_count": null,
   "metadata": {},
   "outputs": [],
   "source": []
  },
  {
   "cell_type": "code",
   "execution_count": null,
   "metadata": {},
   "outputs": [],
   "source": []
  },
  {
   "cell_type": "code",
   "execution_count": 16,
   "metadata": {},
   "outputs": [],
   "source": [
    "import re"
   ]
  },
  {
   "cell_type": "code",
   "execution_count": 97,
   "metadata": {},
   "outputs": [
    {
     "name": "stdout",
     "output_type": "stream",
     "text": [
      "nyt960214.0765\n"
     ]
    }
   ],
   "source": [
    "# for sentence in list_of_sentences:\n",
    "#     clean = re.compile('<.*?>')\n",
    "#     clean_sentence = re.sub(clean, '', sentence)\n",
    "#     print(clean_sentence, end = '')\n",
    "#     break"
   ]
  },
  {
   "cell_type": "code",
   "execution_count": 87,
   "metadata": {},
   "outputs": [],
   "source": [
    "a = text[6]"
   ]
  },
  {
   "cell_type": "code",
   "execution_count": 121,
   "metadata": {},
   "outputs": [],
   "source": [
    "clean = re.compile('<.*?>')\n",
    "clean_sentence = re.sub(clean, '', full_text)"
   ]
  },
  {
   "cell_type": "code",
   "execution_count": 122,
   "metadata": {
    "collapsed": true
   },
   "outputs": [
    {
     "data": {
      "text/plain": [
       "\"nyt960214.0765\\nA4505\\nBC-PANTEX-FLIGHTS-TEX\\n02-14\\n0535\\nBC-PANTEX-FLIGHTS-TEX\\nFAA UNDERESTIMATED NUMBER OF FLIGHTS OVER PLUTONIUM STORAGE AREA IN\\nPANHANDLE\\n(For use by NYTimes News Service clients)\\nBy HOLLACE WEINER\\nc.1996 Fort Worth Star-Telegram\\nThe Federal Aviation Administration underestimated the number of aircraft flying over the Pantex Weapons Plant outside Amarillo, Texas, where much of the nation's surplus plutonium is stored, according to computerized studies under way by the Energy Department.\\nThe FAA counted each flight at Amarillo International Airport once.\\nBut military training planes make up to 30 passes per flight over the plant, according to the Defense Nuclear Facilities Safety Board.\\nThe secretary of Energy and local farmers have expressed concern that a plane crash into a plutonium storage bunker at Pantex could spread radioactive smoke for miles.\\nPlutonium, a highly radioactive element, causes cancer if inhaled.\\nThe risk of that scenario, previously estimated at one chance in 10 million, is expected to increase when current flight data are analyzed later this year, according to a safety board memo dated May 2.\\n``This doesn't surprise me at all,'' said Trish Neusch, who farms land near the plant 17 miles northeast of Amarillo and 7 miles from the airport.\\n``We are out there and see these planes all the time.''\\nMike McNulty, the FAA air traffic manager at Amarillo International, said the previous aircraft count, conducted in late 1994, was a ``manual count on a pad,'' done informally by air traffic controllers.\\nThat 60-day accounting estimated that 25 planes a day entered flight patterns over the zone where plutonium is stored in concrete bunkers covered with earth and grass.\\nPantex is operated by the Energy Department through a private contractor and employs 3,600 workers, whose main mission is to dismantle nuclear warheads.\\nThe hollow plutonium ball at the core of each weapon is stored at the former weapons assembly plant.\\nThe Amarillo airport averages 250 takeoffs and landings per day, McNulty said.\\nAbout half the aircraft are military planes assigned to Air Force bases in Texas, Oklahoma, Kansas and New Mexico, he said.\\nAbout 25 percent of the airport traffic enters a flight pattern over the plutonium storage bunkers, McNulty said.\\nFor the past 14 months, air traffic controllers have tried to steer planes away from the bunkers, he said.\\nTwo of the airport's dozen flight paths are directly above the nuclear storage area, McNulty said.\\nOne approach will be eliminated by late summer or early fall when a new instrument landing system is installed, he said.\\nThe second flight path cannot be altered until sophisticated equipment, called VORTAC, is phased out at Dallas/Fort Worth Airport and installed in Amarillo, he said.\\nThere is no target date for the transition.\\nMcNulty downplayed the dangers posed by some military traffic by noting that these planes often fly at high altitudes and stay 2 to 8 miles from the plutonium area.\\n``They are counting something at 35,000 as well as 500 feet, when in actuality a plane would have to start falling in Oklahoma to hit the plant,'' McNulty said.\\n``They are just collecting a lot of raw data.''\\nNYT-02-14-96 2111EST\""
      ]
     },
     "execution_count": 122,
     "metadata": {},
     "output_type": "execute_result"
    }
   ],
   "source": [
    "clean_sentence"
   ]
  },
  {
   "cell_type": "code",
   "execution_count": 108,
   "metadata": {},
   "outputs": [
    {
     "data": {
      "text/plain": [
       "['FAA', 'UNDERESTIMATED', 'NUMBER', 'OF', 'FLIGHTS', 'OVER', 'PLUTONIUM', 'STORAGE', 'AREA', 'IN\\n']"
      ]
     },
     "execution_count": 108,
     "metadata": {},
     "output_type": "execute_result"
    }
   ],
   "source": [
    "li = []\n",
    "for word in clean_sentence.split(\" \"):\n",
    "    if(word not in cluster_head_dict):\n",
    "        print(word)\n",
    "    "
   ]
  },
  {
   "cell_type": "code",
   "execution_count": null,
   "metadata": {},
   "outputs": [],
   "source": []
  },
  {
   "cell_type": "code",
   "execution_count": 1,
   "metadata": {},
   "outputs": [],
   "source": [
    "import spacy"
   ]
  },
  {
   "cell_type": "code",
   "execution_count": 2,
   "metadata": {},
   "outputs": [],
   "source": [
    "nlp = spacy.load(\"en_core_web_sm\")"
   ]
  },
  {
   "cell_type": "code",
   "execution_count": 126,
   "metadata": {
    "scrolled": true
   },
   "outputs": [],
   "source": [
    "doc = nlp(clean_sentence)"
   ]
  },
  {
   "cell_type": "code",
   "execution_count": 127,
   "metadata": {
    "collapsed": true
   },
   "outputs": [
    {
     "data": {
      "text/plain": [
       "nyt960214.0765\n",
       "A4505\n",
       "BC-PANTEX-FLIGHTS-TEX\n",
       "02-14\n",
       "0535\n",
       "BC-PANTEX-FLIGHTS-TEX\n",
       "FAA UNDERESTIMATED NUMBER OF FLIGHTS OVER PLUTONIUM STORAGE AREA IN\n",
       "PANHANDLE\n",
       "(For use by NYTimes News Service clients)\n",
       "By HOLLACE WEINER\n",
       "c.1996 Fort Worth Star-Telegram\n",
       "The Federal Aviation Administration underestimated the number of aircraft flying over the Pantex Weapons Plant outside Amarillo, Texas, where much of the nation's surplus plutonium is stored, according to computerized studies under way by the Energy Department.\n",
       "The FAA counted each flight at Amarillo International Airport once.\n",
       "But military training planes make up to 30 passes per flight over the plant, according to the Defense Nuclear Facilities Safety Board.\n",
       "The secretary of Energy and local farmers have expressed concern that a plane crash into a plutonium storage bunker at Pantex could spread radioactive smoke for miles.\n",
       "Plutonium, a highly radioactive element, causes cancer if inhaled.\n",
       "The risk of that scenario, previously estimated at one chance in 10 million, is expected to increase when current flight data are analyzed later this year, according to a safety board memo dated May 2.\n",
       "``This doesn't surprise me at all,'' said Trish Neusch, who farms land near the plant 17 miles northeast of Amarillo and 7 miles from the airport.\n",
       "``We are out there and see these planes all the time.''\n",
       "Mike McNulty, the FAA air traffic manager at Amarillo International, said the previous aircraft count, conducted in late 1994, was a ``manual count on a pad,'' done informally by air traffic controllers.\n",
       "That 60-day accounting estimated that 25 planes a day entered flight patterns over the zone where plutonium is stored in concrete bunkers covered with earth and grass.\n",
       "Pantex is operated by the Energy Department through a private contractor and employs 3,600 workers, whose main mission is to dismantle nuclear warheads.\n",
       "The hollow plutonium ball at the core of each weapon is stored at the former weapons assembly plant.\n",
       "The Amarillo airport averages 250 takeoffs and landings per day, McNulty said.\n",
       "About half the aircraft are military planes assigned to Air Force bases in Texas, Oklahoma, Kansas and New Mexico, he said.\n",
       "About 25 percent of the airport traffic enters a flight pattern over the plutonium storage bunkers, McNulty said.\n",
       "For the past 14 months, air traffic controllers have tried to steer planes away from the bunkers, he said.\n",
       "Two of the airport's dozen flight paths are directly above the nuclear storage area, McNulty said.\n",
       "One approach will be eliminated by late summer or early fall when a new instrument landing system is installed, he said.\n",
       "The second flight path cannot be altered until sophisticated equipment, called VORTAC, is phased out at Dallas/Fort Worth Airport and installed in Amarillo, he said.\n",
       "There is no target date for the transition.\n",
       "McNulty downplayed the dangers posed by some military traffic by noting that these planes often fly at high altitudes and stay 2 to 8 miles from the plutonium area.\n",
       "``They are counting something at 35,000 as well as 500 feet, when in actuality a plane would have to start falling in Oklahoma to hit the plant,'' McNulty said.\n",
       "``They are just collecting a lot of raw data.''\n",
       "NYT-02-14-96 2111EST"
      ]
     },
     "execution_count": 127,
     "metadata": {},
     "output_type": "execute_result"
    }
   ],
   "source": [
    "doc"
   ]
  },
  {
   "cell_type": "code",
   "execution_count": null,
   "metadata": {},
   "outputs": [],
   "source": []
  },
  {
   "cell_type": "code",
   "execution_count": null,
   "metadata": {},
   "outputs": [],
   "source": []
  },
  {
   "cell_type": "code",
   "execution_count": 132,
   "metadata": {},
   "outputs": [
    {
     "data": {
      "text/plain": [
       "(nyt960214.0765\n",
       "A4505, FLIGHTS, NYTimes News Service, HOLLACE WEINER\n",
       ", Fort Worth Star-Telegram\n",
       ", The Federal Aviation Administration, Amarillo, Texas, the Energy Department, FAA, Amarillo International Airport, 30, the Defense Nuclear Facilities Safety Board, Energy, Pantex, one, 10 million, later this year, May 2, Trish Neusch, 17 miles, Amarillo, 7 miles, Mike McNulty, FAA, Amarillo International, late 1994, 25, the Energy Department, 3,600, Amarillo, 250, McNulty, About half, Air Force, Texas, Oklahoma, Kansas, New Mexico, About 25 percent, McNulty, the past 14 months, Two, dozen, McNulty, late summer, early fall, second, VORTAC, Dallas, Fort Worth Airport, Amarillo, 2 to 8 miles, 35,000, 500 feet, Oklahoma, McNulty)"
      ]
     },
     "execution_count": 132,
     "metadata": {},
     "output_type": "execute_result"
    }
   ],
   "source": [
    "doc.ents"
   ]
  },
  {
   "cell_type": "code",
   "execution_count": 130,
   "metadata": {},
   "outputs": [
    {
     "data": {
      "text/plain": [
       "'Countries, cities, states'"
      ]
     },
     "execution_count": 130,
     "metadata": {},
     "output_type": "execute_result"
    }
   ],
   "source": [
    "spacy.explain(\"GPE\")"
   ]
  },
  {
   "cell_type": "code",
   "execution_count": 134,
   "metadata": {},
   "outputs": [
    {
     "data": {
      "text/plain": [
       "nyt960214.0765\n",
       "A4505\n",
       "BC-PANTEX-FLIGHTS-TEX\n",
       "02-14\n",
       "0535\n",
       "BC-PANTEX-FLIGHTS-TEX\n",
       "FAA UNDERESTIMATED NUMBER OF FLIGHTS OVER PLUTONIUM STORAGE AREA IN\n",
       "PANHANDLE\n",
       "(For use by NYTimes News Service clients)\n",
       "By HOLLACE WEINER\n",
       "c.1996 Fort Worth Star-Telegram\n",
       "The Federal Aviation Administration underestimated the number of aircraft flying over the Pantex Weapons Plant outside Amarillo, Texas, where much of the nation's surplus plutonium is stored, according to computerized studies under way by the Energy Department.\n",
       "The FAA counted each flight at Amarillo International Airport once.\n",
       "But military training planes make up to 30 passes per flight over the plant, according to the Defense Nuclear Facilities Safety Board.\n",
       "The secretary of Energy and local farmers have expressed concern that a plane crash into a plutonium storage bunker at Pantex could spread radioactive smoke for miles.\n",
       "Plutonium, a highly radioactive element, causes cancer if inhaled.\n",
       "The risk of that scenario, previously estimated at one chance in 10 million, is expected to increase when current flight data are analyzed later this year, according to a safety board memo dated May 2.\n",
       "``This doesn't surprise me at all,'' said Trish Neusch, who farms land near the plant 17 miles northeast of Amarillo and 7 miles from the airport.\n",
       "``We are out there and see these planes all the time.''\n",
       "Mike McNulty, the FAA air traffic manager at Amarillo International, said the previous aircraft count, conducted in late 1994, was a ``manual count on a pad,'' done informally by air traffic controllers.\n",
       "That 60-day accounting estimated that 25 planes a day entered flight patterns over the zone where plutonium is stored in concrete bunkers covered with earth and grass.\n",
       "Pantex is operated by the Energy Department through a private contractor and employs 3,600 workers, whose main mission is to dismantle nuclear warheads.\n",
       "The hollow plutonium ball at the core of each weapon is stored at the former weapons assembly plant.\n",
       "The Amarillo airport averages 250 takeoffs and landings per day, McNulty said.\n",
       "About half the aircraft are military planes assigned to Air Force bases in Texas, Oklahoma, Kansas and New Mexico, he said.\n",
       "About 25 percent of the airport traffic enters a flight pattern over the plutonium storage bunkers, McNulty said.\n",
       "For the past 14 months, air traffic controllers have tried to steer planes away from the bunkers, he said.\n",
       "Two of the airport's dozen flight paths are directly above the nuclear storage area, McNulty said.\n",
       "One approach will be eliminated by late summer or early fall when a new instrument landing system is installed, he said.\n",
       "The second flight path cannot be altered until sophisticated equipment, called VORTAC, is phased out at Dallas/Fort Worth Airport and installed in Amarillo, he said.\n",
       "There is no target date for the transition.\n",
       "McNulty downplayed the dangers posed by some military traffic by noting that these planes often fly at high altitudes and stay 2 to 8 miles from the plutonium area.\n",
       "``They are counting something at 35,000 as well as 500 feet, when in actuality a plane would have to start falling in Oklahoma to hit the plant,'' McNulty said.\n",
       "``They are just collecting a lot of raw data.''\n",
       "NYT-02-14-96 2111EST"
      ]
     },
     "execution_count": 134,
     "metadata": {},
     "output_type": "execute_result"
    }
   ],
   "source": [
    "doc"
   ]
  },
  {
   "cell_type": "code",
   "execution_count": 133,
   "metadata": {},
   "outputs": [
    {
     "name": "stdout",
     "output_type": "stream",
     "text": [
      "[(nyt960214.0765, 'B', 'ORG'), (\n",
      ", 'I', 'ORG'), (A4505, 'I', 'ORG'), (\n",
      ", 'O', ''), (BC, 'O', ''), (-, 'O', ''), (PANTEX, 'O', ''), (-, 'O', ''), (FLIGHTS, 'O', ''), (-, 'O', ''), (TEX, 'O', ''), (\n",
      ", 'O', ''), (02, 'O', ''), (-, 'O', ''), (14, 'O', ''), (\n",
      ", 'O', ''), (0535, 'O', ''), (\n",
      ", 'O', ''), (BC, 'O', ''), (-, 'O', ''), (PANTEX, 'O', ''), (-, 'O', ''), (FLIGHTS, 'O', ''), (-, 'O', ''), (TEX, 'O', ''), (\n",
      ", 'O', ''), (FAA, 'O', ''), (UNDERESTIMATED, 'O', ''), (NUMBER, 'O', ''), (OF, 'O', ''), (FLIGHTS, 'B', 'ORG'), (OVER, 'O', ''), (PLUTONIUM, 'O', ''), (STORAGE, 'O', ''), (AREA, 'O', ''), (IN, 'O', ''), (\n",
      ", 'O', ''), (PANHANDLE, 'O', ''), (\n",
      ", 'O', ''), ((, 'O', ''), (For, 'O', ''), (use, 'O', ''), (by, 'O', ''), (NYTimes, 'B', 'ORG'), (News, 'I', 'ORG'), (Service, 'I', 'ORG'), (clients, 'O', ''), (), 'O', ''), (\n",
      ", 'O', ''), (By, 'O', ''), (HOLLACE, 'B', 'ORG'), (WEINER, 'I', 'ORG'), (\n",
      ", 'I', 'ORG'), (c.1996, 'O', ''), (Fort, 'B', 'FAC'), (Worth, 'I', 'FAC'), (Star, 'I', 'FAC'), (-, 'I', 'FAC'), (Telegram, 'I', 'FAC'), (\n",
      ", 'I', 'FAC'), (The, 'B', 'ORG'), (Federal, 'I', 'ORG'), (Aviation, 'I', 'ORG'), (Administration, 'I', 'ORG'), (underestimated, 'O', ''), (the, 'O', ''), (number, 'O', ''), (of, 'O', ''), (aircraft, 'O', ''), (flying, 'O', ''), (over, 'O', ''), (the, 'O', ''), (Pantex, 'O', ''), (Weapons, 'O', ''), (Plant, 'O', ''), (outside, 'O', ''), (Amarillo, 'B', 'GPE'), (,, 'O', ''), (Texas, 'B', 'GPE'), (,, 'O', ''), (where, 'O', ''), (much, 'O', ''), (of, 'O', ''), (the, 'O', ''), (nation, 'O', ''), ('s, 'O', ''), (surplus, 'O', ''), (plutonium, 'O', ''), (is, 'O', ''), (stored, 'O', ''), (,, 'O', ''), (according, 'O', ''), (to, 'O', ''), (computerized, 'O', ''), (studies, 'O', ''), (under, 'O', ''), (way, 'O', ''), (by, 'O', ''), (the, 'B', 'ORG'), (Energy, 'I', 'ORG'), (Department, 'I', 'ORG'), (., 'O', ''), (\n",
      ", 'O', ''), (The, 'O', ''), (FAA, 'B', 'ORG'), (counted, 'O', ''), (each, 'O', ''), (flight, 'O', ''), (at, 'O', ''), (Amarillo, 'B', 'FAC'), (International, 'I', 'FAC'), (Airport, 'I', 'FAC'), (once, 'O', ''), (., 'O', ''), (\n",
      ", 'O', ''), (But, 'O', ''), (military, 'O', ''), (training, 'O', ''), (planes, 'O', ''), (make, 'O', ''), (up, 'O', ''), (to, 'O', ''), (30, 'B', 'CARDINAL'), (passes, 'O', ''), (per, 'O', ''), (flight, 'O', ''), (over, 'O', ''), (the, 'O', ''), (plant, 'O', ''), (,, 'O', ''), (according, 'O', ''), (to, 'O', ''), (the, 'B', 'ORG'), (Defense, 'I', 'ORG'), (Nuclear, 'I', 'ORG'), (Facilities, 'I', 'ORG'), (Safety, 'I', 'ORG'), (Board, 'I', 'ORG'), (., 'O', ''), (\n",
      ", 'O', ''), (The, 'O', ''), (secretary, 'O', ''), (of, 'O', ''), (Energy, 'B', 'ORG'), (and, 'O', ''), (local, 'O', ''), (farmers, 'O', ''), (have, 'O', ''), (expressed, 'O', ''), (concern, 'O', ''), (that, 'O', ''), (a, 'O', ''), (plane, 'O', ''), (crash, 'O', ''), (into, 'O', ''), (a, 'O', ''), (plutonium, 'O', ''), (storage, 'O', ''), (bunker, 'O', ''), (at, 'O', ''), (Pantex, 'B', 'ORG'), (could, 'O', ''), (spread, 'O', ''), (radioactive, 'O', ''), (smoke, 'O', ''), (for, 'O', ''), (miles, 'O', ''), (., 'O', ''), (\n",
      ", 'O', ''), (Plutonium, 'O', ''), (,, 'O', ''), (a, 'O', ''), (highly, 'O', ''), (radioactive, 'O', ''), (element, 'O', ''), (,, 'O', ''), (causes, 'O', ''), (cancer, 'O', ''), (if, 'O', ''), (inhaled, 'O', ''), (., 'O', ''), (\n",
      ", 'O', ''), (The, 'O', ''), (risk, 'O', ''), (of, 'O', ''), (that, 'O', ''), (scenario, 'O', ''), (,, 'O', ''), (previously, 'O', ''), (estimated, 'O', ''), (at, 'O', ''), (one, 'B', 'CARDINAL'), (chance, 'O', ''), (in, 'O', ''), (10, 'B', 'CARDINAL'), (million, 'I', 'CARDINAL'), (,, 'O', ''), (is, 'O', ''), (expected, 'O', ''), (to, 'O', ''), (increase, 'O', ''), (when, 'O', ''), (current, 'O', ''), (flight, 'O', ''), (data, 'O', ''), (are, 'O', ''), (analyzed, 'O', ''), (later, 'B', 'DATE'), (this, 'I', 'DATE'), (year, 'I', 'DATE'), (,, 'O', ''), (according, 'O', ''), (to, 'O', ''), (a, 'O', ''), (safety, 'O', ''), (board, 'O', ''), (memo, 'O', ''), (dated, 'O', ''), (May, 'B', 'DATE'), (2, 'I', 'DATE'), (., 'O', ''), (\n",
      ", 'O', ''), (`, 'O', ''), (`, 'O', ''), (This, 'O', ''), (does, 'O', ''), (n't, 'O', ''), (surprise, 'O', ''), (me, 'O', ''), (at, 'O', ''), (all, 'O', ''), (,, 'O', ''), (', 'O', ''), (', 'O', ''), (said, 'O', ''), (Trish, 'B', 'PERSON'), (Neusch, 'I', 'PERSON'), (,, 'O', ''), (who, 'O', ''), (farms, 'O', ''), (land, 'O', ''), (near, 'O', ''), (the, 'O', ''), (plant, 'O', ''), (17, 'B', 'QUANTITY'), (miles, 'I', 'QUANTITY'), (northeast, 'O', ''), (of, 'O', ''), (Amarillo, 'B', 'GPE'), (and, 'O', ''), (7, 'B', 'QUANTITY'), (miles, 'I', 'QUANTITY'), (from, 'O', ''), (the, 'O', ''), (airport, 'O', ''), (., 'O', ''), (\n",
      ", 'O', ''), (`, 'O', ''), (`, 'O', ''), (We, 'O', ''), (are, 'O', ''), (out, 'O', ''), (there, 'O', ''), (and, 'O', ''), (see, 'O', ''), (these, 'O', ''), (planes, 'O', ''), (all, 'O', ''), (the, 'O', ''), (time, 'O', ''), (., 'O', ''), (', 'O', ''), (', 'O', ''), (\n",
      ", 'O', ''), (Mike, 'B', 'PERSON'), (McNulty, 'I', 'PERSON'), (,, 'O', ''), (the, 'O', ''), (FAA, 'B', 'ORG'), (air, 'O', ''), (traffic, 'O', ''), (manager, 'O', ''), (at, 'O', ''), (Amarillo, 'B', 'ORG'), (International, 'I', 'ORG'), (,, 'O', ''), (said, 'O', ''), (the, 'O', ''), (previous, 'O', ''), (aircraft, 'O', ''), (count, 'O', ''), (,, 'O', ''), (conducted, 'O', ''), (in, 'O', ''), (late, 'B', 'DATE'), (1994, 'I', 'DATE'), (,, 'O', ''), (was, 'O', ''), (a, 'O', ''), (`, 'O', ''), (`, 'O', ''), (manual, 'O', ''), (count, 'O', ''), (on, 'O', ''), (a, 'O', ''), (pad, 'O', ''), (,, 'O', ''), (', 'O', ''), (', 'O', ''), (done, 'O', ''), (informally, 'O', ''), (by, 'O', ''), (air, 'O', ''), (traffic, 'O', ''), (controllers, 'O', ''), (., 'O', ''), (\n",
      ", 'O', ''), (That, 'O', ''), (60-day, 'O', ''), (accounting, 'O', ''), (estimated, 'O', ''), (that, 'O', ''), (25, 'B', 'CARDINAL'), (planes, 'O', ''), (a, 'O', ''), (day, 'O', ''), (entered, 'O', ''), (flight, 'O', ''), (patterns, 'O', ''), (over, 'O', ''), (the, 'O', ''), (zone, 'O', ''), (where, 'O', ''), (plutonium, 'O', ''), (is, 'O', ''), (stored, 'O', ''), (in, 'O', ''), (concrete, 'O', ''), (bunkers, 'O', ''), (covered, 'O', ''), (with, 'O', ''), (earth, 'O', ''), (and, 'O', ''), (grass, 'O', ''), (., 'O', ''), (\n",
      ", 'O', ''), (Pantex, 'O', ''), (is, 'O', ''), (operated, 'O', ''), (by, 'O', ''), (the, 'B', 'ORG'), (Energy, 'I', 'ORG'), (Department, 'I', 'ORG'), (through, 'O', ''), (a, 'O', ''), (private, 'O', ''), (contractor, 'O', ''), (and, 'O', ''), (employs, 'O', ''), (3,600, 'B', 'CARDINAL'), (workers, 'O', ''), (,, 'O', ''), (whose, 'O', ''), (main, 'O', ''), (mission, 'O', ''), (is, 'O', ''), (to, 'O', ''), (dismantle, 'O', ''), (nuclear, 'O', ''), (warheads, 'O', ''), (., 'O', ''), (\n",
      ", 'O', ''), (The, 'O', ''), (hollow, 'O', ''), (plutonium, 'O', ''), (ball, 'O', ''), (at, 'O', ''), (the, 'O', ''), (core, 'O', ''), (of, 'O', ''), (each, 'O', ''), (weapon, 'O', ''), (is, 'O', ''), (stored, 'O', ''), (at, 'O', ''), (the, 'O', ''), (former, 'O', ''), (weapons, 'O', ''), (assembly, 'O', ''), (plant, 'O', ''), (., 'O', ''), (\n",
      ", 'O', ''), (The, 'O', ''), (Amarillo, 'B', 'ORG'), (airport, 'O', ''), (averages, 'O', ''), (250, 'B', 'CARDINAL'), (takeoffs, 'O', ''), (and, 'O', ''), (landings, 'O', ''), (per, 'O', ''), (day, 'O', ''), (,, 'O', ''), (McNulty, 'B', 'PERSON'), (said, 'O', ''), (., 'O', ''), (\n",
      ", 'O', ''), (About, 'B', 'CARDINAL'), (half, 'I', 'CARDINAL'), (the, 'O', ''), (aircraft, 'O', ''), (are, 'O', ''), (military, 'O', ''), (planes, 'O', ''), (assigned, 'O', ''), (to, 'O', ''), (Air, 'B', 'ORG'), (Force, 'I', 'ORG'), (bases, 'O', ''), (in, 'O', ''), (Texas, 'B', 'GPE'), (,, 'O', ''), (Oklahoma, 'B', 'GPE'), (,, 'O', ''), (Kansas, 'B', 'GPE'), (and, 'O', ''), (New, 'B', 'GPE'), (Mexico, 'I', 'GPE'), (,, 'O', ''), (he, 'O', ''), (said, 'O', ''), (., 'O', ''), (\n",
      ", 'O', ''), (About, 'B', 'PERCENT'), (25, 'I', 'PERCENT'), (percent, 'I', 'PERCENT'), (of, 'O', ''), (the, 'O', ''), (airport, 'O', ''), (traffic, 'O', ''), (enters, 'O', ''), (a, 'O', ''), (flight, 'O', ''), (pattern, 'O', ''), (over, 'O', ''), (the, 'O', ''), (plutonium, 'O', ''), (storage, 'O', ''), (bunkers, 'O', ''), (,, 'O', ''), (McNulty, 'B', 'PERSON'), (said, 'O', ''), (., 'O', ''), (\n",
      ", 'O', ''), (For, 'O', ''), (the, 'B', 'DATE'), (past, 'I', 'DATE'), (14, 'I', 'DATE'), (months, 'I', 'DATE'), (,, 'O', ''), (air, 'O', ''), (traffic, 'O', ''), (controllers, 'O', ''), (have, 'O', ''), (tried, 'O', ''), (to, 'O', ''), (steer, 'O', ''), (planes, 'O', ''), (away, 'O', ''), (from, 'O', ''), (the, 'O', ''), (bunkers, 'O', ''), (,, 'O', ''), (he, 'O', ''), (said, 'O', ''), (., 'O', ''), (\n",
      ", 'O', ''), (Two, 'B', 'CARDINAL'), (of, 'O', ''), (the, 'O', ''), (airport, 'O', ''), ('s, 'O', ''), (dozen, 'B', 'CARDINAL'), (flight, 'O', ''), (paths, 'O', ''), (are, 'O', ''), (directly, 'O', ''), (above, 'O', ''), (the, 'O', ''), (nuclear, 'O', ''), (storage, 'O', ''), (area, 'O', ''), (,, 'O', ''), (McNulty, 'B', 'PERSON'), (said, 'O', ''), (., 'O', ''), (\n",
      ", 'O', ''), (One, 'O', ''), (approach, 'O', ''), (will, 'O', ''), (be, 'O', ''), (eliminated, 'O', ''), (by, 'O', ''), (late, 'B', 'DATE'), (summer, 'I', 'DATE'), (or, 'O', ''), (early, 'B', 'DATE'), (fall, 'I', 'DATE'), (when, 'O', ''), (a, 'O', ''), (new, 'O', ''), (instrument, 'O', ''), (landing, 'O', ''), (system, 'O', ''), (is, 'O', ''), (installed, 'O', ''), (,, 'O', ''), (he, 'O', ''), (said, 'O', ''), (., 'O', ''), (\n",
      ", 'O', ''), (The, 'O', ''), (second, 'B', 'ORDINAL'), (flight, 'O', ''), (path, 'O', ''), (can, 'O', ''), (not, 'O', ''), (be, 'O', ''), (altered, 'O', ''), (until, 'O', ''), (sophisticated, 'O', ''), (equipment, 'O', ''), (,, 'O', ''), (called, 'O', ''), (VORTAC, 'B', 'ORG'), (,, 'O', ''), (is, 'O', ''), (phased, 'O', ''), (out, 'O', ''), (at, 'O', ''), (Dallas, 'B', 'GPE'), (/, 'O', ''), (Fort, 'B', 'FAC'), (Worth, 'I', 'FAC'), (Airport, 'I', 'FAC'), (and, 'O', ''), (installed, 'O', ''), (in, 'O', ''), (Amarillo, 'B', 'GPE'), (,, 'O', ''), (he, 'O', ''), (said, 'O', ''), (., 'O', ''), (\n",
      ", 'O', ''), (There, 'O', ''), (is, 'O', ''), (no, 'O', ''), (target, 'O', ''), (date, 'O', ''), (for, 'O', ''), (the, 'O', ''), (transition, 'O', ''), (., 'O', ''), (\n",
      ", 'O', ''), (McNulty, 'O', ''), (downplayed, 'O', ''), (the, 'O', ''), (dangers, 'O', ''), (posed, 'O', ''), (by, 'O', ''), (some, 'O', ''), (military, 'O', ''), (traffic, 'O', ''), (by, 'O', ''), (noting, 'O', ''), (that, 'O', ''), (these, 'O', ''), (planes, 'O', ''), (often, 'O', ''), (fly, 'O', ''), (at, 'O', ''), (high, 'O', ''), (altitudes, 'O', ''), (and, 'O', ''), (stay, 'O', ''), (2, 'B', 'QUANTITY'), (to, 'I', 'QUANTITY'), (8, 'I', 'QUANTITY'), (miles, 'I', 'QUANTITY'), (from, 'O', ''), (the, 'O', ''), (plutonium, 'O', ''), (area, 'O', ''), (., 'O', ''), (\n",
      ", 'O', ''), (`, 'O', ''), (`, 'O', ''), (They, 'O', ''), (are, 'O', ''), (counting, 'O', ''), (something, 'O', ''), (at, 'O', ''), (35,000, 'B', 'CARDINAL'), (as, 'O', ''), (well, 'O', ''), (as, 'O', ''), (500, 'B', 'QUANTITY'), (feet, 'I', 'QUANTITY'), (,, 'O', ''), (when, 'O', ''), (in, 'O', ''), (actuality, 'O', ''), (a, 'O', ''), (plane, 'O', ''), (would, 'O', ''), (have, 'O', ''), (to, 'O', ''), (start, 'O', ''), (falling, 'O', ''), (in, 'O', ''), (Oklahoma, 'B', 'GPE'), (to, 'O', ''), (hit, 'O', ''), (the, 'O', ''), (plant, 'O', ''), (,, 'O', ''), (', 'O', ''), (', 'O', ''), (McNulty, 'B', 'PERSON'), (said, 'O', ''), (., 'O', ''), (\n",
      ", 'O', ''), (`, 'O', ''), (`, 'O', ''), (They, 'O', ''), (are, 'O', ''), (just, 'O', ''), (collecting, 'O', ''), (a, 'O', ''), (lot, 'O', ''), (of, 'O', ''), (raw, 'O', ''), (data, 'O', ''), (., 'O', ''), (', 'O', ''), (', 'O', ''), (\n",
      ", 'O', ''), (NYT-02, 'O', ''), (-, 'O', ''), (14, 'O', ''), (-, 'O', ''), (96, 'O', ''), (2111EST, 'O', '')]\n"
     ]
    }
   ],
   "source": [
    "print([(X, X.ent_iob_, X.ent_type_) for X in doc])"
   ]
  },
  {
   "cell_type": "code",
   "execution_count": 128,
   "metadata": {},
   "outputs": [
    {
     "name": "stdout",
     "output_type": "stream",
     "text": [
      "[('nyt960214.0765\\nA4505', 'ORG'), ('FLIGHTS', 'ORG'), ('NYTimes News Service', 'ORG'), ('HOLLACE WEINER\\n', 'ORG'), ('Fort Worth Star-Telegram\\n', 'FAC'), ('The Federal Aviation Administration', 'ORG'), ('Amarillo', 'GPE'), ('Texas', 'GPE'), ('the Energy Department', 'ORG'), ('FAA', 'ORG'), ('Amarillo International Airport', 'FAC'), ('30', 'CARDINAL'), ('the Defense Nuclear Facilities Safety Board', 'ORG'), ('Energy', 'ORG'), ('Pantex', 'ORG'), ('one', 'CARDINAL'), ('10 million', 'CARDINAL'), ('later this year', 'DATE'), ('May 2', 'DATE'), ('Trish Neusch', 'PERSON'), ('17 miles', 'QUANTITY'), ('Amarillo', 'GPE'), ('7 miles', 'QUANTITY'), ('Mike McNulty', 'PERSON'), ('FAA', 'ORG'), ('Amarillo International', 'ORG'), ('late 1994', 'DATE'), ('25', 'CARDINAL'), ('the Energy Department', 'ORG'), ('3,600', 'CARDINAL'), ('Amarillo', 'ORG'), ('250', 'CARDINAL'), ('McNulty', 'PERSON'), ('About half', 'CARDINAL'), ('Air Force', 'ORG'), ('Texas', 'GPE'), ('Oklahoma', 'GPE'), ('Kansas', 'GPE'), ('New Mexico', 'GPE'), ('About 25 percent', 'PERCENT'), ('McNulty', 'PERSON'), ('the past 14 months', 'DATE'), ('Two', 'CARDINAL'), ('dozen', 'CARDINAL'), ('McNulty', 'PERSON'), ('late summer', 'DATE'), ('early fall', 'DATE'), ('second', 'ORDINAL'), ('VORTAC', 'ORG'), ('Dallas', 'GPE'), ('Fort Worth Airport', 'FAC'), ('Amarillo', 'GPE'), ('2 to 8 miles', 'QUANTITY'), ('35,000', 'CARDINAL'), ('500 feet', 'QUANTITY'), ('Oklahoma', 'GPE'), ('McNulty', 'PERSON')]\n"
     ]
    }
   ],
   "source": [
    "print([(X.text, X.label_) for X in doc.ents])"
   ]
  }
 ],
 "metadata": {
  "kernelspec": {
   "display_name": "Python 3",
   "language": "python",
   "name": "python3"
  },
  "language_info": {
   "codemirror_mode": {
    "name": "ipython",
    "version": 3
   },
   "file_extension": ".py",
   "mimetype": "text/x-python",
   "name": "python",
   "nbconvert_exporter": "python",
   "pygments_lexer": "ipython3",
   "version": "3.7.4"
  }
 },
 "nbformat": 4,
 "nbformat_minor": 2
}
